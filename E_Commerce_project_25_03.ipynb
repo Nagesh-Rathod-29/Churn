{
 "cells": [
  {
   "cell_type": "markdown",
   "id": "02949121",
   "metadata": {},
   "source": [
    "# E_Commerce_project_25_03"
   ]
  },
  {
   "cell_type": "markdown",
   "id": "406f76d2",
   "metadata": {},
   "source": [
    "# project  :\n",
    "\n",
    "## Predict the Ecommerce customer churn \n",
    " \n",
    " \n",
    "what is customer churn? \n",
    "\n",
    "Customer churn refers to the number of customers that have stopped using and paying for your product or service."
   ]
  },
  {
   "cell_type": "code",
   "execution_count": null,
   "id": "240a052f",
   "metadata": {},
   "outputs": [],
   "source": [
    "Why this project?\n",
    "start with "
   ]
  },
  {
   "cell_type": "markdown",
   "id": "5da1e284",
   "metadata": {},
   "source": [
    "##### project group members:\n",
    "    1.\n",
    "    2.\n",
    "    3."
   ]
  },
  {
   "cell_type": "markdown",
   "id": "3a1f3d92",
   "metadata": {},
   "source": [
    "## Problem Statement"
   ]
  },
  {
   "cell_type": "raw",
   "id": "95547f53",
   "metadata": {},
   "source": [
    "Predict the customer churn using following independent varibales:\n",
    "     'Tenure of customer in organization',\n",
    "     'Preferred login device of customer',\n",
    "     'City tier',\n",
    "     'Distance in between warehouse to home of customer',\n",
    "     'Preferred payment method of customer',\n",
    "     'Gender of customer',\n",
    "     'Number of hours spend on mobile application or website',\n",
    "     'Total number of deceives is registered on particular customer',\n",
    "     'Preferred order category of customer in last month',\n",
    "     'Satisfactory score of customer on service',\n",
    "     'Marital status of customer',\n",
    "     'Total number of added added on particular customer',\n",
    "     'Any complaint has been raised in last month',\n",
    "     'Percentage increases in order from last year',\n",
    "     'Total number of coupon has been used in last month',\n",
    "     'Total number of orders has been places in last month',\n",
    "     'Day Since last order by customer',\n",
    "     'Average cashback in last month'"
   ]
  },
  {
   "cell_type": "markdown",
   "id": "684ef523",
   "metadata": {},
   "source": [
    "### 1.Libraries"
   ]
  },
  {
   "cell_type": "code",
   "execution_count": 1,
   "id": "e1818aef",
   "metadata": {},
   "outputs": [],
   "source": [
    "import numpy as np\n",
    "import pandas as pd\n",
    "\n",
    "from sklearn.preprocessing import StandardScaler,MinMaxScaler\n",
    "from sklearn.model_selection import train_test_split,GridSearchCV,RandomizedSearchCV\n",
    "\n",
    "from sklearn.feature_selection import chi2,f_classif,mutual_info_classif,VarianceThreshold,RFE\n",
    "from mlxtend.feature_selection import SequentialFeatureSelector,ExhaustiveFeatureSelector\n",
    "from sklearn.decomposition import PCA\n",
    "\n",
    "\n",
    "from sklearn.tree import DecisionTreeClassifier\n",
    "from sklearn.ensemble import RandomForestClassifier,AdaBoostClassifier\n",
    "from sklearn.svm import SVC\n",
    "\n",
    "from sklearn.metrics import classification_report,confusion_matrix,accuracy_score,ConfusionMatrixDisplay\n",
    "\n",
    "\n",
    "\n",
    "import matplotlib.pyplot as plt\n",
    "import seaborn as sns\n",
    "import plotly.express as plx\n",
    "\n",
    "import warnings\n",
    "warnings.filterwarnings('ignore')"
   ]
  },
  {
   "cell_type": "markdown",
   "id": "d390a832",
   "metadata": {},
   "source": [
    "## RAW Data :\n",
    "    data engineer will provide the data \n",
    "    SQL and MongoDB "
   ]
  },
  {
   "cell_type": "markdown",
   "id": "10aba5d5",
   "metadata": {},
   "source": [
    "### 2.Data Gathering"
   ]
  },
  {
   "cell_type": "code",
   "execution_count": 2,
   "id": "700e6d4c",
   "metadata": {},
   "outputs": [],
   "source": [
    "data =  pd.read_excel(\"E Commerce Dataset.xlsx\",sheet_name=\"Data Dict\")\n",
    "df = pd.read_excel(\"E Commerce Dataset.xlsx\",sheet_name=\"E Comm\")"
   ]
  },
  {
   "cell_type": "code",
   "execution_count": 3,
   "id": "8734d331",
   "metadata": {},
   "outputs": [
    {
     "data": {
      "text/html": [
       "<div>\n",
       "<style scoped>\n",
       "    .dataframe tbody tr th:only-of-type {\n",
       "        vertical-align: middle;\n",
       "    }\n",
       "\n",
       "    .dataframe tbody tr th {\n",
       "        vertical-align: top;\n",
       "    }\n",
       "\n",
       "    .dataframe thead th {\n",
       "        text-align: right;\n",
       "    }\n",
       "</style>\n",
       "<table border=\"1\" class=\"dataframe\">\n",
       "  <thead>\n",
       "    <tr style=\"text-align: right;\">\n",
       "      <th></th>\n",
       "      <th>Unnamed: 0</th>\n",
       "      <th>Unnamed: 1</th>\n",
       "      <th>Unnamed: 2</th>\n",
       "      <th>Unnamed: 3</th>\n",
       "    </tr>\n",
       "  </thead>\n",
       "  <tbody>\n",
       "    <tr>\n",
       "      <th>0</th>\n",
       "      <td>NaN</td>\n",
       "      <td>Data</td>\n",
       "      <td>Variable</td>\n",
       "      <td>Discerption</td>\n",
       "    </tr>\n",
       "    <tr>\n",
       "      <th>1</th>\n",
       "      <td>NaN</td>\n",
       "      <td>E Comm</td>\n",
       "      <td>CustomerID</td>\n",
       "      <td>Unique customer ID</td>\n",
       "    </tr>\n",
       "    <tr>\n",
       "      <th>2</th>\n",
       "      <td>NaN</td>\n",
       "      <td>E Comm</td>\n",
       "      <td>Churn</td>\n",
       "      <td>Churn Flag</td>\n",
       "    </tr>\n",
       "    <tr>\n",
       "      <th>3</th>\n",
       "      <td>NaN</td>\n",
       "      <td>E Comm</td>\n",
       "      <td>Tenure</td>\n",
       "      <td>Tenure of customer in organization</td>\n",
       "    </tr>\n",
       "    <tr>\n",
       "      <th>4</th>\n",
       "      <td>NaN</td>\n",
       "      <td>E Comm</td>\n",
       "      <td>PreferredLoginDevice</td>\n",
       "      <td>Preferred login device of customer</td>\n",
       "    </tr>\n",
       "    <tr>\n",
       "      <th>5</th>\n",
       "      <td>NaN</td>\n",
       "      <td>E Comm</td>\n",
       "      <td>CityTier</td>\n",
       "      <td>City tier</td>\n",
       "    </tr>\n",
       "    <tr>\n",
       "      <th>6</th>\n",
       "      <td>NaN</td>\n",
       "      <td>E Comm</td>\n",
       "      <td>WarehouseToHome</td>\n",
       "      <td>Distance in between warehouse to home of customer</td>\n",
       "    </tr>\n",
       "    <tr>\n",
       "      <th>7</th>\n",
       "      <td>NaN</td>\n",
       "      <td>E Comm</td>\n",
       "      <td>PreferredPaymentMode</td>\n",
       "      <td>Preferred payment method of customer</td>\n",
       "    </tr>\n",
       "    <tr>\n",
       "      <th>8</th>\n",
       "      <td>NaN</td>\n",
       "      <td>E Comm</td>\n",
       "      <td>Gender</td>\n",
       "      <td>Gender of customer</td>\n",
       "    </tr>\n",
       "    <tr>\n",
       "      <th>9</th>\n",
       "      <td>NaN</td>\n",
       "      <td>E Comm</td>\n",
       "      <td>HourSpendOnApp</td>\n",
       "      <td>Number of hours spend on mobile application or...</td>\n",
       "    </tr>\n",
       "    <tr>\n",
       "      <th>10</th>\n",
       "      <td>NaN</td>\n",
       "      <td>E Comm</td>\n",
       "      <td>NumberOfDeviceRegistered</td>\n",
       "      <td>Total number of deceives is registered on part...</td>\n",
       "    </tr>\n",
       "    <tr>\n",
       "      <th>11</th>\n",
       "      <td>NaN</td>\n",
       "      <td>E Comm</td>\n",
       "      <td>PreferedOrderCat</td>\n",
       "      <td>Preferred order category of customer in last m...</td>\n",
       "    </tr>\n",
       "    <tr>\n",
       "      <th>12</th>\n",
       "      <td>NaN</td>\n",
       "      <td>E Comm</td>\n",
       "      <td>SatisfactionScore</td>\n",
       "      <td>Satisfactory score of customer on service</td>\n",
       "    </tr>\n",
       "    <tr>\n",
       "      <th>13</th>\n",
       "      <td>NaN</td>\n",
       "      <td>E Comm</td>\n",
       "      <td>MaritalStatus</td>\n",
       "      <td>Marital status of customer</td>\n",
       "    </tr>\n",
       "    <tr>\n",
       "      <th>14</th>\n",
       "      <td>NaN</td>\n",
       "      <td>E Comm</td>\n",
       "      <td>NumberOfAddress</td>\n",
       "      <td>Total number of added added on particular cust...</td>\n",
       "    </tr>\n",
       "    <tr>\n",
       "      <th>15</th>\n",
       "      <td>NaN</td>\n",
       "      <td>E Comm</td>\n",
       "      <td>Complain</td>\n",
       "      <td>Any complaint has been raised in last month</td>\n",
       "    </tr>\n",
       "    <tr>\n",
       "      <th>16</th>\n",
       "      <td>NaN</td>\n",
       "      <td>E Comm</td>\n",
       "      <td>OrderAmountHikeFromlastYear</td>\n",
       "      <td>Percentage increases in order from last year</td>\n",
       "    </tr>\n",
       "    <tr>\n",
       "      <th>17</th>\n",
       "      <td>NaN</td>\n",
       "      <td>E Comm</td>\n",
       "      <td>CouponUsed</td>\n",
       "      <td>Total number of coupon has been used in last m...</td>\n",
       "    </tr>\n",
       "    <tr>\n",
       "      <th>18</th>\n",
       "      <td>NaN</td>\n",
       "      <td>E Comm</td>\n",
       "      <td>OrderCount</td>\n",
       "      <td>Total number of orders has been places in last...</td>\n",
       "    </tr>\n",
       "    <tr>\n",
       "      <th>19</th>\n",
       "      <td>NaN</td>\n",
       "      <td>E Comm</td>\n",
       "      <td>DaySinceLastOrder</td>\n",
       "      <td>Day Since last order by customer</td>\n",
       "    </tr>\n",
       "    <tr>\n",
       "      <th>20</th>\n",
       "      <td>NaN</td>\n",
       "      <td>E Comm</td>\n",
       "      <td>CashbackAmount</td>\n",
       "      <td>Average cashback in last month</td>\n",
       "    </tr>\n",
       "  </tbody>\n",
       "</table>\n",
       "</div>"
      ],
      "text/plain": [
       "    Unnamed: 0 Unnamed: 1                   Unnamed: 2  \\\n",
       "0          NaN       Data                     Variable   \n",
       "1          NaN     E Comm                   CustomerID   \n",
       "2          NaN     E Comm                        Churn   \n",
       "3          NaN     E Comm                       Tenure   \n",
       "4          NaN     E Comm         PreferredLoginDevice   \n",
       "5          NaN     E Comm                     CityTier   \n",
       "6          NaN     E Comm              WarehouseToHome   \n",
       "7          NaN     E Comm         PreferredPaymentMode   \n",
       "8          NaN     E Comm                       Gender   \n",
       "9          NaN     E Comm               HourSpendOnApp   \n",
       "10         NaN     E Comm     NumberOfDeviceRegistered   \n",
       "11         NaN     E Comm             PreferedOrderCat   \n",
       "12         NaN     E Comm            SatisfactionScore   \n",
       "13         NaN     E Comm                MaritalStatus   \n",
       "14         NaN     E Comm              NumberOfAddress   \n",
       "15         NaN     E Comm                     Complain   \n",
       "16         NaN     E Comm  OrderAmountHikeFromlastYear   \n",
       "17         NaN     E Comm                   CouponUsed   \n",
       "18         NaN     E Comm                   OrderCount   \n",
       "19         NaN     E Comm            DaySinceLastOrder   \n",
       "20         NaN     E Comm               CashbackAmount   \n",
       "\n",
       "                                           Unnamed: 3  \n",
       "0                                         Discerption  \n",
       "1                                  Unique customer ID  \n",
       "2                                          Churn Flag  \n",
       "3                  Tenure of customer in organization  \n",
       "4                  Preferred login device of customer  \n",
       "5                                           City tier  \n",
       "6   Distance in between warehouse to home of customer  \n",
       "7                Preferred payment method of customer  \n",
       "8                                  Gender of customer  \n",
       "9   Number of hours spend on mobile application or...  \n",
       "10  Total number of deceives is registered on part...  \n",
       "11  Preferred order category of customer in last m...  \n",
       "12          Satisfactory score of customer on service  \n",
       "13                         Marital status of customer  \n",
       "14  Total number of added added on particular cust...  \n",
       "15        Any complaint has been raised in last month  \n",
       "16       Percentage increases in order from last year  \n",
       "17  Total number of coupon has been used in last m...  \n",
       "18  Total number of orders has been places in last...  \n",
       "19                   Day Since last order by customer  \n",
       "20                     Average cashback in last month  "
      ]
     },
     "execution_count": 3,
     "metadata": {},
     "output_type": "execute_result"
    }
   ],
   "source": [
    "data # for reference purpose only"
   ]
  },
  {
   "cell_type": "code",
   "execution_count": 160,
   "id": "d6016949",
   "metadata": {
    "scrolled": false
   },
   "outputs": [
    {
     "data": {
      "text/plain": [
       "['Unique customer ID',\n",
       " 'Churn Flag',\n",
       " 'Tenure of customer in organization',\n",
       " 'Preferred login device of customer',\n",
       " 'City tier',\n",
       " 'Distance in between warehouse to home of customer',\n",
       " 'Preferred payment method of customer',\n",
       " 'Gender of customer',\n",
       " 'Number of hours spend on mobile application or website',\n",
       " 'Total number of deceives is registered on particular customer',\n",
       " 'Preferred order category of customer in last month',\n",
       " 'Satisfactory score of customer on service',\n",
       " 'Marital status of customer',\n",
       " 'Total number of added added on particular customer',\n",
       " 'Any complaint has been raised in last month',\n",
       " 'Percentage increases in order from last year',\n",
       " 'Total number of coupon has been used in last month',\n",
       " 'Total number of orders has been places in last month',\n",
       " 'Day Since last order by customer',\n",
       " 'Average cashback in last month']"
      ]
     },
     "execution_count": 160,
     "metadata": {},
     "output_type": "execute_result"
    }
   ],
   "source": [
    "data['Unnamed: 3'].tolist()[1:]"
   ]
  },
  {
   "cell_type": "code",
   "execution_count": 5,
   "id": "9fd854ac",
   "metadata": {},
   "outputs": [
    {
     "data": {
      "text/html": [
       "<div>\n",
       "<style scoped>\n",
       "    .dataframe tbody tr th:only-of-type {\n",
       "        vertical-align: middle;\n",
       "    }\n",
       "\n",
       "    .dataframe tbody tr th {\n",
       "        vertical-align: top;\n",
       "    }\n",
       "\n",
       "    .dataframe thead th {\n",
       "        text-align: right;\n",
       "    }\n",
       "</style>\n",
       "<table border=\"1\" class=\"dataframe\">\n",
       "  <thead>\n",
       "    <tr style=\"text-align: right;\">\n",
       "      <th></th>\n",
       "      <th>CustomerID</th>\n",
       "      <th>Churn</th>\n",
       "      <th>Tenure</th>\n",
       "      <th>PreferredLoginDevice</th>\n",
       "      <th>CityTier</th>\n",
       "      <th>WarehouseToHome</th>\n",
       "      <th>PreferredPaymentMode</th>\n",
       "      <th>Gender</th>\n",
       "      <th>HourSpendOnApp</th>\n",
       "      <th>NumberOfDeviceRegistered</th>\n",
       "      <th>PreferedOrderCat</th>\n",
       "      <th>SatisfactionScore</th>\n",
       "      <th>MaritalStatus</th>\n",
       "      <th>NumberOfAddress</th>\n",
       "      <th>Complain</th>\n",
       "      <th>OrderAmountHikeFromlastYear</th>\n",
       "      <th>CouponUsed</th>\n",
       "      <th>OrderCount</th>\n",
       "      <th>DaySinceLastOrder</th>\n",
       "      <th>CashbackAmount</th>\n",
       "    </tr>\n",
       "  </thead>\n",
       "  <tbody>\n",
       "    <tr>\n",
       "      <th>0</th>\n",
       "      <td>50001</td>\n",
       "      <td>1</td>\n",
       "      <td>4.0</td>\n",
       "      <td>Mobile Phone</td>\n",
       "      <td>3</td>\n",
       "      <td>6.0</td>\n",
       "      <td>Debit Card</td>\n",
       "      <td>Female</td>\n",
       "      <td>3.0</td>\n",
       "      <td>3</td>\n",
       "      <td>Laptop &amp; Accessory</td>\n",
       "      <td>2</td>\n",
       "      <td>Single</td>\n",
       "      <td>9</td>\n",
       "      <td>1</td>\n",
       "      <td>11.0</td>\n",
       "      <td>1.0</td>\n",
       "      <td>1.0</td>\n",
       "      <td>5.0</td>\n",
       "      <td>159.93</td>\n",
       "    </tr>\n",
       "    <tr>\n",
       "      <th>1</th>\n",
       "      <td>50002</td>\n",
       "      <td>1</td>\n",
       "      <td>NaN</td>\n",
       "      <td>Phone</td>\n",
       "      <td>1</td>\n",
       "      <td>8.0</td>\n",
       "      <td>UPI</td>\n",
       "      <td>Male</td>\n",
       "      <td>3.0</td>\n",
       "      <td>4</td>\n",
       "      <td>Mobile</td>\n",
       "      <td>3</td>\n",
       "      <td>Single</td>\n",
       "      <td>7</td>\n",
       "      <td>1</td>\n",
       "      <td>15.0</td>\n",
       "      <td>0.0</td>\n",
       "      <td>1.0</td>\n",
       "      <td>0.0</td>\n",
       "      <td>120.90</td>\n",
       "    </tr>\n",
       "    <tr>\n",
       "      <th>2</th>\n",
       "      <td>50003</td>\n",
       "      <td>1</td>\n",
       "      <td>NaN</td>\n",
       "      <td>Phone</td>\n",
       "      <td>1</td>\n",
       "      <td>30.0</td>\n",
       "      <td>Debit Card</td>\n",
       "      <td>Male</td>\n",
       "      <td>2.0</td>\n",
       "      <td>4</td>\n",
       "      <td>Mobile</td>\n",
       "      <td>3</td>\n",
       "      <td>Single</td>\n",
       "      <td>6</td>\n",
       "      <td>1</td>\n",
       "      <td>14.0</td>\n",
       "      <td>0.0</td>\n",
       "      <td>1.0</td>\n",
       "      <td>3.0</td>\n",
       "      <td>120.28</td>\n",
       "    </tr>\n",
       "    <tr>\n",
       "      <th>3</th>\n",
       "      <td>50004</td>\n",
       "      <td>1</td>\n",
       "      <td>0.0</td>\n",
       "      <td>Phone</td>\n",
       "      <td>3</td>\n",
       "      <td>15.0</td>\n",
       "      <td>Debit Card</td>\n",
       "      <td>Male</td>\n",
       "      <td>2.0</td>\n",
       "      <td>4</td>\n",
       "      <td>Laptop &amp; Accessory</td>\n",
       "      <td>5</td>\n",
       "      <td>Single</td>\n",
       "      <td>8</td>\n",
       "      <td>0</td>\n",
       "      <td>23.0</td>\n",
       "      <td>0.0</td>\n",
       "      <td>1.0</td>\n",
       "      <td>3.0</td>\n",
       "      <td>134.07</td>\n",
       "    </tr>\n",
       "    <tr>\n",
       "      <th>4</th>\n",
       "      <td>50005</td>\n",
       "      <td>1</td>\n",
       "      <td>0.0</td>\n",
       "      <td>Phone</td>\n",
       "      <td>1</td>\n",
       "      <td>12.0</td>\n",
       "      <td>CC</td>\n",
       "      <td>Male</td>\n",
       "      <td>NaN</td>\n",
       "      <td>3</td>\n",
       "      <td>Mobile</td>\n",
       "      <td>5</td>\n",
       "      <td>Single</td>\n",
       "      <td>3</td>\n",
       "      <td>0</td>\n",
       "      <td>11.0</td>\n",
       "      <td>1.0</td>\n",
       "      <td>1.0</td>\n",
       "      <td>3.0</td>\n",
       "      <td>129.60</td>\n",
       "    </tr>\n",
       "    <tr>\n",
       "      <th>...</th>\n",
       "      <td>...</td>\n",
       "      <td>...</td>\n",
       "      <td>...</td>\n",
       "      <td>...</td>\n",
       "      <td>...</td>\n",
       "      <td>...</td>\n",
       "      <td>...</td>\n",
       "      <td>...</td>\n",
       "      <td>...</td>\n",
       "      <td>...</td>\n",
       "      <td>...</td>\n",
       "      <td>...</td>\n",
       "      <td>...</td>\n",
       "      <td>...</td>\n",
       "      <td>...</td>\n",
       "      <td>...</td>\n",
       "      <td>...</td>\n",
       "      <td>...</td>\n",
       "      <td>...</td>\n",
       "      <td>...</td>\n",
       "    </tr>\n",
       "    <tr>\n",
       "      <th>5625</th>\n",
       "      <td>55626</td>\n",
       "      <td>0</td>\n",
       "      <td>10.0</td>\n",
       "      <td>Computer</td>\n",
       "      <td>1</td>\n",
       "      <td>30.0</td>\n",
       "      <td>Credit Card</td>\n",
       "      <td>Male</td>\n",
       "      <td>3.0</td>\n",
       "      <td>2</td>\n",
       "      <td>Laptop &amp; Accessory</td>\n",
       "      <td>1</td>\n",
       "      <td>Married</td>\n",
       "      <td>6</td>\n",
       "      <td>0</td>\n",
       "      <td>18.0</td>\n",
       "      <td>1.0</td>\n",
       "      <td>2.0</td>\n",
       "      <td>4.0</td>\n",
       "      <td>150.71</td>\n",
       "    </tr>\n",
       "    <tr>\n",
       "      <th>5626</th>\n",
       "      <td>55627</td>\n",
       "      <td>0</td>\n",
       "      <td>13.0</td>\n",
       "      <td>Mobile Phone</td>\n",
       "      <td>1</td>\n",
       "      <td>13.0</td>\n",
       "      <td>Credit Card</td>\n",
       "      <td>Male</td>\n",
       "      <td>3.0</td>\n",
       "      <td>5</td>\n",
       "      <td>Fashion</td>\n",
       "      <td>5</td>\n",
       "      <td>Married</td>\n",
       "      <td>6</td>\n",
       "      <td>0</td>\n",
       "      <td>16.0</td>\n",
       "      <td>1.0</td>\n",
       "      <td>2.0</td>\n",
       "      <td>NaN</td>\n",
       "      <td>224.91</td>\n",
       "    </tr>\n",
       "    <tr>\n",
       "      <th>5627</th>\n",
       "      <td>55628</td>\n",
       "      <td>0</td>\n",
       "      <td>1.0</td>\n",
       "      <td>Mobile Phone</td>\n",
       "      <td>1</td>\n",
       "      <td>11.0</td>\n",
       "      <td>Debit Card</td>\n",
       "      <td>Male</td>\n",
       "      <td>3.0</td>\n",
       "      <td>2</td>\n",
       "      <td>Laptop &amp; Accessory</td>\n",
       "      <td>4</td>\n",
       "      <td>Married</td>\n",
       "      <td>3</td>\n",
       "      <td>1</td>\n",
       "      <td>21.0</td>\n",
       "      <td>1.0</td>\n",
       "      <td>2.0</td>\n",
       "      <td>4.0</td>\n",
       "      <td>186.42</td>\n",
       "    </tr>\n",
       "    <tr>\n",
       "      <th>5628</th>\n",
       "      <td>55629</td>\n",
       "      <td>0</td>\n",
       "      <td>23.0</td>\n",
       "      <td>Computer</td>\n",
       "      <td>3</td>\n",
       "      <td>9.0</td>\n",
       "      <td>Credit Card</td>\n",
       "      <td>Male</td>\n",
       "      <td>4.0</td>\n",
       "      <td>5</td>\n",
       "      <td>Laptop &amp; Accessory</td>\n",
       "      <td>4</td>\n",
       "      <td>Married</td>\n",
       "      <td>4</td>\n",
       "      <td>0</td>\n",
       "      <td>15.0</td>\n",
       "      <td>2.0</td>\n",
       "      <td>2.0</td>\n",
       "      <td>9.0</td>\n",
       "      <td>178.90</td>\n",
       "    </tr>\n",
       "    <tr>\n",
       "      <th>5629</th>\n",
       "      <td>55630</td>\n",
       "      <td>0</td>\n",
       "      <td>8.0</td>\n",
       "      <td>Mobile Phone</td>\n",
       "      <td>1</td>\n",
       "      <td>15.0</td>\n",
       "      <td>Credit Card</td>\n",
       "      <td>Male</td>\n",
       "      <td>3.0</td>\n",
       "      <td>2</td>\n",
       "      <td>Laptop &amp; Accessory</td>\n",
       "      <td>3</td>\n",
       "      <td>Married</td>\n",
       "      <td>4</td>\n",
       "      <td>0</td>\n",
       "      <td>13.0</td>\n",
       "      <td>2.0</td>\n",
       "      <td>2.0</td>\n",
       "      <td>3.0</td>\n",
       "      <td>169.04</td>\n",
       "    </tr>\n",
       "  </tbody>\n",
       "</table>\n",
       "<p>5630 rows × 20 columns</p>\n",
       "</div>"
      ],
      "text/plain": [
       "      CustomerID  Churn  Tenure PreferredLoginDevice  CityTier  \\\n",
       "0          50001      1     4.0         Mobile Phone         3   \n",
       "1          50002      1     NaN                Phone         1   \n",
       "2          50003      1     NaN                Phone         1   \n",
       "3          50004      1     0.0                Phone         3   \n",
       "4          50005      1     0.0                Phone         1   \n",
       "...          ...    ...     ...                  ...       ...   \n",
       "5625       55626      0    10.0             Computer         1   \n",
       "5626       55627      0    13.0         Mobile Phone         1   \n",
       "5627       55628      0     1.0         Mobile Phone         1   \n",
       "5628       55629      0    23.0             Computer         3   \n",
       "5629       55630      0     8.0         Mobile Phone         1   \n",
       "\n",
       "      WarehouseToHome PreferredPaymentMode  Gender  HourSpendOnApp  \\\n",
       "0                 6.0           Debit Card  Female             3.0   \n",
       "1                 8.0                  UPI    Male             3.0   \n",
       "2                30.0           Debit Card    Male             2.0   \n",
       "3                15.0           Debit Card    Male             2.0   \n",
       "4                12.0                   CC    Male             NaN   \n",
       "...               ...                  ...     ...             ...   \n",
       "5625             30.0          Credit Card    Male             3.0   \n",
       "5626             13.0          Credit Card    Male             3.0   \n",
       "5627             11.0           Debit Card    Male             3.0   \n",
       "5628              9.0          Credit Card    Male             4.0   \n",
       "5629             15.0          Credit Card    Male             3.0   \n",
       "\n",
       "      NumberOfDeviceRegistered    PreferedOrderCat  SatisfactionScore  \\\n",
       "0                            3  Laptop & Accessory                  2   \n",
       "1                            4              Mobile                  3   \n",
       "2                            4              Mobile                  3   \n",
       "3                            4  Laptop & Accessory                  5   \n",
       "4                            3              Mobile                  5   \n",
       "...                        ...                 ...                ...   \n",
       "5625                         2  Laptop & Accessory                  1   \n",
       "5626                         5             Fashion                  5   \n",
       "5627                         2  Laptop & Accessory                  4   \n",
       "5628                         5  Laptop & Accessory                  4   \n",
       "5629                         2  Laptop & Accessory                  3   \n",
       "\n",
       "     MaritalStatus  NumberOfAddress  Complain  OrderAmountHikeFromlastYear  \\\n",
       "0           Single                9         1                         11.0   \n",
       "1           Single                7         1                         15.0   \n",
       "2           Single                6         1                         14.0   \n",
       "3           Single                8         0                         23.0   \n",
       "4           Single                3         0                         11.0   \n",
       "...            ...              ...       ...                          ...   \n",
       "5625       Married                6         0                         18.0   \n",
       "5626       Married                6         0                         16.0   \n",
       "5627       Married                3         1                         21.0   \n",
       "5628       Married                4         0                         15.0   \n",
       "5629       Married                4         0                         13.0   \n",
       "\n",
       "      CouponUsed  OrderCount  DaySinceLastOrder  CashbackAmount  \n",
       "0            1.0         1.0                5.0          159.93  \n",
       "1            0.0         1.0                0.0          120.90  \n",
       "2            0.0         1.0                3.0          120.28  \n",
       "3            0.0         1.0                3.0          134.07  \n",
       "4            1.0         1.0                3.0          129.60  \n",
       "...          ...         ...                ...             ...  \n",
       "5625         1.0         2.0                4.0          150.71  \n",
       "5626         1.0         2.0                NaN          224.91  \n",
       "5627         1.0         2.0                4.0          186.42  \n",
       "5628         2.0         2.0                9.0          178.90  \n",
       "5629         2.0         2.0                3.0          169.04  \n",
       "\n",
       "[5630 rows x 20 columns]"
      ]
     },
     "execution_count": 5,
     "metadata": {},
     "output_type": "execute_result"
    }
   ],
   "source": [
    "df"
   ]
  },
  {
   "cell_type": "code",
   "execution_count": 6,
   "id": "4c93c15c",
   "metadata": {},
   "outputs": [
    {
     "name": "stdout",
     "output_type": "stream",
     "text": [
      "Total Number Of Features :  20\n",
      "Total Number Of Data Rows :  5630\n"
     ]
    }
   ],
   "source": [
    "print(\"Total Number Of Features : \",df.shape[1])\n",
    "print(\"Total Number Of Data Rows : \",df.shape[0])"
   ]
  },
  {
   "cell_type": "markdown",
   "id": "0c85ad61",
   "metadata": {},
   "source": [
    "### 3.Exploratory Data Analysis"
   ]
  },
  {
   "cell_type": "code",
   "execution_count": 7,
   "id": "e25589a9",
   "metadata": {},
   "outputs": [
    {
     "name": "stdout",
     "output_type": "stream",
     "text": [
      "<class 'pandas.core.frame.DataFrame'>\n",
      "RangeIndex: 5630 entries, 0 to 5629\n",
      "Data columns (total 20 columns):\n",
      " #   Column                       Non-Null Count  Dtype  \n",
      "---  ------                       --------------  -----  \n",
      " 0   CustomerID                   5630 non-null   int64  \n",
      " 1   Churn                        5630 non-null   int64  \n",
      " 2   Tenure                       5366 non-null   float64\n",
      " 3   PreferredLoginDevice         5630 non-null   object \n",
      " 4   CityTier                     5630 non-null   int64  \n",
      " 5   WarehouseToHome              5379 non-null   float64\n",
      " 6   PreferredPaymentMode         5630 non-null   object \n",
      " 7   Gender                       5630 non-null   object \n",
      " 8   HourSpendOnApp               5375 non-null   float64\n",
      " 9   NumberOfDeviceRegistered     5630 non-null   int64  \n",
      " 10  PreferedOrderCat             5630 non-null   object \n",
      " 11  SatisfactionScore            5630 non-null   int64  \n",
      " 12  MaritalStatus                5630 non-null   object \n",
      " 13  NumberOfAddress              5630 non-null   int64  \n",
      " 14  Complain                     5630 non-null   int64  \n",
      " 15  OrderAmountHikeFromlastYear  5365 non-null   float64\n",
      " 16  CouponUsed                   5374 non-null   float64\n",
      " 17  OrderCount                   5372 non-null   float64\n",
      " 18  DaySinceLastOrder            5323 non-null   float64\n",
      " 19  CashbackAmount               5630 non-null   float64\n",
      "dtypes: float64(8), int64(7), object(5)\n",
      "memory usage: 879.8+ KB\n"
     ]
    }
   ],
   "source": [
    "df.info()"
   ]
  },
  {
   "cell_type": "code",
   "execution_count": 8,
   "id": "fbe866ff",
   "metadata": {},
   "outputs": [
    {
     "data": {
      "text/html": [
       "<div>\n",
       "<style scoped>\n",
       "    .dataframe tbody tr th:only-of-type {\n",
       "        vertical-align: middle;\n",
       "    }\n",
       "\n",
       "    .dataframe tbody tr th {\n",
       "        vertical-align: top;\n",
       "    }\n",
       "\n",
       "    .dataframe thead th {\n",
       "        text-align: right;\n",
       "    }\n",
       "</style>\n",
       "<table border=\"1\" class=\"dataframe\">\n",
       "  <thead>\n",
       "    <tr style=\"text-align: right;\">\n",
       "      <th></th>\n",
       "      <th>CustomerID</th>\n",
       "      <th>Churn</th>\n",
       "      <th>Tenure</th>\n",
       "      <th>CityTier</th>\n",
       "      <th>WarehouseToHome</th>\n",
       "      <th>HourSpendOnApp</th>\n",
       "      <th>NumberOfDeviceRegistered</th>\n",
       "      <th>SatisfactionScore</th>\n",
       "      <th>NumberOfAddress</th>\n",
       "      <th>Complain</th>\n",
       "      <th>OrderAmountHikeFromlastYear</th>\n",
       "      <th>CouponUsed</th>\n",
       "      <th>OrderCount</th>\n",
       "      <th>DaySinceLastOrder</th>\n",
       "      <th>CashbackAmount</th>\n",
       "    </tr>\n",
       "  </thead>\n",
       "  <tbody>\n",
       "    <tr>\n",
       "      <th>count</th>\n",
       "      <td>5630.000000</td>\n",
       "      <td>5630.000000</td>\n",
       "      <td>5366.000000</td>\n",
       "      <td>5630.000000</td>\n",
       "      <td>5379.000000</td>\n",
       "      <td>5375.000000</td>\n",
       "      <td>5630.000000</td>\n",
       "      <td>5630.000000</td>\n",
       "      <td>5630.000000</td>\n",
       "      <td>5630.000000</td>\n",
       "      <td>5365.000000</td>\n",
       "      <td>5374.000000</td>\n",
       "      <td>5372.000000</td>\n",
       "      <td>5323.000000</td>\n",
       "      <td>5630.000000</td>\n",
       "    </tr>\n",
       "    <tr>\n",
       "      <th>mean</th>\n",
       "      <td>52815.500000</td>\n",
       "      <td>0.168384</td>\n",
       "      <td>10.189899</td>\n",
       "      <td>1.654707</td>\n",
       "      <td>15.639896</td>\n",
       "      <td>2.931535</td>\n",
       "      <td>3.688988</td>\n",
       "      <td>3.066785</td>\n",
       "      <td>4.214032</td>\n",
       "      <td>0.284902</td>\n",
       "      <td>15.707922</td>\n",
       "      <td>1.751023</td>\n",
       "      <td>3.008004</td>\n",
       "      <td>4.543491</td>\n",
       "      <td>177.223030</td>\n",
       "    </tr>\n",
       "    <tr>\n",
       "      <th>std</th>\n",
       "      <td>1625.385339</td>\n",
       "      <td>0.374240</td>\n",
       "      <td>8.557241</td>\n",
       "      <td>0.915389</td>\n",
       "      <td>8.531475</td>\n",
       "      <td>0.721926</td>\n",
       "      <td>1.023999</td>\n",
       "      <td>1.380194</td>\n",
       "      <td>2.583586</td>\n",
       "      <td>0.451408</td>\n",
       "      <td>3.675485</td>\n",
       "      <td>1.894621</td>\n",
       "      <td>2.939680</td>\n",
       "      <td>3.654433</td>\n",
       "      <td>49.207036</td>\n",
       "    </tr>\n",
       "    <tr>\n",
       "      <th>min</th>\n",
       "      <td>50001.000000</td>\n",
       "      <td>0.000000</td>\n",
       "      <td>0.000000</td>\n",
       "      <td>1.000000</td>\n",
       "      <td>5.000000</td>\n",
       "      <td>0.000000</td>\n",
       "      <td>1.000000</td>\n",
       "      <td>1.000000</td>\n",
       "      <td>1.000000</td>\n",
       "      <td>0.000000</td>\n",
       "      <td>11.000000</td>\n",
       "      <td>0.000000</td>\n",
       "      <td>1.000000</td>\n",
       "      <td>0.000000</td>\n",
       "      <td>0.000000</td>\n",
       "    </tr>\n",
       "    <tr>\n",
       "      <th>25%</th>\n",
       "      <td>51408.250000</td>\n",
       "      <td>0.000000</td>\n",
       "      <td>2.000000</td>\n",
       "      <td>1.000000</td>\n",
       "      <td>9.000000</td>\n",
       "      <td>2.000000</td>\n",
       "      <td>3.000000</td>\n",
       "      <td>2.000000</td>\n",
       "      <td>2.000000</td>\n",
       "      <td>0.000000</td>\n",
       "      <td>13.000000</td>\n",
       "      <td>1.000000</td>\n",
       "      <td>1.000000</td>\n",
       "      <td>2.000000</td>\n",
       "      <td>145.770000</td>\n",
       "    </tr>\n",
       "    <tr>\n",
       "      <th>50%</th>\n",
       "      <td>52815.500000</td>\n",
       "      <td>0.000000</td>\n",
       "      <td>9.000000</td>\n",
       "      <td>1.000000</td>\n",
       "      <td>14.000000</td>\n",
       "      <td>3.000000</td>\n",
       "      <td>4.000000</td>\n",
       "      <td>3.000000</td>\n",
       "      <td>3.000000</td>\n",
       "      <td>0.000000</td>\n",
       "      <td>15.000000</td>\n",
       "      <td>1.000000</td>\n",
       "      <td>2.000000</td>\n",
       "      <td>3.000000</td>\n",
       "      <td>163.280000</td>\n",
       "    </tr>\n",
       "    <tr>\n",
       "      <th>75%</th>\n",
       "      <td>54222.750000</td>\n",
       "      <td>0.000000</td>\n",
       "      <td>16.000000</td>\n",
       "      <td>3.000000</td>\n",
       "      <td>20.000000</td>\n",
       "      <td>3.000000</td>\n",
       "      <td>4.000000</td>\n",
       "      <td>4.000000</td>\n",
       "      <td>6.000000</td>\n",
       "      <td>1.000000</td>\n",
       "      <td>18.000000</td>\n",
       "      <td>2.000000</td>\n",
       "      <td>3.000000</td>\n",
       "      <td>7.000000</td>\n",
       "      <td>196.392500</td>\n",
       "    </tr>\n",
       "    <tr>\n",
       "      <th>max</th>\n",
       "      <td>55630.000000</td>\n",
       "      <td>1.000000</td>\n",
       "      <td>61.000000</td>\n",
       "      <td>3.000000</td>\n",
       "      <td>127.000000</td>\n",
       "      <td>5.000000</td>\n",
       "      <td>6.000000</td>\n",
       "      <td>5.000000</td>\n",
       "      <td>22.000000</td>\n",
       "      <td>1.000000</td>\n",
       "      <td>26.000000</td>\n",
       "      <td>16.000000</td>\n",
       "      <td>16.000000</td>\n",
       "      <td>46.000000</td>\n",
       "      <td>324.990000</td>\n",
       "    </tr>\n",
       "  </tbody>\n",
       "</table>\n",
       "</div>"
      ],
      "text/plain": [
       "         CustomerID        Churn       Tenure     CityTier  WarehouseToHome  \\\n",
       "count   5630.000000  5630.000000  5366.000000  5630.000000      5379.000000   \n",
       "mean   52815.500000     0.168384    10.189899     1.654707        15.639896   \n",
       "std     1625.385339     0.374240     8.557241     0.915389         8.531475   \n",
       "min    50001.000000     0.000000     0.000000     1.000000         5.000000   \n",
       "25%    51408.250000     0.000000     2.000000     1.000000         9.000000   \n",
       "50%    52815.500000     0.000000     9.000000     1.000000        14.000000   \n",
       "75%    54222.750000     0.000000    16.000000     3.000000        20.000000   \n",
       "max    55630.000000     1.000000    61.000000     3.000000       127.000000   \n",
       "\n",
       "       HourSpendOnApp  NumberOfDeviceRegistered  SatisfactionScore  \\\n",
       "count     5375.000000               5630.000000        5630.000000   \n",
       "mean         2.931535                  3.688988           3.066785   \n",
       "std          0.721926                  1.023999           1.380194   \n",
       "min          0.000000                  1.000000           1.000000   \n",
       "25%          2.000000                  3.000000           2.000000   \n",
       "50%          3.000000                  4.000000           3.000000   \n",
       "75%          3.000000                  4.000000           4.000000   \n",
       "max          5.000000                  6.000000           5.000000   \n",
       "\n",
       "       NumberOfAddress     Complain  OrderAmountHikeFromlastYear   CouponUsed  \\\n",
       "count      5630.000000  5630.000000                  5365.000000  5374.000000   \n",
       "mean          4.214032     0.284902                    15.707922     1.751023   \n",
       "std           2.583586     0.451408                     3.675485     1.894621   \n",
       "min           1.000000     0.000000                    11.000000     0.000000   \n",
       "25%           2.000000     0.000000                    13.000000     1.000000   \n",
       "50%           3.000000     0.000000                    15.000000     1.000000   \n",
       "75%           6.000000     1.000000                    18.000000     2.000000   \n",
       "max          22.000000     1.000000                    26.000000    16.000000   \n",
       "\n",
       "        OrderCount  DaySinceLastOrder  CashbackAmount  \n",
       "count  5372.000000        5323.000000     5630.000000  \n",
       "mean      3.008004           4.543491      177.223030  \n",
       "std       2.939680           3.654433       49.207036  \n",
       "min       1.000000           0.000000        0.000000  \n",
       "25%       1.000000           2.000000      145.770000  \n",
       "50%       2.000000           3.000000      163.280000  \n",
       "75%       3.000000           7.000000      196.392500  \n",
       "max      16.000000          46.000000      324.990000  "
      ]
     },
     "execution_count": 8,
     "metadata": {},
     "output_type": "execute_result"
    }
   ],
   "source": [
    "df.describe()"
   ]
  },
  {
   "cell_type": "code",
   "execution_count": 9,
   "id": "370d0132",
   "metadata": {},
   "outputs": [
    {
     "data": {
      "text/html": [
       "<div>\n",
       "<style scoped>\n",
       "    .dataframe tbody tr th:only-of-type {\n",
       "        vertical-align: middle;\n",
       "    }\n",
       "\n",
       "    .dataframe tbody tr th {\n",
       "        vertical-align: top;\n",
       "    }\n",
       "\n",
       "    .dataframe thead th {\n",
       "        text-align: right;\n",
       "    }\n",
       "</style>\n",
       "<table border=\"1\" class=\"dataframe\">\n",
       "  <thead>\n",
       "    <tr style=\"text-align: right;\">\n",
       "      <th></th>\n",
       "      <th>CustomerID</th>\n",
       "      <th>Churn</th>\n",
       "      <th>Tenure</th>\n",
       "      <th>PreferredLoginDevice</th>\n",
       "      <th>CityTier</th>\n",
       "      <th>WarehouseToHome</th>\n",
       "      <th>PreferredPaymentMode</th>\n",
       "      <th>Gender</th>\n",
       "      <th>HourSpendOnApp</th>\n",
       "      <th>NumberOfDeviceRegistered</th>\n",
       "      <th>PreferedOrderCat</th>\n",
       "      <th>SatisfactionScore</th>\n",
       "      <th>MaritalStatus</th>\n",
       "      <th>NumberOfAddress</th>\n",
       "      <th>Complain</th>\n",
       "      <th>OrderAmountHikeFromlastYear</th>\n",
       "      <th>CouponUsed</th>\n",
       "      <th>OrderCount</th>\n",
       "      <th>DaySinceLastOrder</th>\n",
       "      <th>CashbackAmount</th>\n",
       "    </tr>\n",
       "  </thead>\n",
       "  <tbody>\n",
       "    <tr>\n",
       "      <th>count</th>\n",
       "      <td>5630.000000</td>\n",
       "      <td>5630.000000</td>\n",
       "      <td>5366.000000</td>\n",
       "      <td>5630</td>\n",
       "      <td>5630.000000</td>\n",
       "      <td>5379.000000</td>\n",
       "      <td>5630</td>\n",
       "      <td>5630</td>\n",
       "      <td>5375.000000</td>\n",
       "      <td>5630.000000</td>\n",
       "      <td>5630</td>\n",
       "      <td>5630.000000</td>\n",
       "      <td>5630</td>\n",
       "      <td>5630.000000</td>\n",
       "      <td>5630.000000</td>\n",
       "      <td>5365.000000</td>\n",
       "      <td>5374.000000</td>\n",
       "      <td>5372.000000</td>\n",
       "      <td>5323.000000</td>\n",
       "      <td>5630.000000</td>\n",
       "    </tr>\n",
       "    <tr>\n",
       "      <th>unique</th>\n",
       "      <td>NaN</td>\n",
       "      <td>NaN</td>\n",
       "      <td>NaN</td>\n",
       "      <td>3</td>\n",
       "      <td>NaN</td>\n",
       "      <td>NaN</td>\n",
       "      <td>7</td>\n",
       "      <td>2</td>\n",
       "      <td>NaN</td>\n",
       "      <td>NaN</td>\n",
       "      <td>6</td>\n",
       "      <td>NaN</td>\n",
       "      <td>3</td>\n",
       "      <td>NaN</td>\n",
       "      <td>NaN</td>\n",
       "      <td>NaN</td>\n",
       "      <td>NaN</td>\n",
       "      <td>NaN</td>\n",
       "      <td>NaN</td>\n",
       "      <td>NaN</td>\n",
       "    </tr>\n",
       "    <tr>\n",
       "      <th>top</th>\n",
       "      <td>NaN</td>\n",
       "      <td>NaN</td>\n",
       "      <td>NaN</td>\n",
       "      <td>Mobile Phone</td>\n",
       "      <td>NaN</td>\n",
       "      <td>NaN</td>\n",
       "      <td>Debit Card</td>\n",
       "      <td>Male</td>\n",
       "      <td>NaN</td>\n",
       "      <td>NaN</td>\n",
       "      <td>Laptop &amp; Accessory</td>\n",
       "      <td>NaN</td>\n",
       "      <td>Married</td>\n",
       "      <td>NaN</td>\n",
       "      <td>NaN</td>\n",
       "      <td>NaN</td>\n",
       "      <td>NaN</td>\n",
       "      <td>NaN</td>\n",
       "      <td>NaN</td>\n",
       "      <td>NaN</td>\n",
       "    </tr>\n",
       "    <tr>\n",
       "      <th>freq</th>\n",
       "      <td>NaN</td>\n",
       "      <td>NaN</td>\n",
       "      <td>NaN</td>\n",
       "      <td>2765</td>\n",
       "      <td>NaN</td>\n",
       "      <td>NaN</td>\n",
       "      <td>2314</td>\n",
       "      <td>3384</td>\n",
       "      <td>NaN</td>\n",
       "      <td>NaN</td>\n",
       "      <td>2050</td>\n",
       "      <td>NaN</td>\n",
       "      <td>2986</td>\n",
       "      <td>NaN</td>\n",
       "      <td>NaN</td>\n",
       "      <td>NaN</td>\n",
       "      <td>NaN</td>\n",
       "      <td>NaN</td>\n",
       "      <td>NaN</td>\n",
       "      <td>NaN</td>\n",
       "    </tr>\n",
       "    <tr>\n",
       "      <th>mean</th>\n",
       "      <td>52815.500000</td>\n",
       "      <td>0.168384</td>\n",
       "      <td>10.189899</td>\n",
       "      <td>NaN</td>\n",
       "      <td>1.654707</td>\n",
       "      <td>15.639896</td>\n",
       "      <td>NaN</td>\n",
       "      <td>NaN</td>\n",
       "      <td>2.931535</td>\n",
       "      <td>3.688988</td>\n",
       "      <td>NaN</td>\n",
       "      <td>3.066785</td>\n",
       "      <td>NaN</td>\n",
       "      <td>4.214032</td>\n",
       "      <td>0.284902</td>\n",
       "      <td>15.707922</td>\n",
       "      <td>1.751023</td>\n",
       "      <td>3.008004</td>\n",
       "      <td>4.543491</td>\n",
       "      <td>177.223030</td>\n",
       "    </tr>\n",
       "    <tr>\n",
       "      <th>std</th>\n",
       "      <td>1625.385339</td>\n",
       "      <td>0.374240</td>\n",
       "      <td>8.557241</td>\n",
       "      <td>NaN</td>\n",
       "      <td>0.915389</td>\n",
       "      <td>8.531475</td>\n",
       "      <td>NaN</td>\n",
       "      <td>NaN</td>\n",
       "      <td>0.721926</td>\n",
       "      <td>1.023999</td>\n",
       "      <td>NaN</td>\n",
       "      <td>1.380194</td>\n",
       "      <td>NaN</td>\n",
       "      <td>2.583586</td>\n",
       "      <td>0.451408</td>\n",
       "      <td>3.675485</td>\n",
       "      <td>1.894621</td>\n",
       "      <td>2.939680</td>\n",
       "      <td>3.654433</td>\n",
       "      <td>49.207036</td>\n",
       "    </tr>\n",
       "    <tr>\n",
       "      <th>min</th>\n",
       "      <td>50001.000000</td>\n",
       "      <td>0.000000</td>\n",
       "      <td>0.000000</td>\n",
       "      <td>NaN</td>\n",
       "      <td>1.000000</td>\n",
       "      <td>5.000000</td>\n",
       "      <td>NaN</td>\n",
       "      <td>NaN</td>\n",
       "      <td>0.000000</td>\n",
       "      <td>1.000000</td>\n",
       "      <td>NaN</td>\n",
       "      <td>1.000000</td>\n",
       "      <td>NaN</td>\n",
       "      <td>1.000000</td>\n",
       "      <td>0.000000</td>\n",
       "      <td>11.000000</td>\n",
       "      <td>0.000000</td>\n",
       "      <td>1.000000</td>\n",
       "      <td>0.000000</td>\n",
       "      <td>0.000000</td>\n",
       "    </tr>\n",
       "    <tr>\n",
       "      <th>25%</th>\n",
       "      <td>51408.250000</td>\n",
       "      <td>0.000000</td>\n",
       "      <td>2.000000</td>\n",
       "      <td>NaN</td>\n",
       "      <td>1.000000</td>\n",
       "      <td>9.000000</td>\n",
       "      <td>NaN</td>\n",
       "      <td>NaN</td>\n",
       "      <td>2.000000</td>\n",
       "      <td>3.000000</td>\n",
       "      <td>NaN</td>\n",
       "      <td>2.000000</td>\n",
       "      <td>NaN</td>\n",
       "      <td>2.000000</td>\n",
       "      <td>0.000000</td>\n",
       "      <td>13.000000</td>\n",
       "      <td>1.000000</td>\n",
       "      <td>1.000000</td>\n",
       "      <td>2.000000</td>\n",
       "      <td>145.770000</td>\n",
       "    </tr>\n",
       "    <tr>\n",
       "      <th>50%</th>\n",
       "      <td>52815.500000</td>\n",
       "      <td>0.000000</td>\n",
       "      <td>9.000000</td>\n",
       "      <td>NaN</td>\n",
       "      <td>1.000000</td>\n",
       "      <td>14.000000</td>\n",
       "      <td>NaN</td>\n",
       "      <td>NaN</td>\n",
       "      <td>3.000000</td>\n",
       "      <td>4.000000</td>\n",
       "      <td>NaN</td>\n",
       "      <td>3.000000</td>\n",
       "      <td>NaN</td>\n",
       "      <td>3.000000</td>\n",
       "      <td>0.000000</td>\n",
       "      <td>15.000000</td>\n",
       "      <td>1.000000</td>\n",
       "      <td>2.000000</td>\n",
       "      <td>3.000000</td>\n",
       "      <td>163.280000</td>\n",
       "    </tr>\n",
       "    <tr>\n",
       "      <th>75%</th>\n",
       "      <td>54222.750000</td>\n",
       "      <td>0.000000</td>\n",
       "      <td>16.000000</td>\n",
       "      <td>NaN</td>\n",
       "      <td>3.000000</td>\n",
       "      <td>20.000000</td>\n",
       "      <td>NaN</td>\n",
       "      <td>NaN</td>\n",
       "      <td>3.000000</td>\n",
       "      <td>4.000000</td>\n",
       "      <td>NaN</td>\n",
       "      <td>4.000000</td>\n",
       "      <td>NaN</td>\n",
       "      <td>6.000000</td>\n",
       "      <td>1.000000</td>\n",
       "      <td>18.000000</td>\n",
       "      <td>2.000000</td>\n",
       "      <td>3.000000</td>\n",
       "      <td>7.000000</td>\n",
       "      <td>196.392500</td>\n",
       "    </tr>\n",
       "    <tr>\n",
       "      <th>max</th>\n",
       "      <td>55630.000000</td>\n",
       "      <td>1.000000</td>\n",
       "      <td>61.000000</td>\n",
       "      <td>NaN</td>\n",
       "      <td>3.000000</td>\n",
       "      <td>127.000000</td>\n",
       "      <td>NaN</td>\n",
       "      <td>NaN</td>\n",
       "      <td>5.000000</td>\n",
       "      <td>6.000000</td>\n",
       "      <td>NaN</td>\n",
       "      <td>5.000000</td>\n",
       "      <td>NaN</td>\n",
       "      <td>22.000000</td>\n",
       "      <td>1.000000</td>\n",
       "      <td>26.000000</td>\n",
       "      <td>16.000000</td>\n",
       "      <td>16.000000</td>\n",
       "      <td>46.000000</td>\n",
       "      <td>324.990000</td>\n",
       "    </tr>\n",
       "  </tbody>\n",
       "</table>\n",
       "</div>"
      ],
      "text/plain": [
       "          CustomerID        Churn       Tenure PreferredLoginDevice  \\\n",
       "count    5630.000000  5630.000000  5366.000000                 5630   \n",
       "unique           NaN          NaN          NaN                    3   \n",
       "top              NaN          NaN          NaN         Mobile Phone   \n",
       "freq             NaN          NaN          NaN                 2765   \n",
       "mean    52815.500000     0.168384    10.189899                  NaN   \n",
       "std      1625.385339     0.374240     8.557241                  NaN   \n",
       "min     50001.000000     0.000000     0.000000                  NaN   \n",
       "25%     51408.250000     0.000000     2.000000                  NaN   \n",
       "50%     52815.500000     0.000000     9.000000                  NaN   \n",
       "75%     54222.750000     0.000000    16.000000                  NaN   \n",
       "max     55630.000000     1.000000    61.000000                  NaN   \n",
       "\n",
       "           CityTier  WarehouseToHome PreferredPaymentMode Gender  \\\n",
       "count   5630.000000      5379.000000                 5630   5630   \n",
       "unique          NaN              NaN                    7      2   \n",
       "top             NaN              NaN           Debit Card   Male   \n",
       "freq            NaN              NaN                 2314   3384   \n",
       "mean       1.654707        15.639896                  NaN    NaN   \n",
       "std        0.915389         8.531475                  NaN    NaN   \n",
       "min        1.000000         5.000000                  NaN    NaN   \n",
       "25%        1.000000         9.000000                  NaN    NaN   \n",
       "50%        1.000000        14.000000                  NaN    NaN   \n",
       "75%        3.000000        20.000000                  NaN    NaN   \n",
       "max        3.000000       127.000000                  NaN    NaN   \n",
       "\n",
       "        HourSpendOnApp  NumberOfDeviceRegistered    PreferedOrderCat  \\\n",
       "count      5375.000000               5630.000000                5630   \n",
       "unique             NaN                       NaN                   6   \n",
       "top                NaN                       NaN  Laptop & Accessory   \n",
       "freq               NaN                       NaN                2050   \n",
       "mean          2.931535                  3.688988                 NaN   \n",
       "std           0.721926                  1.023999                 NaN   \n",
       "min           0.000000                  1.000000                 NaN   \n",
       "25%           2.000000                  3.000000                 NaN   \n",
       "50%           3.000000                  4.000000                 NaN   \n",
       "75%           3.000000                  4.000000                 NaN   \n",
       "max           5.000000                  6.000000                 NaN   \n",
       "\n",
       "        SatisfactionScore MaritalStatus  NumberOfAddress     Complain  \\\n",
       "count         5630.000000          5630      5630.000000  5630.000000   \n",
       "unique                NaN             3              NaN          NaN   \n",
       "top                   NaN       Married              NaN          NaN   \n",
       "freq                  NaN          2986              NaN          NaN   \n",
       "mean             3.066785           NaN         4.214032     0.284902   \n",
       "std              1.380194           NaN         2.583586     0.451408   \n",
       "min              1.000000           NaN         1.000000     0.000000   \n",
       "25%              2.000000           NaN         2.000000     0.000000   \n",
       "50%              3.000000           NaN         3.000000     0.000000   \n",
       "75%              4.000000           NaN         6.000000     1.000000   \n",
       "max              5.000000           NaN        22.000000     1.000000   \n",
       "\n",
       "        OrderAmountHikeFromlastYear   CouponUsed   OrderCount  \\\n",
       "count                   5365.000000  5374.000000  5372.000000   \n",
       "unique                          NaN          NaN          NaN   \n",
       "top                             NaN          NaN          NaN   \n",
       "freq                            NaN          NaN          NaN   \n",
       "mean                      15.707922     1.751023     3.008004   \n",
       "std                        3.675485     1.894621     2.939680   \n",
       "min                       11.000000     0.000000     1.000000   \n",
       "25%                       13.000000     1.000000     1.000000   \n",
       "50%                       15.000000     1.000000     2.000000   \n",
       "75%                       18.000000     2.000000     3.000000   \n",
       "max                       26.000000    16.000000    16.000000   \n",
       "\n",
       "        DaySinceLastOrder  CashbackAmount  \n",
       "count         5323.000000     5630.000000  \n",
       "unique                NaN             NaN  \n",
       "top                   NaN             NaN  \n",
       "freq                  NaN             NaN  \n",
       "mean             4.543491      177.223030  \n",
       "std              3.654433       49.207036  \n",
       "min              0.000000        0.000000  \n",
       "25%              2.000000      145.770000  \n",
       "50%              3.000000      163.280000  \n",
       "75%              7.000000      196.392500  \n",
       "max             46.000000      324.990000  "
      ]
     },
     "execution_count": 9,
     "metadata": {},
     "output_type": "execute_result"
    }
   ],
   "source": [
    "df.describe(include=\"all\")"
   ]
  },
  {
   "cell_type": "markdown",
   "id": "9166fb88",
   "metadata": {},
   "source": [
    "##### 3.1 CustomerID"
   ]
  },
  {
   "cell_type": "code",
   "execution_count": 10,
   "id": "daf61c5f",
   "metadata": {},
   "outputs": [],
   "source": [
    "# customer ID is unique value column \n",
    "# we don't need such type of feature in our model"
   ]
  },
  {
   "cell_type": "code",
   "execution_count": 11,
   "id": "5c7e2cbf",
   "metadata": {},
   "outputs": [],
   "source": [
    "df.drop('CustomerID',axis=1,inplace=True)"
   ]
  },
  {
   "cell_type": "code",
   "execution_count": 12,
   "id": "331f6f4c",
   "metadata": {},
   "outputs": [
    {
     "name": "stdout",
     "output_type": "stream",
     "text": [
      "<class 'pandas.core.frame.DataFrame'>\n",
      "RangeIndex: 5630 entries, 0 to 5629\n",
      "Data columns (total 19 columns):\n",
      " #   Column                       Non-Null Count  Dtype  \n",
      "---  ------                       --------------  -----  \n",
      " 0   Churn                        5630 non-null   int64  \n",
      " 1   Tenure                       5366 non-null   float64\n",
      " 2   PreferredLoginDevice         5630 non-null   object \n",
      " 3   CityTier                     5630 non-null   int64  \n",
      " 4   WarehouseToHome              5379 non-null   float64\n",
      " 5   PreferredPaymentMode         5630 non-null   object \n",
      " 6   Gender                       5630 non-null   object \n",
      " 7   HourSpendOnApp               5375 non-null   float64\n",
      " 8   NumberOfDeviceRegistered     5630 non-null   int64  \n",
      " 9   PreferedOrderCat             5630 non-null   object \n",
      " 10  SatisfactionScore            5630 non-null   int64  \n",
      " 11  MaritalStatus                5630 non-null   object \n",
      " 12  NumberOfAddress              5630 non-null   int64  \n",
      " 13  Complain                     5630 non-null   int64  \n",
      " 14  OrderAmountHikeFromlastYear  5365 non-null   float64\n",
      " 15  CouponUsed                   5374 non-null   float64\n",
      " 16  OrderCount                   5372 non-null   float64\n",
      " 17  DaySinceLastOrder            5323 non-null   float64\n",
      " 18  CashbackAmount               5630 non-null   float64\n",
      "dtypes: float64(8), int64(6), object(5)\n",
      "memory usage: 835.8+ KB\n"
     ]
    }
   ],
   "source": [
    "df.info()"
   ]
  },
  {
   "cell_type": "code",
   "execution_count": 13,
   "id": "859d47c5",
   "metadata": {},
   "outputs": [],
   "source": [
    "#Null values in Data Frame"
   ]
  },
  {
   "cell_type": "code",
   "execution_count": 14,
   "id": "ca33db0b",
   "metadata": {},
   "outputs": [
    {
     "data": {
      "text/plain": [
       "Churn                            0\n",
       "Tenure                         264\n",
       "PreferredLoginDevice             0\n",
       "CityTier                         0\n",
       "WarehouseToHome                251\n",
       "PreferredPaymentMode             0\n",
       "Gender                           0\n",
       "HourSpendOnApp                 255\n",
       "NumberOfDeviceRegistered         0\n",
       "PreferedOrderCat                 0\n",
       "SatisfactionScore                0\n",
       "MaritalStatus                    0\n",
       "NumberOfAddress                  0\n",
       "Complain                         0\n",
       "OrderAmountHikeFromlastYear    265\n",
       "CouponUsed                     256\n",
       "OrderCount                     258\n",
       "DaySinceLastOrder              307\n",
       "CashbackAmount                   0\n",
       "dtype: int64"
      ]
     },
     "execution_count": 14,
     "metadata": {},
     "output_type": "execute_result"
    }
   ],
   "source": [
    "df.isna().sum()"
   ]
  },
  {
   "cell_type": "code",
   "execution_count": 15,
   "id": "64887792",
   "metadata": {},
   "outputs": [
    {
     "data": {
      "text/plain": [
       "Churn                          0.000000\n",
       "Tenure                         4.689165\n",
       "PreferredLoginDevice           0.000000\n",
       "CityTier                       0.000000\n",
       "WarehouseToHome                4.458259\n",
       "PreferredPaymentMode           0.000000\n",
       "Gender                         0.000000\n",
       "HourSpendOnApp                 4.529307\n",
       "NumberOfDeviceRegistered       0.000000\n",
       "PreferedOrderCat               0.000000\n",
       "SatisfactionScore              0.000000\n",
       "MaritalStatus                  0.000000\n",
       "NumberOfAddress                0.000000\n",
       "Complain                       0.000000\n",
       "OrderAmountHikeFromlastYear    4.706927\n",
       "CouponUsed                     4.547069\n",
       "OrderCount                     4.582593\n",
       "DaySinceLastOrder              5.452931\n",
       "CashbackAmount                 0.000000\n",
       "dtype: float64"
      ]
     },
     "execution_count": 15,
     "metadata": {},
     "output_type": "execute_result"
    }
   ],
   "source": [
    "df.isna().mean()*100"
   ]
  },
  {
   "cell_type": "markdown",
   "id": "0051c3a9",
   "metadata": {},
   "source": [
    "##### 3.2 Churn"
   ]
  },
  {
   "cell_type": "code",
   "execution_count": 16,
   "id": "6c28f52a",
   "metadata": {},
   "outputs": [
    {
     "data": {
      "text/plain": [
       "0    4682\n",
       "1     948\n",
       "Name: Churn, dtype: int64"
      ]
     },
     "execution_count": 16,
     "metadata": {},
     "output_type": "execute_result"
    }
   ],
   "source": [
    "df['Churn'].value_counts()"
   ]
  },
  {
   "cell_type": "code",
   "execution_count": 17,
   "id": "236e72ca",
   "metadata": {},
   "outputs": [],
   "source": [
    "# This is our target variable which is in categorical form.\n",
    "# Also from above outcome,we can say that the data is imbalaced and we need to use balancing techniques to make data balanced."
   ]
  },
  {
   "cell_type": "markdown",
   "id": "18770aeb",
   "metadata": {},
   "source": [
    "##### 3.3 Tenure"
   ]
  },
  {
   "cell_type": "code",
   "execution_count": 18,
   "id": "60e71733",
   "metadata": {},
   "outputs": [
    {
     "data": {
      "text/plain": [
       "1.0     690\n",
       "0.0     508\n",
       "8.0     263\n",
       "9.0     247\n",
       "7.0     221\n",
       "10.0    213\n",
       "5.0     204\n",
       "4.0     203\n",
       "3.0     195\n",
       "11.0    194\n",
       "6.0     183\n",
       "12.0    182\n",
       "13.0    181\n",
       "14.0    176\n",
       "2.0     167\n",
       "15.0    159\n",
       "16.0    149\n",
       "19.0    140\n",
       "18.0    123\n",
       "20.0    109\n",
       "17.0    106\n",
       "23.0     89\n",
       "21.0     84\n",
       "22.0     76\n",
       "24.0     75\n",
       "28.0     70\n",
       "30.0     66\n",
       "27.0     66\n",
       "26.0     60\n",
       "25.0     59\n",
       "29.0     55\n",
       "31.0     49\n",
       "50.0      1\n",
       "60.0      1\n",
       "51.0      1\n",
       "61.0      1\n",
       "Name: Tenure, dtype: int64"
      ]
     },
     "execution_count": 18,
     "metadata": {},
     "output_type": "execute_result"
    }
   ],
   "source": [
    "df['Tenure'].value_counts()"
   ]
  },
  {
   "cell_type": "code",
   "execution_count": 19,
   "id": "3392f5d5",
   "metadata": {},
   "outputs": [
    {
     "data": {
      "text/plain": [
       "<AxesSubplot: xlabel='Tenure', ylabel='Density'>"
      ]
     },
     "execution_count": 19,
     "metadata": {},
     "output_type": "execute_result"
    },
    {
     "data": {
      "image/png": "[encoded data removed]",
      "text/plain": [
       "<Figure size 640x480 with 1 Axes>"
      ]
     },
     "metadata": {},
     "output_type": "display_data"
    }
   ],
   "source": [
    "sns.kdeplot(df['Tenure'])"
   ]
  },
  {
   "cell_type": "code",
   "execution_count": 20,
   "id": "10a940dd",
   "metadata": {},
   "outputs": [
    {
     "data": {
      "text/plain": [
       "<AxesSubplot: >"
      ]
     },
     "execution_count": 20,
     "metadata": {},
     "output_type": "execute_result"
    },
    {
     "data": {
      "image/png": "[encoded data removed]",
      "text/plain": [
       "<Figure size 640x480 with 1 Axes>"
      ]
     },
     "metadata": {},
     "output_type": "display_data"
    }
   ],
   "source": [
    "sns.boxplot(df['Tenure'])"
   ]
  },
  {
   "cell_type": "code",
   "execution_count": 21,
   "id": "aba6f6b9",
   "metadata": {},
   "outputs": [
    {
     "data": {
      "text/plain": [
       "0.04689165186500888"
      ]
     },
     "execution_count": 21,
     "metadata": {},
     "output_type": "execute_result"
    }
   ],
   "source": [
    "df['Tenure'].isna().mean()"
   ]
  },
  {
   "cell_type": "code",
   "execution_count": 22,
   "id": "eee1a758",
   "metadata": {},
   "outputs": [
    {
     "data": {
      "text/plain": [
       "10.189899366380917"
      ]
     },
     "execution_count": 22,
     "metadata": {},
     "output_type": "execute_result"
    }
   ],
   "source": [
    "df['Tenure'].mean()"
   ]
  },
  {
   "cell_type": "code",
   "execution_count": 23,
   "id": "5f72f714",
   "metadata": {},
   "outputs": [
    {
     "data": {
      "text/plain": [
       "9.0"
      ]
     },
     "execution_count": 23,
     "metadata": {},
     "output_type": "execute_result"
    }
   ],
   "source": [
    "df['Tenure'].median()"
   ]
  },
  {
   "cell_type": "code",
   "execution_count": 24,
   "id": "3c18db94",
   "metadata": {},
   "outputs": [],
   "source": [
    "df['Tenure'].fillna(df['Tenure'].median(),inplace=True)"
   ]
  },
  {
   "cell_type": "code",
   "execution_count": 25,
   "id": "9b0824b4",
   "metadata": {},
   "outputs": [
    {
     "data": {
      "text/plain": [
       "<AxesSubplot: >"
      ]
     },
     "execution_count": 25,
     "metadata": {},
     "output_type": "execute_result"
    },
    {
     "data": {
      "image/png": "[encoded data removed]",
      "text/plain": [
       "<Figure size 640x480 with 1 Axes>"
      ]
     },
     "metadata": {},
     "output_type": "display_data"
    }
   ],
   "source": [
    "sns.boxplot(df['Tenure'])"
   ]
  },
  {
   "cell_type": "code",
   "execution_count": 26,
   "id": "15ee5394",
   "metadata": {},
   "outputs": [],
   "source": [
    "# Outlier detection and handling"
   ]
  },
  {
   "cell_type": "code",
   "execution_count": 27,
   "id": "56533e76",
   "metadata": {},
   "outputs": [],
   "source": [
    "class Outlier_Handling():\n",
    "\n",
    "    def outlier_list(self,feature):\n",
    "\n",
    "        q1 = df[feature].quantile(0.25)\n",
    "        q3 = df[feature].quantile(0.75)\n",
    "\n",
    "        iqr = q3 - q1\n",
    "\n",
    "        self.upper_tail = q3 + 1.5 * iqr\n",
    "        self.lower_tail = q1 - 1.5 * iqr\n",
    "\n",
    "        \n",
    "        index_list = list(np.where(df[feature] > self.upper_tail)[0])\n",
    "        index_list.extend(list(np.where(df[feature] < self.lower_tail)[0]))\n",
    "\n",
    "        return df[feature][index_list]\n",
    "    \n",
    "    def remove_outlier(self,feature):\n",
    "        \n",
    "        df[feature] = np.where(df[feature] > self.upper_tail,self.upper_tail,df[feature])\n",
    "        df[feature] = np.where(df[feature] < self.lower_tail,self.lower_tail,df[feature])\n",
    "        \n",
    "        return df[feature]\n",
    "    "
   ]
  },
  {
   "cell_type": "code",
   "execution_count": 28,
   "id": "64d8b2d9",
   "metadata": {
    "scrolled": true
   },
   "outputs": [
    {
     "data": {
      "text/plain": [
       "928     50.0\n",
       "2719    60.0\n",
       "3743    51.0\n",
       "5534    61.0\n",
       "Name: Tenure, dtype: float64"
      ]
     },
     "execution_count": 28,
     "metadata": {},
     "output_type": "execute_result"
    }
   ],
   "source": [
    "outlier = Outlier_Handling()\n",
    "\n",
    "outlier.outlier_list(\"Tenure\")"
   ]
  },
  {
   "cell_type": "code",
   "execution_count": 29,
   "id": "53ea0a66",
   "metadata": {},
   "outputs": [
    {
     "data": {
      "text/plain": [
       "0        4.0\n",
       "1        9.0\n",
       "2        9.0\n",
       "3        0.0\n",
       "4        0.0\n",
       "        ... \n",
       "5625    10.0\n",
       "5626    13.0\n",
       "5627     1.0\n",
       "5628    23.0\n",
       "5629     8.0\n",
       "Name: Tenure, Length: 5630, dtype: float64"
      ]
     },
     "execution_count": 29,
     "metadata": {},
     "output_type": "execute_result"
    }
   ],
   "source": [
    "outlier.remove_outlier('Tenure')"
   ]
  },
  {
   "cell_type": "code",
   "execution_count": 30,
   "id": "c6d5da12",
   "metadata": {},
   "outputs": [
    {
     "data": {
      "text/plain": [
       "<AxesSubplot: >"
      ]
     },
     "execution_count": 30,
     "metadata": {},
     "output_type": "execute_result"
    },
    {
     "data": {
      "image/png": "[encoded data removed]",
      "text/plain": [
       "<Figure size 640x480 with 1 Axes>"
      ]
     },
     "metadata": {},
     "output_type": "display_data"
    }
   ],
   "source": [
    "sns.boxplot(df['Tenure'])"
   ]
  },
  {
   "cell_type": "code",
   "execution_count": 31,
   "id": "6b87ac19",
   "metadata": {},
   "outputs": [
    {
     "data": {
      "text/plain": [
       "<AxesSubplot: xlabel='Tenure', ylabel='Churn'>"
      ]
     },
     "execution_count": 31,
     "metadata": {},
     "output_type": "execute_result"
    },
    {
     "data": {
      "image/png": "[encoded data removed]",
      "text/plain": [
       "<Figure size 640x480 with 1 Axes>"
      ]
     },
     "metadata": {},
     "output_type": "display_data"
    }
   ],
   "source": [
    "sns.scatterplot(y= df['Churn'], x=df['Tenure'] )"
   ]
  },
  {
   "cell_type": "markdown",
   "id": "25bc30cb",
   "metadata": {},
   "source": [
    "##### 3.4 PreferredLoginDevice"
   ]
  },
  {
   "cell_type": "code",
   "execution_count": 32,
   "id": "f8dcf171",
   "metadata": {},
   "outputs": [
    {
     "data": {
      "text/plain": [
       "0       Mobile Phone\n",
       "1              Phone\n",
       "2              Phone\n",
       "3              Phone\n",
       "4              Phone\n",
       "            ...     \n",
       "5625        Computer\n",
       "5626    Mobile Phone\n",
       "5627    Mobile Phone\n",
       "5628        Computer\n",
       "5629    Mobile Phone\n",
       "Name: PreferredLoginDevice, Length: 5630, dtype: object"
      ]
     },
     "execution_count": 32,
     "metadata": {},
     "output_type": "execute_result"
    }
   ],
   "source": [
    "df['PreferredLoginDevice']"
   ]
  },
  {
   "cell_type": "code",
   "execution_count": 33,
   "id": "5b43197c",
   "metadata": {},
   "outputs": [
    {
     "data": {
      "text/plain": [
       "Mobile Phone    2765\n",
       "Computer        1634\n",
       "Phone           1231\n",
       "Name: PreferredLoginDevice, dtype: int64"
      ]
     },
     "execution_count": 33,
     "metadata": {},
     "output_type": "execute_result"
    }
   ],
   "source": [
    "df['PreferredLoginDevice'].value_counts()"
   ]
  },
  {
   "cell_type": "code",
   "execution_count": 34,
   "id": "955db598",
   "metadata": {},
   "outputs": [
    {
     "data": {
      "text/plain": [
       "<AxesSubplot: xlabel='Churn', ylabel='PreferredLoginDevice'>"
      ]
     },
     "execution_count": 34,
     "metadata": {},
     "output_type": "execute_result"
    },
    {
     "data": {
      "image/png": "[encoded data removed]",
      "text/plain": [
       "<Figure size 640x480 with 1 Axes>"
      ]
     },
     "metadata": {},
     "output_type": "display_data"
    }
   ],
   "source": [
    "sns.scatterplot(x = df['Churn'], y =df['PreferredLoginDevice'])"
   ]
  },
  {
   "cell_type": "markdown",
   "id": "34674673",
   "metadata": {},
   "source": [
    "##### 3.5 CityTier"
   ]
  },
  {
   "cell_type": "code",
   "execution_count": 35,
   "id": "47a62faa",
   "metadata": {},
   "outputs": [
    {
     "data": {
      "text/plain": [
       "1    3666\n",
       "3    1722\n",
       "2     242\n",
       "Name: CityTier, dtype: int64"
      ]
     },
     "execution_count": 35,
     "metadata": {},
     "output_type": "execute_result"
    }
   ],
   "source": [
    "df['CityTier'].value_counts()"
   ]
  },
  {
   "cell_type": "code",
   "execution_count": 36,
   "id": "2ee1ee52",
   "metadata": {},
   "outputs": [
    {
     "data": {
      "text/plain": [
       "<AxesSubplot: ylabel='CityTier'>"
      ]
     },
     "execution_count": 36,
     "metadata": {},
     "output_type": "execute_result"
    },
    {
     "data": {
      "image/png": "[encoded data removed]",
      "text/plain": [
       "<Figure size 640x480 with 1 Axes>"
      ]
     },
     "metadata": {},
     "output_type": "display_data"
    }
   ],
   "source": [
    "sns.scatterplot(df['CityTier'])"
   ]
  },
  {
   "cell_type": "code",
   "execution_count": 37,
   "id": "aaa81b98",
   "metadata": {},
   "outputs": [
    {
     "data": {
      "text/plain": [
       "<AxesSubplot: xlabel='Churn', ylabel='CityTier'>"
      ]
     },
     "execution_count": 37,
     "metadata": {},
     "output_type": "execute_result"
    },
    {
     "data": {
      "image/png": "[encoded data removed]",
      "text/plain": [
       "<Figure size 640x480 with 1 Axes>"
      ]
     },
     "metadata": {},
     "output_type": "display_data"
    }
   ],
   "source": [
    "sns.scatterplot(x = df['Churn'],y = df['CityTier'])"
   ]
  },
  {
   "cell_type": "markdown",
   "id": "417065ac",
   "metadata": {},
   "source": [
    "##### 3.6 WarehouseToHome"
   ]
  },
  {
   "cell_type": "code",
   "execution_count": 38,
   "id": "a7766c1b",
   "metadata": {},
   "outputs": [
    {
     "data": {
      "text/plain": [
       "9.0      559\n",
       "8.0      444\n",
       "7.0      389\n",
       "16.0     322\n",
       "14.0     299\n",
       "6.0      295\n",
       "15.0     288\n",
       "10.0     274\n",
       "13.0     249\n",
       "11.0     233\n",
       "12.0     221\n",
       "17.0     217\n",
       "22.0     104\n",
       "31.0     101\n",
       "23.0      96\n",
       "30.0      94\n",
       "32.0      94\n",
       "35.0      93\n",
       "18.0      89\n",
       "26.0      89\n",
       "25.0      86\n",
       "21.0      85\n",
       "24.0      85\n",
       "27.0      81\n",
       "29.0      81\n",
       "19.0      75\n",
       "20.0      74\n",
       "28.0      71\n",
       "33.0      67\n",
       "34.0      63\n",
       "36.0      51\n",
       "5.0        8\n",
       "126.0      1\n",
       "127.0      1\n",
       "Name: WarehouseToHome, dtype: int64"
      ]
     },
     "execution_count": 38,
     "metadata": {},
     "output_type": "execute_result"
    }
   ],
   "source": [
    "df['WarehouseToHome'].value_counts()"
   ]
  },
  {
   "cell_type": "code",
   "execution_count": 39,
   "id": "8af428d1",
   "metadata": {},
   "outputs": [
    {
     "data": {
      "text/plain": [
       "251"
      ]
     },
     "execution_count": 39,
     "metadata": {},
     "output_type": "execute_result"
    }
   ],
   "source": [
    "df['WarehouseToHome'].isna().sum()"
   ]
  },
  {
   "cell_type": "code",
   "execution_count": 40,
   "id": "bd295291",
   "metadata": {},
   "outputs": [
    {
     "data": {
      "text/plain": [
       "<AxesSubplot: xlabel='WarehouseToHome', ylabel='Density'>"
      ]
     },
     "execution_count": 40,
     "metadata": {},
     "output_type": "execute_result"
    },
    {
     "data": {
      "image/png": "[encoded data removed]",
      "text/plain": [
       "<Figure size 640x480 with 1 Axes>"
      ]
     },
     "metadata": {},
     "output_type": "display_data"
    }
   ],
   "source": [
    "sns.kdeplot(x=df['WarehouseToHome'])"
   ]
  },
  {
   "cell_type": "code",
   "execution_count": 41,
   "id": "27b2479c",
   "metadata": {},
   "outputs": [
    {
     "data": {
      "text/plain": [
       "<AxesSubplot: >"
      ]
     },
     "execution_count": 41,
     "metadata": {},
     "output_type": "execute_result"
    },
    {
     "data": {
      "image/png": "[encoded data removed]",
      "text/plain": [
       "<Figure size 640x480 with 1 Axes>"
      ]
     },
     "metadata": {},
     "output_type": "display_data"
    }
   ],
   "source": [
    "sns.boxplot(df['WarehouseToHome'])"
   ]
  },
  {
   "cell_type": "code",
   "execution_count": 42,
   "id": "a92239a5",
   "metadata": {},
   "outputs": [],
   "source": [
    "df['WarehouseToHome'].fillna(df['WarehouseToHome'].median(),inplace=True)"
   ]
  },
  {
   "cell_type": "code",
   "execution_count": 43,
   "id": "35533ece",
   "metadata": {},
   "outputs": [
    {
     "data": {
      "text/plain": [
       "<AxesSubplot: xlabel='WarehouseToHome'>"
      ]
     },
     "execution_count": 43,
     "metadata": {},
     "output_type": "execute_result"
    },
    {
     "data": {
      "image/png": "[encoded data removed]",
      "text/plain": [
       "<Figure size 640x480 with 1 Axes>"
      ]
     },
     "metadata": {},
     "output_type": "display_data"
    }
   ],
   "source": [
    "sns.boxplot(x=df['WarehouseToHome'])"
   ]
  },
  {
   "cell_type": "code",
   "execution_count": 44,
   "id": "dbd5d0ff",
   "metadata": {},
   "outputs": [],
   "source": [
    "#outlier handling"
   ]
  },
  {
   "cell_type": "code",
   "execution_count": 45,
   "id": "0236fa4a",
   "metadata": {},
   "outputs": [
    {
     "data": {
      "text/plain": [
       "1309    126.0\n",
       "4124    127.0\n",
       "Name: WarehouseToHome, dtype: float64"
      ]
     },
     "execution_count": 45,
     "metadata": {},
     "output_type": "execute_result"
    }
   ],
   "source": [
    "outlier.outlier_list('WarehouseToHome')"
   ]
  },
  {
   "cell_type": "code",
   "execution_count": 46,
   "id": "31908405",
   "metadata": {},
   "outputs": [
    {
     "data": {
      "text/plain": [
       "0        6.0\n",
       "1        8.0\n",
       "2       30.0\n",
       "3       15.0\n",
       "4       12.0\n",
       "        ... \n",
       "5625    30.0\n",
       "5626    13.0\n",
       "5627    11.0\n",
       "5628     9.0\n",
       "5629    15.0\n",
       "Name: WarehouseToHome, Length: 5630, dtype: float64"
      ]
     },
     "execution_count": 46,
     "metadata": {},
     "output_type": "execute_result"
    }
   ],
   "source": [
    "outlier.remove_outlier('WarehouseToHome')"
   ]
  },
  {
   "cell_type": "code",
   "execution_count": 47,
   "id": "77550d7b",
   "metadata": {},
   "outputs": [
    {
     "data": {
      "text/plain": [
       "<AxesSubplot: xlabel='WarehouseToHome'>"
      ]
     },
     "execution_count": 47,
     "metadata": {},
     "output_type": "execute_result"
    },
    {
     "data": {
      "image/png": "[encoded data removed]",
      "text/plain": [
       "<Figure size 640x480 with 1 Axes>"
      ]
     },
     "metadata": {},
     "output_type": "display_data"
    }
   ],
   "source": [
    "sns.boxplot(x=df['WarehouseToHome'])"
   ]
  },
  {
   "cell_type": "markdown",
   "id": "10517c79",
   "metadata": {},
   "source": [
    "##### 3.7 PreferredPaymentMode"
   ]
  },
  {
   "cell_type": "code",
   "execution_count": 48,
   "id": "ddff4c61",
   "metadata": {},
   "outputs": [
    {
     "data": {
      "text/plain": [
       "Debit Card          2314\n",
       "Credit Card         1501\n",
       "E wallet             614\n",
       "UPI                  414\n",
       "COD                  365\n",
       "CC                   273\n",
       "Cash on Delivery     149\n",
       "Name: PreferredPaymentMode, dtype: int64"
      ]
     },
     "execution_count": 48,
     "metadata": {},
     "output_type": "execute_result"
    }
   ],
   "source": [
    "df['PreferredPaymentMode'].value_counts()"
   ]
  },
  {
   "cell_type": "markdown",
   "id": "570f116c",
   "metadata": {},
   "source": [
    "##### 3.8 Gender"
   ]
  },
  {
   "cell_type": "code",
   "execution_count": 49,
   "id": "679530ba",
   "metadata": {},
   "outputs": [
    {
     "data": {
      "text/plain": [
       "Male      3384\n",
       "Female    2246\n",
       "Name: Gender, dtype: int64"
      ]
     },
     "execution_count": 49,
     "metadata": {},
     "output_type": "execute_result"
    }
   ],
   "source": [
    "df['Gender'].value_counts()"
   ]
  },
  {
   "cell_type": "markdown",
   "id": "05b9862c",
   "metadata": {},
   "source": [
    "##### 3.9 HourSpendOnApp"
   ]
  },
  {
   "cell_type": "code",
   "execution_count": 50,
   "id": "c1f79564",
   "metadata": {},
   "outputs": [
    {
     "data": {
      "text/plain": [
       "3.0    2687\n",
       "2.0    1471\n",
       "4.0    1176\n",
       "1.0      35\n",
       "0.0       3\n",
       "5.0       3\n",
       "Name: HourSpendOnApp, dtype: int64"
      ]
     },
     "execution_count": 50,
     "metadata": {},
     "output_type": "execute_result"
    }
   ],
   "source": [
    "df['HourSpendOnApp'].value_counts()"
   ]
  },
  {
   "cell_type": "code",
   "execution_count": 51,
   "id": "b5b58121",
   "metadata": {},
   "outputs": [
    {
     "data": {
      "text/plain": [
       "255"
      ]
     },
     "execution_count": 51,
     "metadata": {},
     "output_type": "execute_result"
    }
   ],
   "source": [
    "df['HourSpendOnApp'].isna().sum()"
   ]
  },
  {
   "cell_type": "code",
   "execution_count": 52,
   "id": "0ced104f",
   "metadata": {},
   "outputs": [
    {
     "data": {
      "text/plain": [
       "<AxesSubplot: >"
      ]
     },
     "execution_count": 52,
     "metadata": {},
     "output_type": "execute_result"
    },
    {
     "data": {
      "image/png": "[encoded data removed]",
      "text/plain": [
       "<Figure size 640x480 with 1 Axes>"
      ]
     },
     "metadata": {},
     "output_type": "display_data"
    }
   ],
   "source": [
    "sns.boxplot(df['HourSpendOnApp'])"
   ]
  },
  {
   "cell_type": "code",
   "execution_count": 53,
   "id": "a037ca5a",
   "metadata": {},
   "outputs": [
    {
     "data": {
      "text/plain": [
       "3.0"
      ]
     },
     "execution_count": 53,
     "metadata": {},
     "output_type": "execute_result"
    }
   ],
   "source": [
    "df['HourSpendOnApp'].median()"
   ]
  },
  {
   "cell_type": "code",
   "execution_count": 54,
   "id": "5657ebbb",
   "metadata": {},
   "outputs": [
    {
     "data": {
      "text/plain": [
       "2.9315348837209303"
      ]
     },
     "execution_count": 54,
     "metadata": {},
     "output_type": "execute_result"
    }
   ],
   "source": [
    "df['HourSpendOnApp'].mean()"
   ]
  },
  {
   "cell_type": "code",
   "execution_count": 55,
   "id": "41a73697",
   "metadata": {},
   "outputs": [],
   "source": [
    "df['HourSpendOnApp'].fillna(df['HourSpendOnApp'].median(),inplace=True)"
   ]
  },
  {
   "cell_type": "code",
   "execution_count": 56,
   "id": "5ccdfdc4",
   "metadata": {},
   "outputs": [],
   "source": [
    "# Outlier handling"
   ]
  },
  {
   "cell_type": "code",
   "execution_count": 57,
   "id": "71055553",
   "metadata": {},
   "outputs": [
    {
     "data": {
      "text/plain": [
       "4223    5.0\n",
       "4248    5.0\n",
       "4351    5.0\n",
       "150     0.0\n",
       "950     0.0\n",
       "1950    0.0\n",
       "Name: HourSpendOnApp, dtype: float64"
      ]
     },
     "execution_count": 57,
     "metadata": {},
     "output_type": "execute_result"
    }
   ],
   "source": [
    "outlier.outlier_list('HourSpendOnApp')"
   ]
  },
  {
   "cell_type": "code",
   "execution_count": 58,
   "id": "1235bffc",
   "metadata": {},
   "outputs": [
    {
     "data": {
      "text/plain": [
       "0       3.0\n",
       "1       3.0\n",
       "2       2.0\n",
       "3       2.0\n",
       "4       3.0\n",
       "       ... \n",
       "5625    3.0\n",
       "5626    3.0\n",
       "5627    3.0\n",
       "5628    4.0\n",
       "5629    3.0\n",
       "Name: HourSpendOnApp, Length: 5630, dtype: float64"
      ]
     },
     "execution_count": 58,
     "metadata": {},
     "output_type": "execute_result"
    }
   ],
   "source": [
    "outlier.remove_outlier('HourSpendOnApp')"
   ]
  },
  {
   "cell_type": "code",
   "execution_count": 59,
   "id": "b652dc65",
   "metadata": {},
   "outputs": [
    {
     "data": {
      "text/plain": [
       "<AxesSubplot: >"
      ]
     },
     "execution_count": 59,
     "metadata": {},
     "output_type": "execute_result"
    },
    {
     "data": {
      "image/png": "[encoded data removed]",
      "text/plain": [
       "<Figure size 640x480 with 1 Axes>"
      ]
     },
     "metadata": {},
     "output_type": "display_data"
    }
   ],
   "source": [
    "sns.boxplot(df['HourSpendOnApp'])"
   ]
  },
  {
   "cell_type": "code",
   "execution_count": 60,
   "id": "b2745f2e",
   "metadata": {},
   "outputs": [
    {
     "name": "stdout",
     "output_type": "stream",
     "text": [
      "<class 'pandas.core.frame.DataFrame'>\n",
      "RangeIndex: 5630 entries, 0 to 5629\n",
      "Data columns (total 19 columns):\n",
      " #   Column                       Non-Null Count  Dtype  \n",
      "---  ------                       --------------  -----  \n",
      " 0   Churn                        5630 non-null   int64  \n",
      " 1   Tenure                       5630 non-null   float64\n",
      " 2   PreferredLoginDevice         5630 non-null   object \n",
      " 3   CityTier                     5630 non-null   int64  \n",
      " 4   WarehouseToHome              5630 non-null   float64\n",
      " 5   PreferredPaymentMode         5630 non-null   object \n",
      " 6   Gender                       5630 non-null   object \n",
      " 7   HourSpendOnApp               5630 non-null   float64\n",
      " 8   NumberOfDeviceRegistered     5630 non-null   int64  \n",
      " 9   PreferedOrderCat             5630 non-null   object \n",
      " 10  SatisfactionScore            5630 non-null   int64  \n",
      " 11  MaritalStatus                5630 non-null   object \n",
      " 12  NumberOfAddress              5630 non-null   int64  \n",
      " 13  Complain                     5630 non-null   int64  \n",
      " 14  OrderAmountHikeFromlastYear  5365 non-null   float64\n",
      " 15  CouponUsed                   5374 non-null   float64\n",
      " 16  OrderCount                   5372 non-null   float64\n",
      " 17  DaySinceLastOrder            5323 non-null   float64\n",
      " 18  CashbackAmount               5630 non-null   float64\n",
      "dtypes: float64(8), int64(6), object(5)\n",
      "memory usage: 835.8+ KB\n"
     ]
    }
   ],
   "source": [
    "df.info()"
   ]
  },
  {
   "cell_type": "markdown",
   "id": "040bd7e6",
   "metadata": {},
   "source": [
    "##### 3.10 NumberOfDeviceRegistered"
   ]
  },
  {
   "cell_type": "code",
   "execution_count": 61,
   "id": "18df611b",
   "metadata": {},
   "outputs": [
    {
     "data": {
      "text/plain": [
       "4    2377\n",
       "3    1699\n",
       "5     881\n",
       "2     276\n",
       "1     235\n",
       "6     162\n",
       "Name: NumberOfDeviceRegistered, dtype: int64"
      ]
     },
     "execution_count": 61,
     "metadata": {},
     "output_type": "execute_result"
    }
   ],
   "source": [
    "df['NumberOfDeviceRegistered'].value_counts()"
   ]
  },
  {
   "cell_type": "code",
   "execution_count": 62,
   "id": "efd9c52b",
   "metadata": {},
   "outputs": [
    {
     "data": {
      "text/plain": [
       "<AxesSubplot: xlabel='NumberOfDeviceRegistered', ylabel='Density'>"
      ]
     },
     "execution_count": 62,
     "metadata": {},
     "output_type": "execute_result"
    },
    {
     "data": {
      "image/png": "[encoded data removed]",
      "text/plain": [
       "<Figure size 640x480 with 1 Axes>"
      ]
     },
     "metadata": {},
     "output_type": "display_data"
    }
   ],
   "source": [
    "sns.kdeplot(df['NumberOfDeviceRegistered'])"
   ]
  },
  {
   "cell_type": "code",
   "execution_count": 63,
   "id": "263c2588",
   "metadata": {},
   "outputs": [
    {
     "data": {
      "text/plain": [
       "<AxesSubplot: >"
      ]
     },
     "execution_count": 63,
     "metadata": {},
     "output_type": "execute_result"
    },
    {
     "data": {
      "image/png": "[encoded data removed]",
      "text/plain": [
       "<Figure size 640x480 with 1 Axes>"
      ]
     },
     "metadata": {},
     "output_type": "display_data"
    }
   ],
   "source": [
    "sns.boxplot(df['NumberOfDeviceRegistered'])"
   ]
  },
  {
   "cell_type": "code",
   "execution_count": 64,
   "id": "f08ceb91",
   "metadata": {},
   "outputs": [
    {
     "data": {
      "text/plain": [
       "2820    6\n",
       "2824    6\n",
       "2833    6\n",
       "2835    6\n",
       "2838    6\n",
       "       ..\n",
       "2746    1\n",
       "2777    1\n",
       "2810    1\n",
       "2812    1\n",
       "2814    1\n",
       "Name: NumberOfDeviceRegistered, Length: 397, dtype: int64"
      ]
     },
     "execution_count": 64,
     "metadata": {},
     "output_type": "execute_result"
    }
   ],
   "source": [
    "outlier.outlier_list('NumberOfDeviceRegistered')"
   ]
  },
  {
   "cell_type": "markdown",
   "id": "de0a4b01",
   "metadata": {},
   "source": [
    "##### 3.11 PreferedOrderCat"
   ]
  },
  {
   "cell_type": "code",
   "execution_count": 65,
   "id": "f9cf3165",
   "metadata": {},
   "outputs": [
    {
     "data": {
      "text/plain": [
       "Laptop & Accessory    2050\n",
       "Mobile Phone          1271\n",
       "Fashion                826\n",
       "Mobile                 809\n",
       "Grocery                410\n",
       "Others                 264\n",
       "Name: PreferedOrderCat, dtype: int64"
      ]
     },
     "execution_count": 65,
     "metadata": {},
     "output_type": "execute_result"
    }
   ],
   "source": [
    "df['PreferedOrderCat'].value_counts()"
   ]
  },
  {
   "cell_type": "markdown",
   "id": "cb98b3e5",
   "metadata": {},
   "source": [
    "##### 3.12 SatisfactionScore"
   ]
  },
  {
   "cell_type": "code",
   "execution_count": 66,
   "id": "acbdc07f",
   "metadata": {},
   "outputs": [
    {
     "data": {
      "text/plain": [
       "3    1698\n",
       "1    1164\n",
       "5    1108\n",
       "4    1074\n",
       "2     586\n",
       "Name: SatisfactionScore, dtype: int64"
      ]
     },
     "execution_count": 66,
     "metadata": {},
     "output_type": "execute_result"
    }
   ],
   "source": [
    "df['SatisfactionScore'].value_counts()"
   ]
  },
  {
   "cell_type": "code",
   "execution_count": 67,
   "id": "162b244e",
   "metadata": {},
   "outputs": [
    {
     "data": {
      "text/plain": [
       "<AxesSubplot: >"
      ]
     },
     "execution_count": 67,
     "metadata": {},
     "output_type": "execute_result"
    },
    {
     "data": {
      "image/png": "[encoded data removed]",
      "text/plain": [
       "<Figure size 640x480 with 1 Axes>"
      ]
     },
     "metadata": {},
     "output_type": "display_data"
    }
   ],
   "source": [
    "sns.boxplot(df['SatisfactionScore'])"
   ]
  },
  {
   "cell_type": "markdown",
   "id": "87b63089",
   "metadata": {},
   "source": [
    "##### 3.13 MaritalStatus"
   ]
  },
  {
   "cell_type": "code",
   "execution_count": 68,
   "id": "2bab8483",
   "metadata": {},
   "outputs": [
    {
     "data": {
      "text/plain": [
       "Married     2986\n",
       "Single      1796\n",
       "Divorced     848\n",
       "Name: MaritalStatus, dtype: int64"
      ]
     },
     "execution_count": 68,
     "metadata": {},
     "output_type": "execute_result"
    }
   ],
   "source": [
    "df['MaritalStatus'].value_counts()"
   ]
  },
  {
   "cell_type": "markdown",
   "id": "39fcc393",
   "metadata": {},
   "source": [
    "##### 3.14 NumberOfAddress"
   ]
  },
  {
   "cell_type": "code",
   "execution_count": 69,
   "id": "172bc472",
   "metadata": {},
   "outputs": [
    {
     "data": {
      "text/plain": [
       "2     1369\n",
       "3     1278\n",
       "4      588\n",
       "5      571\n",
       "6      382\n",
       "1      371\n",
       "8      280\n",
       "7      256\n",
       "9      239\n",
       "10     194\n",
       "11      98\n",
       "19       1\n",
       "21       1\n",
       "20       1\n",
       "22       1\n",
       "Name: NumberOfAddress, dtype: int64"
      ]
     },
     "execution_count": 69,
     "metadata": {},
     "output_type": "execute_result"
    }
   ],
   "source": [
    "df['NumberOfAddress'].value_counts()"
   ]
  },
  {
   "cell_type": "code",
   "execution_count": 70,
   "id": "85cd7882",
   "metadata": {},
   "outputs": [
    {
     "data": {
      "text/plain": [
       "<AxesSubplot: >"
      ]
     },
     "execution_count": 70,
     "metadata": {},
     "output_type": "execute_result"
    },
    {
     "data": {
      "image/png": "[encoded data removed]",
      "text/plain": [
       "<Figure size 640x480 with 1 Axes>"
      ]
     },
     "metadata": {},
     "output_type": "display_data"
    }
   ],
   "source": [
    "sns.boxplot(df['NumberOfAddress'])"
   ]
  },
  {
   "cell_type": "code",
   "execution_count": 71,
   "id": "7054a6b4",
   "metadata": {},
   "outputs": [],
   "source": [
    "# outlier handling"
   ]
  },
  {
   "cell_type": "code",
   "execution_count": 72,
   "id": "ef376c50",
   "metadata": {},
   "outputs": [
    {
     "data": {
      "text/plain": [
       "260     19\n",
       "691     21\n",
       "3075    20\n",
       "3506    22\n",
       "Name: NumberOfAddress, dtype: int64"
      ]
     },
     "execution_count": 72,
     "metadata": {},
     "output_type": "execute_result"
    }
   ],
   "source": [
    "outlier.outlier_list('NumberOfAddress')"
   ]
  },
  {
   "cell_type": "code",
   "execution_count": 73,
   "id": "6baff483",
   "metadata": {},
   "outputs": [
    {
     "data": {
      "text/plain": [
       "0       9.0\n",
       "1       7.0\n",
       "2       6.0\n",
       "3       8.0\n",
       "4       3.0\n",
       "       ... \n",
       "5625    6.0\n",
       "5626    6.0\n",
       "5627    3.0\n",
       "5628    4.0\n",
       "5629    4.0\n",
       "Name: NumberOfAddress, Length: 5630, dtype: float64"
      ]
     },
     "execution_count": 73,
     "metadata": {},
     "output_type": "execute_result"
    }
   ],
   "source": [
    "outlier.remove_outlier('NumberOfAddress')"
   ]
  },
  {
   "cell_type": "code",
   "execution_count": 74,
   "id": "db4561cf",
   "metadata": {},
   "outputs": [
    {
     "data": {
      "text/plain": [
       "<AxesSubplot: >"
      ]
     },
     "execution_count": 74,
     "metadata": {},
     "output_type": "execute_result"
    },
    {
     "data": {
      "image/png": "[encoded data removed]",
      "text/plain": [
       "<Figure size 640x480 with 1 Axes>"
      ]
     },
     "metadata": {},
     "output_type": "display_data"
    }
   ],
   "source": [
    "sns.boxplot(df['NumberOfAddress'])"
   ]
  },
  {
   "cell_type": "markdown",
   "id": "73c0dd47",
   "metadata": {},
   "source": [
    "##### 3.15 Complain"
   ]
  },
  {
   "cell_type": "code",
   "execution_count": 75,
   "id": "d7f7f400",
   "metadata": {},
   "outputs": [
    {
     "data": {
      "text/plain": [
       "0    4026\n",
       "1    1604\n",
       "Name: Complain, dtype: int64"
      ]
     },
     "execution_count": 75,
     "metadata": {},
     "output_type": "execute_result"
    }
   ],
   "source": [
    "df['Complain'].value_counts()"
   ]
  },
  {
   "cell_type": "code",
   "execution_count": 76,
   "id": "28b3655b",
   "metadata": {},
   "outputs": [
    {
     "name": "stdout",
     "output_type": "stream",
     "text": [
      "<class 'pandas.core.frame.DataFrame'>\n",
      "RangeIndex: 5630 entries, 0 to 5629\n",
      "Data columns (total 19 columns):\n",
      " #   Column                       Non-Null Count  Dtype  \n",
      "---  ------                       --------------  -----  \n",
      " 0   Churn                        5630 non-null   int64  \n",
      " 1   Tenure                       5630 non-null   float64\n",
      " 2   PreferredLoginDevice         5630 non-null   object \n",
      " 3   CityTier                     5630 non-null   int64  \n",
      " 4   WarehouseToHome              5630 non-null   float64\n",
      " 5   PreferredPaymentMode         5630 non-null   object \n",
      " 6   Gender                       5630 non-null   object \n",
      " 7   HourSpendOnApp               5630 non-null   float64\n",
      " 8   NumberOfDeviceRegistered     5630 non-null   int64  \n",
      " 9   PreferedOrderCat             5630 non-null   object \n",
      " 10  SatisfactionScore            5630 non-null   int64  \n",
      " 11  MaritalStatus                5630 non-null   object \n",
      " 12  NumberOfAddress              5630 non-null   float64\n",
      " 13  Complain                     5630 non-null   int64  \n",
      " 14  OrderAmountHikeFromlastYear  5365 non-null   float64\n",
      " 15  CouponUsed                   5374 non-null   float64\n",
      " 16  OrderCount                   5372 non-null   float64\n",
      " 17  DaySinceLastOrder            5323 non-null   float64\n",
      " 18  CashbackAmount               5630 non-null   float64\n",
      "dtypes: float64(9), int64(5), object(5)\n",
      "memory usage: 835.8+ KB\n"
     ]
    }
   ],
   "source": [
    "df.info()"
   ]
  },
  {
   "cell_type": "markdown",
   "id": "795a189e",
   "metadata": {},
   "source": [
    "##### 3.16 OrderAmountHikeFromlastYea"
   ]
  },
  {
   "cell_type": "code",
   "execution_count": 77,
   "id": "85b86925",
   "metadata": {},
   "outputs": [
    {
     "data": {
      "text/plain": [
       "14.0    750\n",
       "13.0    741\n",
       "12.0    728\n",
       "15.0    542\n",
       "11.0    391\n",
       "16.0    333\n",
       "18.0    321\n",
       "19.0    311\n",
       "17.0    297\n",
       "20.0    243\n",
       "21.0    190\n",
       "22.0    184\n",
       "23.0    144\n",
       "24.0     84\n",
       "25.0     73\n",
       "26.0     33\n",
       "Name: OrderAmountHikeFromlastYear, dtype: int64"
      ]
     },
     "execution_count": 77,
     "metadata": {},
     "output_type": "execute_result"
    }
   ],
   "source": [
    "df['OrderAmountHikeFromlastYear'].value_counts()"
   ]
  },
  {
   "cell_type": "code",
   "execution_count": 78,
   "id": "70b38449",
   "metadata": {},
   "outputs": [
    {
     "data": {
      "text/plain": [
       "<AxesSubplot: >"
      ]
     },
     "execution_count": 78,
     "metadata": {},
     "output_type": "execute_result"
    },
    {
     "data": {
      "image/png": "[encoded data removed]",
      "text/plain": [
       "<Figure size 640x480 with 1 Axes>"
      ]
     },
     "metadata": {},
     "output_type": "display_data"
    }
   ],
   "source": [
    "sns.boxplot(df['OrderAmountHikeFromlastYear'])"
   ]
  },
  {
   "cell_type": "code",
   "execution_count": 79,
   "id": "b0cb4491",
   "metadata": {},
   "outputs": [
    {
     "data": {
      "text/plain": [
       "265"
      ]
     },
     "execution_count": 79,
     "metadata": {},
     "output_type": "execute_result"
    }
   ],
   "source": [
    "df['OrderAmountHikeFromlastYear'].isna().sum()"
   ]
  },
  {
   "cell_type": "code",
   "execution_count": 80,
   "id": "7c10943f",
   "metadata": {},
   "outputs": [
    {
     "data": {
      "text/plain": [
       "15.0"
      ]
     },
     "execution_count": 80,
     "metadata": {},
     "output_type": "execute_result"
    }
   ],
   "source": [
    "df['OrderAmountHikeFromlastYear'].median()"
   ]
  },
  {
   "cell_type": "code",
   "execution_count": 81,
   "id": "67cad6a1",
   "metadata": {},
   "outputs": [
    {
     "data": {
      "text/plain": [
       "15.707921714818266"
      ]
     },
     "execution_count": 81,
     "metadata": {},
     "output_type": "execute_result"
    }
   ],
   "source": [
    "df['OrderAmountHikeFromlastYear'].mean()"
   ]
  },
  {
   "cell_type": "code",
   "execution_count": 82,
   "id": "da4aa771",
   "metadata": {},
   "outputs": [],
   "source": [
    "df['OrderAmountHikeFromlastYear'].fillna(df['OrderAmountHikeFromlastYear'].median(),inplace=True)"
   ]
  },
  {
   "cell_type": "code",
   "execution_count": 83,
   "id": "e9f4de5f",
   "metadata": {},
   "outputs": [
    {
     "data": {
      "text/plain": [
       "<AxesSubplot: >"
      ]
     },
     "execution_count": 83,
     "metadata": {},
     "output_type": "execute_result"
    },
    {
     "data": {
      "image/png": "[encoded data removed]",
      "text/plain": [
       "<Figure size 640x480 with 1 Axes>"
      ]
     },
     "metadata": {},
     "output_type": "display_data"
    }
   ],
   "source": [
    "sns.boxplot(df['OrderAmountHikeFromlastYear'])"
   ]
  },
  {
   "cell_type": "code",
   "execution_count": 84,
   "id": "6a7311ff",
   "metadata": {},
   "outputs": [],
   "source": [
    "#outlier handling"
   ]
  },
  {
   "cell_type": "code",
   "execution_count": 85,
   "id": "25df26c5",
   "metadata": {},
   "outputs": [
    {
     "data": {
      "text/plain": [
       "33"
      ]
     },
     "execution_count": 85,
     "metadata": {},
     "output_type": "execute_result"
    }
   ],
   "source": [
    "outlier.outlier_list('OrderAmountHikeFromlastYear').count()"
   ]
  },
  {
   "cell_type": "code",
   "execution_count": 86,
   "id": "881e9a21",
   "metadata": {},
   "outputs": [
    {
     "data": {
      "text/plain": [
       "array([11., 15., 14., 23., 22., 16., 12., 13., 17., 18., 24., 19., 20.,\n",
       "       21., 25., 26.])"
      ]
     },
     "execution_count": 86,
     "metadata": {},
     "output_type": "execute_result"
    }
   ],
   "source": [
    "df['OrderAmountHikeFromlastYear'].unique()"
   ]
  },
  {
   "cell_type": "code",
   "execution_count": 87,
   "id": "07cb98b0",
   "metadata": {},
   "outputs": [
    {
     "data": {
      "text/plain": [
       "15.0    807\n",
       "14.0    750\n",
       "13.0    741\n",
       "12.0    728\n",
       "11.0    391\n",
       "16.0    333\n",
       "18.0    321\n",
       "19.0    311\n",
       "17.0    297\n",
       "20.0    243\n",
       "21.0    190\n",
       "22.0    184\n",
       "23.0    144\n",
       "24.0     84\n",
       "25.0     73\n",
       "26.0     33\n",
       "Name: OrderAmountHikeFromlastYear, dtype: int64"
      ]
     },
     "execution_count": 87,
     "metadata": {},
     "output_type": "execute_result"
    }
   ],
   "source": [
    "df['OrderAmountHikeFromlastYear'].value_counts()"
   ]
  },
  {
   "cell_type": "code",
   "execution_count": 88,
   "id": "1257ed34",
   "metadata": {},
   "outputs": [
    {
     "name": "stdout",
     "output_type": "stream",
     "text": [
      "<class 'pandas.core.frame.DataFrame'>\n",
      "RangeIndex: 5630 entries, 0 to 5629\n",
      "Data columns (total 19 columns):\n",
      " #   Column                       Non-Null Count  Dtype  \n",
      "---  ------                       --------------  -----  \n",
      " 0   Churn                        5630 non-null   int64  \n",
      " 1   Tenure                       5630 non-null   float64\n",
      " 2   PreferredLoginDevice         5630 non-null   object \n",
      " 3   CityTier                     5630 non-null   int64  \n",
      " 4   WarehouseToHome              5630 non-null   float64\n",
      " 5   PreferredPaymentMode         5630 non-null   object \n",
      " 6   Gender                       5630 non-null   object \n",
      " 7   HourSpendOnApp               5630 non-null   float64\n",
      " 8   NumberOfDeviceRegistered     5630 non-null   int64  \n",
      " 9   PreferedOrderCat             5630 non-null   object \n",
      " 10  SatisfactionScore            5630 non-null   int64  \n",
      " 11  MaritalStatus                5630 non-null   object \n",
      " 12  NumberOfAddress              5630 non-null   float64\n",
      " 13  Complain                     5630 non-null   int64  \n",
      " 14  OrderAmountHikeFromlastYear  5630 non-null   float64\n",
      " 15  CouponUsed                   5374 non-null   float64\n",
      " 16  OrderCount                   5372 non-null   float64\n",
      " 17  DaySinceLastOrder            5323 non-null   float64\n",
      " 18  CashbackAmount               5630 non-null   float64\n",
      "dtypes: float64(9), int64(5), object(5)\n",
      "memory usage: 835.8+ KB\n"
     ]
    }
   ],
   "source": [
    "df.info()"
   ]
  },
  {
   "cell_type": "markdown",
   "id": "a0dcd86b",
   "metadata": {},
   "source": [
    "##### 3.17 CouponUsed"
   ]
  },
  {
   "cell_type": "code",
   "execution_count": 89,
   "id": "683acf61",
   "metadata": {},
   "outputs": [
    {
     "data": {
      "text/plain": [
       "1.0     2105\n",
       "2.0     1283\n",
       "0.0     1030\n",
       "3.0      327\n",
       "4.0      197\n",
       "5.0      129\n",
       "6.0      108\n",
       "7.0       89\n",
       "8.0       42\n",
       "10.0      14\n",
       "9.0       13\n",
       "11.0      12\n",
       "12.0       9\n",
       "13.0       8\n",
       "14.0       5\n",
       "16.0       2\n",
       "15.0       1\n",
       "Name: CouponUsed, dtype: int64"
      ]
     },
     "execution_count": 89,
     "metadata": {},
     "output_type": "execute_result"
    }
   ],
   "source": [
    "df['CouponUsed'].value_counts()"
   ]
  },
  {
   "cell_type": "code",
   "execution_count": 90,
   "id": "9a116570",
   "metadata": {},
   "outputs": [
    {
     "data": {
      "text/plain": [
       "1.7510234462225531"
      ]
     },
     "execution_count": 90,
     "metadata": {},
     "output_type": "execute_result"
    }
   ],
   "source": [
    "df['CouponUsed'].mean()"
   ]
  },
  {
   "cell_type": "code",
   "execution_count": 91,
   "id": "5bf25e2b",
   "metadata": {},
   "outputs": [
    {
     "data": {
      "text/plain": [
       "1.0"
      ]
     },
     "execution_count": 91,
     "metadata": {},
     "output_type": "execute_result"
    }
   ],
   "source": [
    "df['CouponUsed'].median()"
   ]
  },
  {
   "cell_type": "code",
   "execution_count": 92,
   "id": "ff1dfc95",
   "metadata": {},
   "outputs": [
    {
     "data": {
      "text/plain": [
       "256"
      ]
     },
     "execution_count": 92,
     "metadata": {},
     "output_type": "execute_result"
    }
   ],
   "source": [
    "df['CouponUsed'].isna().sum()"
   ]
  },
  {
   "cell_type": "code",
   "execution_count": 93,
   "id": "0d0627c6",
   "metadata": {},
   "outputs": [
    {
     "data": {
      "text/plain": [
       "<AxesSubplot: >"
      ]
     },
     "execution_count": 93,
     "metadata": {},
     "output_type": "execute_result"
    },
    {
     "data": {
      "image/png": "[encoded data removed]",
      "text/plain": [
       "<Figure size 640x480 with 1 Axes>"
      ]
     },
     "metadata": {},
     "output_type": "display_data"
    }
   ],
   "source": [
    "sns.boxplot(df['CouponUsed'])"
   ]
  },
  {
   "cell_type": "code",
   "execution_count": 94,
   "id": "8ed15124",
   "metadata": {},
   "outputs": [],
   "source": [
    "df['CouponUsed'].fillna(df['CouponUsed'].median(),inplace=True)"
   ]
  },
  {
   "cell_type": "code",
   "execution_count": 95,
   "id": "3fb1d11a",
   "metadata": {},
   "outputs": [
    {
     "data": {
      "text/plain": [
       "<AxesSubplot: >"
      ]
     },
     "execution_count": 95,
     "metadata": {},
     "output_type": "execute_result"
    },
    {
     "data": {
      "image/png": "[encoded data removed]",
      "text/plain": [
       "<Figure size 640x480 with 1 Axes>"
      ]
     },
     "metadata": {},
     "output_type": "display_data"
    }
   ],
   "source": [
    "sns.boxplot(df['CouponUsed'])"
   ]
  },
  {
   "cell_type": "code",
   "execution_count": 96,
   "id": "47cc9e10",
   "metadata": {},
   "outputs": [],
   "source": [
    "# outlier handling"
   ]
  },
  {
   "cell_type": "code",
   "execution_count": 97,
   "id": "27d1db1c",
   "metadata": {},
   "outputs": [
    {
     "data": {
      "text/plain": [
       "array([ 4.,  9.,  6., 11.,  7., 12., 10.,  5., 13., 15.,  8., 14., 16.])"
      ]
     },
     "execution_count": 97,
     "metadata": {},
     "output_type": "execute_result"
    }
   ],
   "source": [
    "outlier.outlier_list('CouponUsed').unique()"
   ]
  },
  {
   "cell_type": "code",
   "execution_count": 98,
   "id": "09da0cd1",
   "metadata": {},
   "outputs": [
    {
     "data": {
      "text/plain": [
       "3.5"
      ]
     },
     "execution_count": 98,
     "metadata": {},
     "output_type": "execute_result"
    }
   ],
   "source": [
    "outlier.upper_tail"
   ]
  },
  {
   "cell_type": "code",
   "execution_count": 99,
   "id": "38eb837c",
   "metadata": {},
   "outputs": [
    {
     "data": {
      "text/plain": [
       "-0.5"
      ]
     },
     "execution_count": 99,
     "metadata": {},
     "output_type": "execute_result"
    }
   ],
   "source": [
    "outlier.lower_tail"
   ]
  },
  {
   "cell_type": "code",
   "execution_count": 100,
   "id": "b742b0b7",
   "metadata": {},
   "outputs": [
    {
     "data": {
      "text/plain": [
       "0       1.0\n",
       "1       0.0\n",
       "2       0.0\n",
       "3       0.0\n",
       "4       1.0\n",
       "       ... \n",
       "5625    1.0\n",
       "5626    1.0\n",
       "5627    1.0\n",
       "5628    2.0\n",
       "5629    2.0\n",
       "Name: CouponUsed, Length: 5630, dtype: float64"
      ]
     },
     "execution_count": 100,
     "metadata": {},
     "output_type": "execute_result"
    }
   ],
   "source": [
    "outlier.remove_outlier('CouponUsed')"
   ]
  },
  {
   "cell_type": "code",
   "execution_count": 101,
   "id": "83bcfc5d",
   "metadata": {},
   "outputs": [
    {
     "data": {
      "text/plain": [
       "<AxesSubplot: >"
      ]
     },
     "execution_count": 101,
     "metadata": {},
     "output_type": "execute_result"
    },
    {
     "data": {
      "image/png": "[encoded data removed]",
      "text/plain": [
       "<Figure size 640x480 with 1 Axes>"
      ]
     },
     "metadata": {},
     "output_type": "display_data"
    }
   ],
   "source": [
    "sns.boxplot(df['CouponUsed'])"
   ]
  },
  {
   "cell_type": "code",
   "execution_count": 102,
   "id": "2065ee7c",
   "metadata": {},
   "outputs": [
    {
     "name": "stdout",
     "output_type": "stream",
     "text": [
      "<class 'pandas.core.frame.DataFrame'>\n",
      "RangeIndex: 5630 entries, 0 to 5629\n",
      "Data columns (total 19 columns):\n",
      " #   Column                       Non-Null Count  Dtype  \n",
      "---  ------                       --------------  -----  \n",
      " 0   Churn                        5630 non-null   int64  \n",
      " 1   Tenure                       5630 non-null   float64\n",
      " 2   PreferredLoginDevice         5630 non-null   object \n",
      " 3   CityTier                     5630 non-null   int64  \n",
      " 4   WarehouseToHome              5630 non-null   float64\n",
      " 5   PreferredPaymentMode         5630 non-null   object \n",
      " 6   Gender                       5630 non-null   object \n",
      " 7   HourSpendOnApp               5630 non-null   float64\n",
      " 8   NumberOfDeviceRegistered     5630 non-null   int64  \n",
      " 9   PreferedOrderCat             5630 non-null   object \n",
      " 10  SatisfactionScore            5630 non-null   int64  \n",
      " 11  MaritalStatus                5630 non-null   object \n",
      " 12  NumberOfAddress              5630 non-null   float64\n",
      " 13  Complain                     5630 non-null   int64  \n",
      " 14  OrderAmountHikeFromlastYear  5630 non-null   float64\n",
      " 15  CouponUsed                   5630 non-null   float64\n",
      " 16  OrderCount                   5372 non-null   float64\n",
      " 17  DaySinceLastOrder            5323 non-null   float64\n",
      " 18  CashbackAmount               5630 non-null   float64\n",
      "dtypes: float64(9), int64(5), object(5)\n",
      "memory usage: 835.8+ KB\n"
     ]
    }
   ],
   "source": [
    "df.info()"
   ]
  },
  {
   "cell_type": "markdown",
   "id": "c92e05fc",
   "metadata": {},
   "source": [
    "##### 3.18 OrderCount"
   ]
  },
  {
   "cell_type": "code",
   "execution_count": 103,
   "id": "4289393b",
   "metadata": {},
   "outputs": [
    {
     "data": {
      "text/plain": [
       "2.0     2025\n",
       "1.0     1751\n",
       "3.0      371\n",
       "7.0      206\n",
       "4.0      204\n",
       "5.0      181\n",
       "8.0      172\n",
       "6.0      137\n",
       "9.0       62\n",
       "12.0      54\n",
       "11.0      51\n",
       "10.0      36\n",
       "14.0      36\n",
       "15.0      33\n",
       "13.0      30\n",
       "16.0      23\n",
       "Name: OrderCount, dtype: int64"
      ]
     },
     "execution_count": 103,
     "metadata": {},
     "output_type": "execute_result"
    }
   ],
   "source": [
    "df['OrderCount'].value_counts()"
   ]
  },
  {
   "cell_type": "code",
   "execution_count": 104,
   "id": "ad907ba9",
   "metadata": {},
   "outputs": [
    {
     "data": {
      "text/plain": [
       "258"
      ]
     },
     "execution_count": 104,
     "metadata": {},
     "output_type": "execute_result"
    }
   ],
   "source": [
    "df['OrderCount'].isna().sum()"
   ]
  },
  {
   "cell_type": "code",
   "execution_count": 105,
   "id": "102a4e75",
   "metadata": {},
   "outputs": [
    {
     "data": {
      "text/plain": [
       "2.0"
      ]
     },
     "execution_count": 105,
     "metadata": {},
     "output_type": "execute_result"
    }
   ],
   "source": [
    "df['OrderCount'].median()"
   ]
  },
  {
   "cell_type": "code",
   "execution_count": 106,
   "id": "7df9be5f",
   "metadata": {},
   "outputs": [
    {
     "data": {
      "text/plain": [
       "<AxesSubplot: >"
      ]
     },
     "execution_count": 106,
     "metadata": {},
     "output_type": "execute_result"
    },
    {
     "data": {
      "image/png": "[encoded data removed]",
      "text/plain": [
       "<Figure size 640x480 with 1 Axes>"
      ]
     },
     "metadata": {},
     "output_type": "display_data"
    }
   ],
   "source": [
    "sns.boxplot(df['OrderCount'])"
   ]
  },
  {
   "cell_type": "code",
   "execution_count": 107,
   "id": "4863b699",
   "metadata": {},
   "outputs": [],
   "source": [
    "df['OrderCount'].fillna(df['OrderCount'].median(),inplace=True)"
   ]
  },
  {
   "cell_type": "code",
   "execution_count": 108,
   "id": "cc7b274c",
   "metadata": {},
   "outputs": [],
   "source": [
    "#outlier handling"
   ]
  },
  {
   "cell_type": "code",
   "execution_count": 109,
   "id": "3090b2ab",
   "metadata": {},
   "outputs": [
    {
     "data": {
      "text/plain": [
       "<AxesSubplot: >"
      ]
     },
     "execution_count": 109,
     "metadata": {},
     "output_type": "execute_result"
    },
    {
     "data": {
      "image/png": "[encoded data removed]",
      "text/plain": [
       "<Figure size 640x480 with 1 Axes>"
      ]
     },
     "metadata": {},
     "output_type": "display_data"
    }
   ],
   "source": [
    "sns.boxplot(df['OrderCount'])"
   ]
  },
  {
   "cell_type": "code",
   "execution_count": 110,
   "id": "ab71f97e",
   "metadata": {},
   "outputs": [
    {
     "data": {
      "text/plain": [
       "10      15.0\n",
       "20       7.0\n",
       "21      15.0\n",
       "42       7.0\n",
       "47       7.0\n",
       "        ... \n",
       "5578     8.0\n",
       "5585     9.0\n",
       "5592     7.0\n",
       "5604    10.0\n",
       "5607    12.0\n",
       "Name: OrderCount, Length: 703, dtype: float64"
      ]
     },
     "execution_count": 110,
     "metadata": {},
     "output_type": "execute_result"
    }
   ],
   "source": [
    "outlier.outlier_list('OrderCount')"
   ]
  },
  {
   "cell_type": "code",
   "execution_count": 111,
   "id": "d87cbf5c",
   "metadata": {},
   "outputs": [
    {
     "data": {
      "text/plain": [
       "0       1.0\n",
       "1       1.0\n",
       "2       1.0\n",
       "3       1.0\n",
       "4       1.0\n",
       "       ... \n",
       "5625    2.0\n",
       "5626    2.0\n",
       "5627    2.0\n",
       "5628    2.0\n",
       "5629    2.0\n",
       "Name: OrderCount, Length: 5630, dtype: float64"
      ]
     },
     "execution_count": 111,
     "metadata": {},
     "output_type": "execute_result"
    }
   ],
   "source": [
    "outlier.remove_outlier('OrderCount')"
   ]
  },
  {
   "cell_type": "code",
   "execution_count": 112,
   "id": "e4daa0a6",
   "metadata": {},
   "outputs": [
    {
     "data": {
      "text/plain": [
       "<AxesSubplot: >"
      ]
     },
     "execution_count": 112,
     "metadata": {},
     "output_type": "execute_result"
    },
    {
     "data": {
      "image/png": "[encoded data removed]",
      "text/plain": [
       "<Figure size 640x480 with 1 Axes>"
      ]
     },
     "metadata": {},
     "output_type": "display_data"
    }
   ],
   "source": [
    "sns.boxplot(df['OrderCount'])"
   ]
  },
  {
   "cell_type": "code",
   "execution_count": 113,
   "id": "d0b9e1d3",
   "metadata": {},
   "outputs": [
    {
     "data": {
      "text/plain": [
       "2.0    2283\n",
       "1.0    1751\n",
       "6.0     840\n",
       "3.0     371\n",
       "4.0     204\n",
       "5.0     181\n",
       "Name: OrderCount, dtype: int64"
      ]
     },
     "execution_count": 113,
     "metadata": {},
     "output_type": "execute_result"
    }
   ],
   "source": [
    "df['OrderCount'].value_counts()"
   ]
  },
  {
   "cell_type": "markdown",
   "id": "d0473145",
   "metadata": {},
   "source": [
    "##### 3.19 DaySinceLastOrder"
   ]
  },
  {
   "cell_type": "code",
   "execution_count": 114,
   "id": "52213b0b",
   "metadata": {},
   "outputs": [
    {
     "data": {
      "text/plain": [
       "3.0     900\n",
       "2.0     792\n",
       "1.0     614\n",
       "8.0     538\n",
       "0.0     496\n",
       "7.0     447\n",
       "4.0     431\n",
       "9.0     299\n",
       "5.0     228\n",
       "10.0    157\n",
       "6.0     113\n",
       "11.0     91\n",
       "12.0     69\n",
       "13.0     51\n",
       "14.0     35\n",
       "15.0     19\n",
       "17.0     17\n",
       "16.0     13\n",
       "18.0     10\n",
       "30.0      1\n",
       "46.0      1\n",
       "31.0      1\n",
       "Name: DaySinceLastOrder, dtype: int64"
      ]
     },
     "execution_count": 114,
     "metadata": {},
     "output_type": "execute_result"
    }
   ],
   "source": [
    "df['DaySinceLastOrder'].value_counts()"
   ]
  },
  {
   "cell_type": "code",
   "execution_count": 115,
   "id": "8edfe60d",
   "metadata": {},
   "outputs": [
    {
     "data": {
      "text/plain": [
       "307"
      ]
     },
     "execution_count": 115,
     "metadata": {},
     "output_type": "execute_result"
    }
   ],
   "source": [
    "df['DaySinceLastOrder'].isna().sum()"
   ]
  },
  {
   "cell_type": "code",
   "execution_count": 116,
   "id": "968c3833",
   "metadata": {},
   "outputs": [
    {
     "data": {
      "text/plain": [
       "3.0"
      ]
     },
     "execution_count": 116,
     "metadata": {},
     "output_type": "execute_result"
    }
   ],
   "source": [
    "df['DaySinceLastOrder'].median()"
   ]
  },
  {
   "cell_type": "code",
   "execution_count": 117,
   "id": "6caeed43",
   "metadata": {},
   "outputs": [],
   "source": [
    "df['DaySinceLastOrder'].fillna(df['DaySinceLastOrder'].median(),inplace=True)"
   ]
  },
  {
   "cell_type": "code",
   "execution_count": 118,
   "id": "89d45bfa",
   "metadata": {},
   "outputs": [
    {
     "data": {
      "text/plain": [
       "<AxesSubplot: xlabel='DaySinceLastOrder'>"
      ]
     },
     "execution_count": 118,
     "metadata": {},
     "output_type": "execute_result"
    },
    {
     "data": {
      "image/png": "[encoded data removed]",
      "text/plain": [
       "<Figure size 640x480 with 1 Axes>"
      ]
     },
     "metadata": {},
     "output_type": "display_data"
    }
   ],
   "source": [
    "sns.boxplot(x = df['DaySinceLastOrder'])"
   ]
  },
  {
   "cell_type": "code",
   "execution_count": 119,
   "id": "cade2e75",
   "metadata": {},
   "outputs": [],
   "source": [
    "#outlier handling"
   ]
  },
  {
   "cell_type": "code",
   "execution_count": 120,
   "id": "393f9043",
   "metadata": {},
   "outputs": [
    {
     "data": {
      "text/plain": [
       "array([15., 17., 16., 30., 46., 18., 31.])"
      ]
     },
     "execution_count": 120,
     "metadata": {},
     "output_type": "execute_result"
    }
   ],
   "source": [
    "outlier.outlier_list('DaySinceLastOrder').unique()"
   ]
  },
  {
   "cell_type": "code",
   "execution_count": 121,
   "id": "da120b2c",
   "metadata": {},
   "outputs": [
    {
     "data": {
      "text/plain": [
       "0       5.0\n",
       "1       0.0\n",
       "2       3.0\n",
       "3       3.0\n",
       "4       3.0\n",
       "       ... \n",
       "5625    4.0\n",
       "5626    3.0\n",
       "5627    4.0\n",
       "5628    9.0\n",
       "5629    3.0\n",
       "Name: DaySinceLastOrder, Length: 5630, dtype: float64"
      ]
     },
     "execution_count": 121,
     "metadata": {},
     "output_type": "execute_result"
    }
   ],
   "source": [
    "outlier.remove_outlier('DaySinceLastOrder')"
   ]
  },
  {
   "cell_type": "code",
   "execution_count": 122,
   "id": "23e726bc",
   "metadata": {},
   "outputs": [
    {
     "data": {
      "text/plain": [
       "<AxesSubplot: xlabel='DaySinceLastOrder'>"
      ]
     },
     "execution_count": 122,
     "metadata": {},
     "output_type": "execute_result"
    },
    {
     "data": {
      "image/png": "[encoded data removed]",
      "text/plain": [
       "<Figure size 640x480 with 1 Axes>"
      ]
     },
     "metadata": {},
     "output_type": "display_data"
    }
   ],
   "source": [
    "sns.boxplot(x=df['DaySinceLastOrder'])"
   ]
  },
  {
   "cell_type": "code",
   "execution_count": 123,
   "id": "1d7caf41",
   "metadata": {},
   "outputs": [
    {
     "name": "stdout",
     "output_type": "stream",
     "text": [
      "<class 'pandas.core.frame.DataFrame'>\n",
      "RangeIndex: 5630 entries, 0 to 5629\n",
      "Data columns (total 19 columns):\n",
      " #   Column                       Non-Null Count  Dtype  \n",
      "---  ------                       --------------  -----  \n",
      " 0   Churn                        5630 non-null   int64  \n",
      " 1   Tenure                       5630 non-null   float64\n",
      " 2   PreferredLoginDevice         5630 non-null   object \n",
      " 3   CityTier                     5630 non-null   int64  \n",
      " 4   WarehouseToHome              5630 non-null   float64\n",
      " 5   PreferredPaymentMode         5630 non-null   object \n",
      " 6   Gender                       5630 non-null   object \n",
      " 7   HourSpendOnApp               5630 non-null   float64\n",
      " 8   NumberOfDeviceRegistered     5630 non-null   int64  \n",
      " 9   PreferedOrderCat             5630 non-null   object \n",
      " 10  SatisfactionScore            5630 non-null   int64  \n",
      " 11  MaritalStatus                5630 non-null   object \n",
      " 12  NumberOfAddress              5630 non-null   float64\n",
      " 13  Complain                     5630 non-null   int64  \n",
      " 14  OrderAmountHikeFromlastYear  5630 non-null   float64\n",
      " 15  CouponUsed                   5630 non-null   float64\n",
      " 16  OrderCount                   5630 non-null   float64\n",
      " 17  DaySinceLastOrder            5630 non-null   float64\n",
      " 18  CashbackAmount               5630 non-null   float64\n",
      "dtypes: float64(9), int64(5), object(5)\n",
      "memory usage: 835.8+ KB\n"
     ]
    }
   ],
   "source": [
    "df.info()"
   ]
  },
  {
   "cell_type": "markdown",
   "id": "c0695194",
   "metadata": {},
   "source": [
    "##### 3.20 CashbackAmount"
   ]
  },
  {
   "cell_type": "code",
   "execution_count": 124,
   "id": "36e23236",
   "metadata": {},
   "outputs": [
    {
     "data": {
      "text/plain": [
       "123.42    8\n",
       "149.36    8\n",
       "148.42    8\n",
       "188.47    7\n",
       "154.73    7\n",
       "         ..\n",
       "174.84    1\n",
       "127.74    1\n",
       "145.05    1\n",
       "174.28    1\n",
       "173.78    1\n",
       "Name: CashbackAmount, Length: 2586, dtype: int64"
      ]
     },
     "execution_count": 124,
     "metadata": {},
     "output_type": "execute_result"
    }
   ],
   "source": [
    "df['CashbackAmount'].value_counts()"
   ]
  },
  {
   "cell_type": "code",
   "execution_count": 125,
   "id": "42c3e2b9",
   "metadata": {},
   "outputs": [
    {
     "data": {
      "text/plain": [
       "<AxesSubplot: xlabel='CashbackAmount'>"
      ]
     },
     "execution_count": 125,
     "metadata": {},
     "output_type": "execute_result"
    },
    {
     "data": {
      "image/png": "[encoded data removed]",
      "text/plain": [
       "<Figure size 640x480 with 1 Axes>"
      ]
     },
     "metadata": {},
     "output_type": "display_data"
    }
   ],
   "source": [
    "sns.boxplot(x=df['CashbackAmount'])"
   ]
  },
  {
   "cell_type": "code",
   "execution_count": 126,
   "id": "4577ff1c",
   "metadata": {},
   "outputs": [],
   "source": [
    "#outlier detection"
   ]
  },
  {
   "cell_type": "code",
   "execution_count": 127,
   "id": "1f121ef9",
   "metadata": {},
   "outputs": [
    {
     "data": {
      "text/plain": [
       "10      295.45\n",
       "40      299.26\n",
       "61      290.33\n",
       "62      287.22\n",
       "65      299.99\n",
       "         ...  \n",
       "2916     25.00\n",
       "3841     25.00\n",
       "3991     25.00\n",
       "4070     25.00\n",
       "4115     37.00\n",
       "Name: CashbackAmount, Length: 438, dtype: float64"
      ]
     },
     "execution_count": 127,
     "metadata": {},
     "output_type": "execute_result"
    }
   ],
   "source": [
    "outlier.outlier_list('CashbackAmount')"
   ]
  },
  {
   "cell_type": "code",
   "execution_count": 128,
   "id": "6cde43f8",
   "metadata": {},
   "outputs": [
    {
     "data": {
      "text/plain": [
       "0       159.93\n",
       "1       120.90\n",
       "2       120.28\n",
       "3       134.07\n",
       "4       129.60\n",
       "         ...  \n",
       "5625    150.71\n",
       "5626    224.91\n",
       "5627    186.42\n",
       "5628    178.90\n",
       "5629    169.04\n",
       "Name: CashbackAmount, Length: 5630, dtype: float64"
      ]
     },
     "execution_count": 128,
     "metadata": {},
     "output_type": "execute_result"
    }
   ],
   "source": [
    "outlier.remove_outlier('CashbackAmount')"
   ]
  },
  {
   "cell_type": "code",
   "execution_count": 129,
   "id": "52c51b27",
   "metadata": {},
   "outputs": [
    {
     "data": {
      "text/plain": [
       "<AxesSubplot: xlabel='CashbackAmount'>"
      ]
     },
     "execution_count": 129,
     "metadata": {},
     "output_type": "execute_result"
    },
    {
     "data": {
      "image/png": "[encoded data removed]",
      "text/plain": [
       "<Figure size 640x480 with 1 Axes>"
      ]
     },
     "metadata": {},
     "output_type": "display_data"
    }
   ],
   "source": [
    "sns.boxplot(x = df['CashbackAmount'])"
   ]
  },
  {
   "cell_type": "code",
   "execution_count": 130,
   "id": "121f49bc",
   "metadata": {},
   "outputs": [],
   "source": [
    "# EDA part done"
   ]
  },
  {
   "cell_type": "markdown",
   "id": "b7d8c316",
   "metadata": {},
   "source": [
    "### 4.Feature Engineering"
   ]
  },
  {
   "cell_type": "code",
   "execution_count": 131,
   "id": "27f9d7aa",
   "metadata": {},
   "outputs": [],
   "source": [
    "#Encoding of categorical variables"
   ]
  },
  {
   "cell_type": "code",
   "execution_count": 132,
   "id": "edc76ef7",
   "metadata": {},
   "outputs": [
    {
     "name": "stdout",
     "output_type": "stream",
     "text": [
      "<class 'pandas.core.frame.DataFrame'>\n",
      "RangeIndex: 5630 entries, 0 to 5629\n",
      "Data columns (total 19 columns):\n",
      " #   Column                       Non-Null Count  Dtype  \n",
      "---  ------                       --------------  -----  \n",
      " 0   Churn                        5630 non-null   int64  \n",
      " 1   Tenure                       5630 non-null   float64\n",
      " 2   PreferredLoginDevice         5630 non-null   object \n",
      " 3   CityTier                     5630 non-null   int64  \n",
      " 4   WarehouseToHome              5630 non-null   float64\n",
      " 5   PreferredPaymentMode         5630 non-null   object \n",
      " 6   Gender                       5630 non-null   object \n",
      " 7   HourSpendOnApp               5630 non-null   float64\n",
      " 8   NumberOfDeviceRegistered     5630 non-null   int64  \n",
      " 9   PreferedOrderCat             5630 non-null   object \n",
      " 10  SatisfactionScore            5630 non-null   int64  \n",
      " 11  MaritalStatus                5630 non-null   object \n",
      " 12  NumberOfAddress              5630 non-null   float64\n",
      " 13  Complain                     5630 non-null   int64  \n",
      " 14  OrderAmountHikeFromlastYear  5630 non-null   float64\n",
      " 15  CouponUsed                   5630 non-null   float64\n",
      " 16  OrderCount                   5630 non-null   float64\n",
      " 17  DaySinceLastOrder            5630 non-null   float64\n",
      " 18  CashbackAmount               5630 non-null   float64\n",
      "dtypes: float64(9), int64(5), object(5)\n",
      "memory usage: 835.8+ KB\n"
     ]
    }
   ],
   "source": [
    "df.info()"
   ]
  },
  {
   "cell_type": "code",
   "execution_count": 133,
   "id": "3c9ccdb4",
   "metadata": {},
   "outputs": [
    {
     "data": {
      "text/plain": [
       "{'Mobile Phone': 2765, 'Computer': 1634, 'Phone': 1231}"
      ]
     },
     "execution_count": 133,
     "metadata": {},
     "output_type": "execute_result"
    }
   ],
   "source": [
    "df['PreferredLoginDevice'].value_counts().to_dict()"
   ]
  },
  {
   "cell_type": "code",
   "execution_count": 134,
   "id": "758bf1ae",
   "metadata": {},
   "outputs": [],
   "source": [
    "df['PreferredLoginDevice'].replace({'Mobile Phone': 2, 'Computer': 1, 'Phone': 0},inplace=True) "
   ]
  },
  {
   "cell_type": "code",
   "execution_count": 135,
   "id": "31e84ee7",
   "metadata": {},
   "outputs": [
    {
     "name": "stdout",
     "output_type": "stream",
     "text": [
      "<class 'pandas.core.frame.DataFrame'>\n",
      "RangeIndex: 5630 entries, 0 to 5629\n",
      "Data columns (total 19 columns):\n",
      " #   Column                       Non-Null Count  Dtype  \n",
      "---  ------                       --------------  -----  \n",
      " 0   Churn                        5630 non-null   int64  \n",
      " 1   Tenure                       5630 non-null   float64\n",
      " 2   PreferredLoginDevice         5630 non-null   int64  \n",
      " 3   CityTier                     5630 non-null   int64  \n",
      " 4   WarehouseToHome              5630 non-null   float64\n",
      " 5   PreferredPaymentMode         5630 non-null   object \n",
      " 6   Gender                       5630 non-null   object \n",
      " 7   HourSpendOnApp               5630 non-null   float64\n",
      " 8   NumberOfDeviceRegistered     5630 non-null   int64  \n",
      " 9   PreferedOrderCat             5630 non-null   object \n",
      " 10  SatisfactionScore            5630 non-null   int64  \n",
      " 11  MaritalStatus                5630 non-null   object \n",
      " 12  NumberOfAddress              5630 non-null   float64\n",
      " 13  Complain                     5630 non-null   int64  \n",
      " 14  OrderAmountHikeFromlastYear  5630 non-null   float64\n",
      " 15  CouponUsed                   5630 non-null   float64\n",
      " 16  OrderCount                   5630 non-null   float64\n",
      " 17  DaySinceLastOrder            5630 non-null   float64\n",
      " 18  CashbackAmount               5630 non-null   float64\n",
      "dtypes: float64(9), int64(6), object(4)\n",
      "memory usage: 835.8+ KB\n"
     ]
    }
   ],
   "source": [
    "df.info()"
   ]
  },
  {
   "cell_type": "code",
   "execution_count": 136,
   "id": "6ea5ec6e",
   "metadata": {},
   "outputs": [],
   "source": [
    "df = pd.get_dummies(df,columns=['PreferredPaymentMode'])"
   ]
  },
  {
   "cell_type": "code",
   "execution_count": 137,
   "id": "2f422719",
   "metadata": {},
   "outputs": [
    {
     "name": "stdout",
     "output_type": "stream",
     "text": [
      "<class 'pandas.core.frame.DataFrame'>\n",
      "RangeIndex: 5630 entries, 0 to 5629\n",
      "Data columns (total 25 columns):\n",
      " #   Column                                 Non-Null Count  Dtype  \n",
      "---  ------                                 --------------  -----  \n",
      " 0   Churn                                  5630 non-null   int64  \n",
      " 1   Tenure                                 5630 non-null   float64\n",
      " 2   PreferredLoginDevice                   5630 non-null   int64  \n",
      " 3   CityTier                               5630 non-null   int64  \n",
      " 4   WarehouseToHome                        5630 non-null   float64\n",
      " 5   Gender                                 5630 non-null   object \n",
      " 6   HourSpendOnApp                         5630 non-null   float64\n",
      " 7   NumberOfDeviceRegistered               5630 non-null   int64  \n",
      " 8   PreferedOrderCat                       5630 non-null   object \n",
      " 9   SatisfactionScore                      5630 non-null   int64  \n",
      " 10  MaritalStatus                          5630 non-null   object \n",
      " 11  NumberOfAddress                        5630 non-null   float64\n",
      " 12  Complain                               5630 non-null   int64  \n",
      " 13  OrderAmountHikeFromlastYear            5630 non-null   float64\n",
      " 14  CouponUsed                             5630 non-null   float64\n",
      " 15  OrderCount                             5630 non-null   float64\n",
      " 16  DaySinceLastOrder                      5630 non-null   float64\n",
      " 17  CashbackAmount                         5630 non-null   float64\n",
      " 18  PreferredPaymentMode_CC                5630 non-null   uint8  \n",
      " 19  PreferredPaymentMode_COD               5630 non-null   uint8  \n",
      " 20  PreferredPaymentMode_Cash on Delivery  5630 non-null   uint8  \n",
      " 21  PreferredPaymentMode_Credit Card       5630 non-null   uint8  \n",
      " 22  PreferredPaymentMode_Debit Card        5630 non-null   uint8  \n",
      " 23  PreferredPaymentMode_E wallet          5630 non-null   uint8  \n",
      " 24  PreferredPaymentMode_UPI               5630 non-null   uint8  \n",
      "dtypes: float64(9), int64(6), object(3), uint8(7)\n",
      "memory usage: 830.3+ KB\n"
     ]
    }
   ],
   "source": [
    "df.info()"
   ]
  },
  {
   "cell_type": "code",
   "execution_count": 138,
   "id": "ef88af1e",
   "metadata": {},
   "outputs": [
    {
     "data": {
      "text/plain": [
       "Male      3384\n",
       "Female    2246\n",
       "Name: Gender, dtype: int64"
      ]
     },
     "execution_count": 138,
     "metadata": {},
     "output_type": "execute_result"
    }
   ],
   "source": [
    "df['Gender'].value_counts()"
   ]
  },
  {
   "cell_type": "code",
   "execution_count": 139,
   "id": "d5eaa5eb",
   "metadata": {},
   "outputs": [],
   "source": [
    "df['Gender'].replace({'Male':1,'Female':0},inplace=True)"
   ]
  },
  {
   "cell_type": "code",
   "execution_count": 140,
   "id": "58277ec0",
   "metadata": {},
   "outputs": [
    {
     "name": "stdout",
     "output_type": "stream",
     "text": [
      "<class 'pandas.core.frame.DataFrame'>\n",
      "RangeIndex: 5630 entries, 0 to 5629\n",
      "Data columns (total 25 columns):\n",
      " #   Column                                 Non-Null Count  Dtype  \n",
      "---  ------                                 --------------  -----  \n",
      " 0   Churn                                  5630 non-null   int64  \n",
      " 1   Tenure                                 5630 non-null   float64\n",
      " 2   PreferredLoginDevice                   5630 non-null   int64  \n",
      " 3   CityTier                               5630 non-null   int64  \n",
      " 4   WarehouseToHome                        5630 non-null   float64\n",
      " 5   Gender                                 5630 non-null   int64  \n",
      " 6   HourSpendOnApp                         5630 non-null   float64\n",
      " 7   NumberOfDeviceRegistered               5630 non-null   int64  \n",
      " 8   PreferedOrderCat                       5630 non-null   object \n",
      " 9   SatisfactionScore                      5630 non-null   int64  \n",
      " 10  MaritalStatus                          5630 non-null   object \n",
      " 11  NumberOfAddress                        5630 non-null   float64\n",
      " 12  Complain                               5630 non-null   int64  \n",
      " 13  OrderAmountHikeFromlastYear            5630 non-null   float64\n",
      " 14  CouponUsed                             5630 non-null   float64\n",
      " 15  OrderCount                             5630 non-null   float64\n",
      " 16  DaySinceLastOrder                      5630 non-null   float64\n",
      " 17  CashbackAmount                         5630 non-null   float64\n",
      " 18  PreferredPaymentMode_CC                5630 non-null   uint8  \n",
      " 19  PreferredPaymentMode_COD               5630 non-null   uint8  \n",
      " 20  PreferredPaymentMode_Cash on Delivery  5630 non-null   uint8  \n",
      " 21  PreferredPaymentMode_Credit Card       5630 non-null   uint8  \n",
      " 22  PreferredPaymentMode_Debit Card        5630 non-null   uint8  \n",
      " 23  PreferredPaymentMode_E wallet          5630 non-null   uint8  \n",
      " 24  PreferredPaymentMode_UPI               5630 non-null   uint8  \n",
      "dtypes: float64(9), int64(7), object(2), uint8(7)\n",
      "memory usage: 830.3+ KB\n"
     ]
    }
   ],
   "source": [
    "df.info()"
   ]
  },
  {
   "cell_type": "code",
   "execution_count": 141,
   "id": "624ed9df",
   "metadata": {},
   "outputs": [
    {
     "data": {
      "text/plain": [
       "Laptop & Accessory    2050\n",
       "Mobile Phone          1271\n",
       "Fashion                826\n",
       "Mobile                 809\n",
       "Grocery                410\n",
       "Others                 264\n",
       "Name: PreferedOrderCat, dtype: int64"
      ]
     },
     "execution_count": 141,
     "metadata": {},
     "output_type": "execute_result"
    }
   ],
   "source": [
    "df['PreferedOrderCat'].value_counts()"
   ]
  },
  {
   "cell_type": "code",
   "execution_count": 142,
   "id": "914362d5",
   "metadata": {},
   "outputs": [],
   "source": [
    "df = pd.get_dummies(df,columns=['PreferedOrderCat'])"
   ]
  },
  {
   "cell_type": "code",
   "execution_count": 143,
   "id": "f9ab2f2e",
   "metadata": {},
   "outputs": [
    {
     "data": {
      "text/plain": [
       "{'Married': 2986, 'Single': 1796, 'Divorced': 848}"
      ]
     },
     "execution_count": 143,
     "metadata": {},
     "output_type": "execute_result"
    }
   ],
   "source": [
    "df['MaritalStatus'].value_counts().to_dict()"
   ]
  },
  {
   "cell_type": "code",
   "execution_count": 144,
   "id": "c25f1f09",
   "metadata": {},
   "outputs": [],
   "source": [
    "df['MaritalStatus'].replace({'Married': 2, 'Single': 1, 'Divorced': 0},inplace=True)"
   ]
  },
  {
   "cell_type": "code",
   "execution_count": 145,
   "id": "71886e1e",
   "metadata": {},
   "outputs": [
    {
     "name": "stdout",
     "output_type": "stream",
     "text": [
      "<class 'pandas.core.frame.DataFrame'>\n",
      "RangeIndex: 5630 entries, 0 to 5629\n",
      "Data columns (total 30 columns):\n",
      " #   Column                                 Non-Null Count  Dtype  \n",
      "---  ------                                 --------------  -----  \n",
      " 0   Churn                                  5630 non-null   int64  \n",
      " 1   Tenure                                 5630 non-null   float64\n",
      " 2   PreferredLoginDevice                   5630 non-null   int64  \n",
      " 3   CityTier                               5630 non-null   int64  \n",
      " 4   WarehouseToHome                        5630 non-null   float64\n",
      " 5   Gender                                 5630 non-null   int64  \n",
      " 6   HourSpendOnApp                         5630 non-null   float64\n",
      " 7   NumberOfDeviceRegistered               5630 non-null   int64  \n",
      " 8   SatisfactionScore                      5630 non-null   int64  \n",
      " 9   MaritalStatus                          5630 non-null   int64  \n",
      " 10  NumberOfAddress                        5630 non-null   float64\n",
      " 11  Complain                               5630 non-null   int64  \n",
      " 12  OrderAmountHikeFromlastYear            5630 non-null   float64\n",
      " 13  CouponUsed                             5630 non-null   float64\n",
      " 14  OrderCount                             5630 non-null   float64\n",
      " 15  DaySinceLastOrder                      5630 non-null   float64\n",
      " 16  CashbackAmount                         5630 non-null   float64\n",
      " 17  PreferredPaymentMode_CC                5630 non-null   uint8  \n",
      " 18  PreferredPaymentMode_COD               5630 non-null   uint8  \n",
      " 19  PreferredPaymentMode_Cash on Delivery  5630 non-null   uint8  \n",
      " 20  PreferredPaymentMode_Credit Card       5630 non-null   uint8  \n",
      " 21  PreferredPaymentMode_Debit Card        5630 non-null   uint8  \n",
      " 22  PreferredPaymentMode_E wallet          5630 non-null   uint8  \n",
      " 23  PreferredPaymentMode_UPI               5630 non-null   uint8  \n",
      " 24  PreferedOrderCat_Fashion               5630 non-null   uint8  \n",
      " 25  PreferedOrderCat_Grocery               5630 non-null   uint8  \n",
      " 26  PreferedOrderCat_Laptop & Accessory    5630 non-null   uint8  \n",
      " 27  PreferedOrderCat_Mobile                5630 non-null   uint8  \n",
      " 28  PreferedOrderCat_Mobile Phone          5630 non-null   uint8  \n",
      " 29  PreferedOrderCat_Others                5630 non-null   uint8  \n",
      "dtypes: float64(9), int64(8), uint8(13)\n",
      "memory usage: 819.3 KB\n"
     ]
    }
   ],
   "source": [
    "df.info()"
   ]
  },
  {
   "cell_type": "code",
   "execution_count": 146,
   "id": "386babde",
   "metadata": {},
   "outputs": [],
   "source": [
    "#Encoding part - Done"
   ]
  },
  {
   "cell_type": "code",
   "execution_count": null,
   "id": "faf78956",
   "metadata": {},
   "outputs": [],
   "source": []
  },
  {
   "cell_type": "code",
   "execution_count": null,
   "id": "07f85bde",
   "metadata": {},
   "outputs": [],
   "source": []
  },
  {
   "cell_type": "markdown",
   "id": "d658e915",
   "metadata": {},
   "source": [
    "### 5. Feature selection"
   ]
  },
  {
   "cell_type": "code",
   "execution_count": null,
   "id": "d1ffa74e",
   "metadata": {},
   "outputs": [],
   "source": [
    "1.Before model training >> Filter methods\n",
    "2.During model training >> Wrapper methods\n",
    "3.After  model training >> Embedded Methods"
   ]
  },
  {
   "cell_type": "markdown",
   "id": "b4287526",
   "metadata": {},
   "source": [
    "### Filter methods"
   ]
  },
  {
   "cell_type": "markdown",
   "id": "b327dc2e",
   "metadata": {},
   "source": [
    "##### 1. Correlation"
   ]
  },
  {
   "cell_type": "code",
   "execution_count": 161,
   "id": "21c852c1",
   "metadata": {},
   "outputs": [
    {
     "data": {
      "text/html": [
       "<div>\n",
       "<style scoped>\n",
       "    .dataframe tbody tr th:only-of-type {\n",
       "        vertical-align: middle;\n",
       "    }\n",
       "\n",
       "    .dataframe tbody tr th {\n",
       "        vertical-align: top;\n",
       "    }\n",
       "\n",
       "    .dataframe thead th {\n",
       "        text-align: right;\n",
       "    }\n",
       "</style>\n",
       "<table border=\"1\" class=\"dataframe\">\n",
       "  <thead>\n",
       "    <tr style=\"text-align: right;\">\n",
       "      <th></th>\n",
       "      <th>Churn</th>\n",
       "      <th>Tenure</th>\n",
       "      <th>PreferredLoginDevice</th>\n",
       "      <th>CityTier</th>\n",
       "      <th>WarehouseToHome</th>\n",
       "      <th>Gender</th>\n",
       "      <th>HourSpendOnApp</th>\n",
       "      <th>NumberOfDeviceRegistered</th>\n",
       "      <th>SatisfactionScore</th>\n",
       "      <th>MaritalStatus</th>\n",
       "      <th>...</th>\n",
       "      <th>PreferredPaymentMode_Credit Card</th>\n",
       "      <th>PreferredPaymentMode_Debit Card</th>\n",
       "      <th>PreferredPaymentMode_E wallet</th>\n",
       "      <th>PreferredPaymentMode_UPI</th>\n",
       "      <th>PreferedOrderCat_Fashion</th>\n",
       "      <th>PreferedOrderCat_Grocery</th>\n",
       "      <th>PreferedOrderCat_Laptop &amp; Accessory</th>\n",
       "      <th>PreferedOrderCat_Mobile</th>\n",
       "      <th>PreferedOrderCat_Mobile Phone</th>\n",
       "      <th>PreferedOrderCat_Others</th>\n",
       "    </tr>\n",
       "  </thead>\n",
       "  <tbody>\n",
       "    <tr>\n",
       "      <th>Churn</th>\n",
       "      <td>1.000000</td>\n",
       "      <td>-0.339678</td>\n",
       "      <td>-0.110924</td>\n",
       "      <td>0.084703</td>\n",
       "      <td>0.073529</td>\n",
       "      <td>0.029264</td>\n",
       "      <td>0.018861</td>\n",
       "      <td>0.107939</td>\n",
       "      <td>0.105481</td>\n",
       "      <td>-0.090703</td>\n",
       "      <td>...</td>\n",
       "      <td>-0.064131</td>\n",
       "      <td>-0.032453</td>\n",
       "      <td>0.055751</td>\n",
       "      <td>0.004163</td>\n",
       "      <td>-0.014871</td>\n",
       "      <td>-0.089575</td>\n",
       "      <td>-0.133353</td>\n",
       "      <td>0.113364</td>\n",
       "      <td>0.154387</td>\n",
       "      <td>-0.054903</td>\n",
       "    </tr>\n",
       "    <tr>\n",
       "      <th>Tenure</th>\n",
       "      <td>-0.339678</td>\n",
       "      <td>1.000000</td>\n",
       "      <td>0.219343</td>\n",
       "      <td>-0.059555</td>\n",
       "      <td>-0.020914</td>\n",
       "      <td>-0.045926</td>\n",
       "      <td>-0.019195</td>\n",
       "      <td>-0.019024</td>\n",
       "      <td>-0.012767</td>\n",
       "      <td>0.037911</td>\n",
       "      <td>...</td>\n",
       "      <td>0.049793</td>\n",
       "      <td>0.017229</td>\n",
       "      <td>0.010411</td>\n",
       "      <td>-0.037011</td>\n",
       "      <td>0.103387</td>\n",
       "      <td>0.347406</td>\n",
       "      <td>-0.054059</td>\n",
       "      <td>-0.169948</td>\n",
       "      <td>-0.233938</td>\n",
       "      <td>0.267624</td>\n",
       "    </tr>\n",
       "    <tr>\n",
       "      <th>PreferredLoginDevice</th>\n",
       "      <td>-0.110924</td>\n",
       "      <td>0.219343</td>\n",
       "      <td>1.000000</td>\n",
       "      <td>0.136237</td>\n",
       "      <td>0.023044</td>\n",
       "      <td>-0.040056</td>\n",
       "      <td>0.164078</td>\n",
       "      <td>0.146031</td>\n",
       "      <td>-0.030101</td>\n",
       "      <td>0.017474</td>\n",
       "      <td>...</td>\n",
       "      <td>0.104817</td>\n",
       "      <td>-0.020148</td>\n",
       "      <td>0.120585</td>\n",
       "      <td>-0.039951</td>\n",
       "      <td>0.237363</td>\n",
       "      <td>0.159731</td>\n",
       "      <td>0.143281</td>\n",
       "      <td>-0.497609</td>\n",
       "      <td>-0.122204</td>\n",
       "      <td>0.147620</td>\n",
       "    </tr>\n",
       "    <tr>\n",
       "      <th>CityTier</th>\n",
       "      <td>0.084703</td>\n",
       "      <td>-0.059555</td>\n",
       "      <td>0.136237</td>\n",
       "      <td>1.000000</td>\n",
       "      <td>0.008197</td>\n",
       "      <td>-0.025176</td>\n",
       "      <td>-0.010221</td>\n",
       "      <td>0.027934</td>\n",
       "      <td>-0.011554</td>\n",
       "      <td>-0.027483</td>\n",
       "      <td>...</td>\n",
       "      <td>-0.137236</td>\n",
       "      <td>-0.118713</td>\n",
       "      <td>0.514227</td>\n",
       "      <td>-0.030518</td>\n",
       "      <td>0.063189</td>\n",
       "      <td>0.004160</td>\n",
       "      <td>0.226587</td>\n",
       "      <td>-0.127602</td>\n",
       "      <td>-0.188046</td>\n",
       "      <td>-0.042998</td>\n",
       "    </tr>\n",
       "    <tr>\n",
       "      <th>WarehouseToHome</th>\n",
       "      <td>0.073529</td>\n",
       "      <td>-0.020914</td>\n",
       "      <td>0.023044</td>\n",
       "      <td>0.008197</td>\n",
       "      <td>1.000000</td>\n",
       "      <td>-0.004521</td>\n",
       "      <td>0.068421</td>\n",
       "      <td>0.024470</td>\n",
       "      <td>0.013683</td>\n",
       "      <td>0.020368</td>\n",
       "      <td>...</td>\n",
       "      <td>0.028865</td>\n",
       "      <td>-0.030999</td>\n",
       "      <td>0.038226</td>\n",
       "      <td>-0.004746</td>\n",
       "      <td>0.034212</td>\n",
       "      <td>0.035639</td>\n",
       "      <td>0.048814</td>\n",
       "      <td>-0.056977</td>\n",
       "      <td>-0.020760</td>\n",
       "      <td>-0.076574</td>\n",
       "    </tr>\n",
       "    <tr>\n",
       "      <th>Gender</th>\n",
       "      <td>0.029264</td>\n",
       "      <td>-0.045926</td>\n",
       "      <td>-0.040056</td>\n",
       "      <td>-0.025176</td>\n",
       "      <td>-0.004521</td>\n",
       "      <td>1.000000</td>\n",
       "      <td>-0.017683</td>\n",
       "      <td>-0.021799</td>\n",
       "      <td>-0.035220</td>\n",
       "      <td>0.030161</td>\n",
       "      <td>...</td>\n",
       "      <td>-0.023132</td>\n",
       "      <td>0.002310</td>\n",
       "      <td>-0.024500</td>\n",
       "      <td>0.043301</td>\n",
       "      <td>-0.025097</td>\n",
       "      <td>-0.048071</td>\n",
       "      <td>-0.019739</td>\n",
       "      <td>0.017308</td>\n",
       "      <td>0.042552</td>\n",
       "      <td>0.033147</td>\n",
       "    </tr>\n",
       "    <tr>\n",
       "      <th>HourSpendOnApp</th>\n",
       "      <td>0.018861</td>\n",
       "      <td>-0.019195</td>\n",
       "      <td>0.164078</td>\n",
       "      <td>-0.010221</td>\n",
       "      <td>0.068421</td>\n",
       "      <td>-0.017683</td>\n",
       "      <td>1.000000</td>\n",
       "      <td>0.305416</td>\n",
       "      <td>0.030829</td>\n",
       "      <td>0.017310</td>\n",
       "      <td>...</td>\n",
       "      <td>0.042586</td>\n",
       "      <td>0.023982</td>\n",
       "      <td>0.003347</td>\n",
       "      <td>-0.025082</td>\n",
       "      <td>-0.007496</td>\n",
       "      <td>-0.044874</td>\n",
       "      <td>-0.038291</td>\n",
       "      <td>-0.175644</td>\n",
       "      <td>0.238199</td>\n",
       "      <td>-0.024765</td>\n",
       "    </tr>\n",
       "    <tr>\n",
       "      <th>NumberOfDeviceRegistered</th>\n",
       "      <td>0.107939</td>\n",
       "      <td>-0.019024</td>\n",
       "      <td>0.146031</td>\n",
       "      <td>0.027934</td>\n",
       "      <td>0.024470</td>\n",
       "      <td>-0.021799</td>\n",
       "      <td>0.305416</td>\n",
       "      <td>1.000000</td>\n",
       "      <td>-0.017228</td>\n",
       "      <td>-0.021796</td>\n",
       "      <td>...</td>\n",
       "      <td>0.040341</td>\n",
       "      <td>-0.007516</td>\n",
       "      <td>0.025578</td>\n",
       "      <td>0.007815</td>\n",
       "      <td>0.036230</td>\n",
       "      <td>-0.035706</td>\n",
       "      <td>-0.006282</td>\n",
       "      <td>-0.215316</td>\n",
       "      <td>0.168584</td>\n",
       "      <td>0.021423</td>\n",
       "    </tr>\n",
       "    <tr>\n",
       "      <th>SatisfactionScore</th>\n",
       "      <td>0.105481</td>\n",
       "      <td>-0.012767</td>\n",
       "      <td>-0.030101</td>\n",
       "      <td>-0.011554</td>\n",
       "      <td>0.013683</td>\n",
       "      <td>-0.035220</td>\n",
       "      <td>0.030829</td>\n",
       "      <td>-0.017228</td>\n",
       "      <td>1.000000</td>\n",
       "      <td>-0.044406</td>\n",
       "      <td>...</td>\n",
       "      <td>0.020594</td>\n",
       "      <td>-0.050365</td>\n",
       "      <td>0.017752</td>\n",
       "      <td>0.008063</td>\n",
       "      <td>0.011944</td>\n",
       "      <td>0.002287</td>\n",
       "      <td>-0.019501</td>\n",
       "      <td>0.005493</td>\n",
       "      <td>0.005577</td>\n",
       "      <td>0.001442</td>\n",
       "    </tr>\n",
       "    <tr>\n",
       "      <th>MaritalStatus</th>\n",
       "      <td>-0.090703</td>\n",
       "      <td>0.037911</td>\n",
       "      <td>0.017474</td>\n",
       "      <td>-0.027483</td>\n",
       "      <td>0.020368</td>\n",
       "      <td>0.030161</td>\n",
       "      <td>0.017310</td>\n",
       "      <td>-0.021796</td>\n",
       "      <td>-0.044406</td>\n",
       "      <td>1.000000</td>\n",
       "      <td>...</td>\n",
       "      <td>0.010413</td>\n",
       "      <td>-0.008251</td>\n",
       "      <td>-0.011796</td>\n",
       "      <td>0.030449</td>\n",
       "      <td>0.018038</td>\n",
       "      <td>-0.012780</td>\n",
       "      <td>0.029983</td>\n",
       "      <td>-0.010518</td>\n",
       "      <td>-0.037497</td>\n",
       "      <td>0.008882</td>\n",
       "    </tr>\n",
       "    <tr>\n",
       "      <th>NumberOfAddress</th>\n",
       "      <td>0.042697</td>\n",
       "      <td>0.240094</td>\n",
       "      <td>0.144846</td>\n",
       "      <td>-0.028077</td>\n",
       "      <td>-0.006917</td>\n",
       "      <td>-0.033768</td>\n",
       "      <td>0.140625</td>\n",
       "      <td>0.086312</td>\n",
       "      <td>0.054093</td>\n",
       "      <td>0.011037</td>\n",
       "      <td>...</td>\n",
       "      <td>0.054840</td>\n",
       "      <td>-0.003009</td>\n",
       "      <td>-0.017108</td>\n",
       "      <td>0.005564</td>\n",
       "      <td>0.045035</td>\n",
       "      <td>0.073234</td>\n",
       "      <td>0.044155</td>\n",
       "      <td>-0.151471</td>\n",
       "      <td>-0.033151</td>\n",
       "      <td>0.051002</td>\n",
       "    </tr>\n",
       "    <tr>\n",
       "      <th>Complain</th>\n",
       "      <td>0.250188</td>\n",
       "      <td>-0.022093</td>\n",
       "      <td>-0.002488</td>\n",
       "      <td>0.003375</td>\n",
       "      <td>0.030171</td>\n",
       "      <td>-0.040269</td>\n",
       "      <td>0.006902</td>\n",
       "      <td>0.003407</td>\n",
       "      <td>-0.031115</td>\n",
       "      <td>-0.005973</td>\n",
       "      <td>...</td>\n",
       "      <td>-0.003238</td>\n",
       "      <td>-0.009009</td>\n",
       "      <td>0.011450</td>\n",
       "      <td>0.021183</td>\n",
       "      <td>0.007419</td>\n",
       "      <td>0.013917</td>\n",
       "      <td>-0.021304</td>\n",
       "      <td>0.006186</td>\n",
       "      <td>0.011191</td>\n",
       "      <td>-0.013429</td>\n",
       "    </tr>\n",
       "    <tr>\n",
       "      <th>OrderAmountHikeFromlastYear</th>\n",
       "      <td>-0.007075</td>\n",
       "      <td>-0.006889</td>\n",
       "      <td>0.004416</td>\n",
       "      <td>-0.028890</td>\n",
       "      <td>0.039716</td>\n",
       "      <td>-0.001702</td>\n",
       "      <td>0.099862</td>\n",
       "      <td>0.065714</td>\n",
       "      <td>-0.027121</td>\n",
       "      <td>0.010040</td>\n",
       "      <td>...</td>\n",
       "      <td>0.046249</td>\n",
       "      <td>0.010755</td>\n",
       "      <td>-0.034468</td>\n",
       "      <td>0.006769</td>\n",
       "      <td>0.011154</td>\n",
       "      <td>-0.014579</td>\n",
       "      <td>-0.004927</td>\n",
       "      <td>-0.043680</td>\n",
       "      <td>0.067747</td>\n",
       "      <td>-0.051031</td>\n",
       "    </tr>\n",
       "    <tr>\n",
       "      <th>CouponUsed</th>\n",
       "      <td>-0.008644</td>\n",
       "      <td>0.080694</td>\n",
       "      <td>0.192689</td>\n",
       "      <td>0.025752</td>\n",
       "      <td>0.015066</td>\n",
       "      <td>-0.026189</td>\n",
       "      <td>0.270733</td>\n",
       "      <td>0.210064</td>\n",
       "      <td>0.012604</td>\n",
       "      <td>0.000545</td>\n",
       "      <td>...</td>\n",
       "      <td>0.052478</td>\n",
       "      <td>-0.001047</td>\n",
       "      <td>0.011218</td>\n",
       "      <td>0.010273</td>\n",
       "      <td>0.122888</td>\n",
       "      <td>0.024844</td>\n",
       "      <td>-0.009248</td>\n",
       "      <td>-0.245705</td>\n",
       "      <td>0.062760</td>\n",
       "      <td>0.068419</td>\n",
       "    </tr>\n",
       "    <tr>\n",
       "      <th>OrderCount</th>\n",
       "      <td>-0.029832</td>\n",
       "      <td>0.138438</td>\n",
       "      <td>0.201114</td>\n",
       "      <td>0.041517</td>\n",
       "      <td>0.006686</td>\n",
       "      <td>-0.030258</td>\n",
       "      <td>0.144500</td>\n",
       "      <td>0.123348</td>\n",
       "      <td>0.004307</td>\n",
       "      <td>0.016429</td>\n",
       "      <td>...</td>\n",
       "      <td>0.083949</td>\n",
       "      <td>-0.012592</td>\n",
       "      <td>0.010108</td>\n",
       "      <td>-0.031234</td>\n",
       "      <td>0.130854</td>\n",
       "      <td>0.119276</td>\n",
       "      <td>-0.011270</td>\n",
       "      <td>-0.216093</td>\n",
       "      <td>-0.053806</td>\n",
       "      <td>0.125004</td>\n",
       "    </tr>\n",
       "    <tr>\n",
       "      <th>DaySinceLastOrder</th>\n",
       "      <td>-0.162501</td>\n",
       "      <td>0.181369</td>\n",
       "      <td>0.201802</td>\n",
       "      <td>0.010283</td>\n",
       "      <td>0.025516</td>\n",
       "      <td>-0.020745</td>\n",
       "      <td>0.065973</td>\n",
       "      <td>0.007284</td>\n",
       "      <td>0.028225</td>\n",
       "      <td>0.024499</td>\n",
       "      <td>...</td>\n",
       "      <td>0.046767</td>\n",
       "      <td>-0.004462</td>\n",
       "      <td>0.028420</td>\n",
       "      <td>-0.018534</td>\n",
       "      <td>0.086498</td>\n",
       "      <td>0.154457</td>\n",
       "      <td>0.094383</td>\n",
       "      <td>-0.228917</td>\n",
       "      <td>-0.176780</td>\n",
       "      <td>0.179992</td>\n",
       "    </tr>\n",
       "    <tr>\n",
       "      <th>CashbackAmount</th>\n",
       "      <td>-0.160194</td>\n",
       "      <td>0.467669</td>\n",
       "      <td>0.518362</td>\n",
       "      <td>0.071824</td>\n",
       "      <td>0.015089</td>\n",
       "      <td>-0.032367</td>\n",
       "      <td>0.116313</td>\n",
       "      <td>0.139884</td>\n",
       "      <td>0.003386</td>\n",
       "      <td>0.014054</td>\n",
       "      <td>...</td>\n",
       "      <td>0.122316</td>\n",
       "      <td>-0.004356</td>\n",
       "      <td>0.070589</td>\n",
       "      <td>-0.023087</td>\n",
       "      <td>0.330183</td>\n",
       "      <td>0.537364</td>\n",
       "      <td>-0.136516</td>\n",
       "      <td>-0.456173</td>\n",
       "      <td>-0.320454</td>\n",
       "      <td>0.488264</td>\n",
       "    </tr>\n",
       "    <tr>\n",
       "      <th>PreferredPaymentMode_CC</th>\n",
       "      <td>0.028796</td>\n",
       "      <td>-0.092384</td>\n",
       "      <td>-0.264901</td>\n",
       "      <td>-0.103654</td>\n",
       "      <td>-0.023105</td>\n",
       "      <td>0.013356</td>\n",
       "      <td>-0.108281</td>\n",
       "      <td>-0.122831</td>\n",
       "      <td>0.002857</td>\n",
       "      <td>-0.005273</td>\n",
       "      <td>...</td>\n",
       "      <td>-0.136109</td>\n",
       "      <td>-0.188580</td>\n",
       "      <td>-0.078982</td>\n",
       "      <td>-0.063599</td>\n",
       "      <td>-0.093607</td>\n",
       "      <td>-0.063267</td>\n",
       "      <td>-0.141612</td>\n",
       "      <td>0.503933</td>\n",
       "      <td>-0.115965</td>\n",
       "      <td>-0.050072</td>\n",
       "    </tr>\n",
       "    <tr>\n",
       "      <th>PreferredPaymentMode_COD</th>\n",
       "      <td>0.083933</td>\n",
       "      <td>-0.075099</td>\n",
       "      <td>-0.079132</td>\n",
       "      <td>-0.035440</td>\n",
       "      <td>-0.007421</td>\n",
       "      <td>0.037728</td>\n",
       "      <td>-0.009371</td>\n",
       "      <td>-0.002452</td>\n",
       "      <td>0.021234</td>\n",
       "      <td>-0.015369</td>\n",
       "      <td>...</td>\n",
       "      <td>-0.158751</td>\n",
       "      <td>-0.219949</td>\n",
       "      <td>-0.092120</td>\n",
       "      <td>-0.074179</td>\n",
       "      <td>-0.080635</td>\n",
       "      <td>-0.073791</td>\n",
       "      <td>-0.002855</td>\n",
       "      <td>0.058715</td>\n",
       "      <td>0.097658</td>\n",
       "      <td>-0.058401</td>\n",
       "    </tr>\n",
       "    <tr>\n",
       "      <th>PreferredPaymentMode_Cash on Delivery</th>\n",
       "      <td>-0.006178</td>\n",
       "      <td>0.088813</td>\n",
       "      <td>0.079678</td>\n",
       "      <td>-0.013965</td>\n",
       "      <td>-0.008713</td>\n",
       "      <td>-0.041939</td>\n",
       "      <td>0.002735</td>\n",
       "      <td>0.017660</td>\n",
       "      <td>0.013670</td>\n",
       "      <td>0.000630</td>\n",
       "      <td>...</td>\n",
       "      <td>-0.099410</td>\n",
       "      <td>-0.137733</td>\n",
       "      <td>-0.057686</td>\n",
       "      <td>-0.046451</td>\n",
       "      <td>0.169320</td>\n",
       "      <td>0.055996</td>\n",
       "      <td>-0.090272</td>\n",
       "      <td>-0.010759</td>\n",
       "      <td>-0.078444</td>\n",
       "      <td>0.026240</td>\n",
       "    </tr>\n",
       "    <tr>\n",
       "      <th>PreferredPaymentMode_Credit Card</th>\n",
       "      <td>-0.064131</td>\n",
       "      <td>0.049793</td>\n",
       "      <td>0.104817</td>\n",
       "      <td>-0.137236</td>\n",
       "      <td>0.028865</td>\n",
       "      <td>-0.023132</td>\n",
       "      <td>0.042586</td>\n",
       "      <td>0.040341</td>\n",
       "      <td>0.020594</td>\n",
       "      <td>0.010413</td>\n",
       "      <td>...</td>\n",
       "      <td>1.000000</td>\n",
       "      <td>-0.503666</td>\n",
       "      <td>-0.210947</td>\n",
       "      <td>-0.169863</td>\n",
       "      <td>0.022458</td>\n",
       "      <td>0.047444</td>\n",
       "      <td>0.017075</td>\n",
       "      <td>-0.238971</td>\n",
       "      <td>0.109667</td>\n",
       "      <td>0.044871</td>\n",
       "    </tr>\n",
       "    <tr>\n",
       "      <th>PreferredPaymentMode_Debit Card</th>\n",
       "      <td>-0.032453</td>\n",
       "      <td>0.017229</td>\n",
       "      <td>-0.020148</td>\n",
       "      <td>-0.118713</td>\n",
       "      <td>-0.030999</td>\n",
       "      <td>0.002310</td>\n",
       "      <td>0.023982</td>\n",
       "      <td>-0.007516</td>\n",
       "      <td>-0.050365</td>\n",
       "      <td>-0.008251</td>\n",
       "      <td>...</td>\n",
       "      <td>-0.503666</td>\n",
       "      <td>1.000000</td>\n",
       "      <td>-0.292267</td>\n",
       "      <td>-0.235345</td>\n",
       "      <td>-0.015811</td>\n",
       "      <td>0.021513</td>\n",
       "      <td>-0.006434</td>\n",
       "      <td>0.024176</td>\n",
       "      <td>-0.005524</td>\n",
       "      <td>-0.014527</td>\n",
       "    </tr>\n",
       "    <tr>\n",
       "      <th>PreferredPaymentMode_E wallet</th>\n",
       "      <td>0.055751</td>\n",
       "      <td>0.010411</td>\n",
       "      <td>0.120585</td>\n",
       "      <td>0.514227</td>\n",
       "      <td>0.038226</td>\n",
       "      <td>-0.024500</td>\n",
       "      <td>0.003347</td>\n",
       "      <td>0.025578</td>\n",
       "      <td>0.017752</td>\n",
       "      <td>-0.011796</td>\n",
       "      <td>...</td>\n",
       "      <td>-0.210947</td>\n",
       "      <td>-0.292267</td>\n",
       "      <td>1.000000</td>\n",
       "      <td>-0.098568</td>\n",
       "      <td>0.057844</td>\n",
       "      <td>-0.001566</td>\n",
       "      <td>0.128403</td>\n",
       "      <td>-0.091339</td>\n",
       "      <td>-0.120776</td>\n",
       "      <td>0.003257</td>\n",
       "    </tr>\n",
       "    <tr>\n",
       "      <th>PreferredPaymentMode_UPI</th>\n",
       "      <td>0.004163</td>\n",
       "      <td>-0.037011</td>\n",
       "      <td>-0.039951</td>\n",
       "      <td>-0.030518</td>\n",
       "      <td>-0.004746</td>\n",
       "      <td>0.043301</td>\n",
       "      <td>-0.025082</td>\n",
       "      <td>0.007815</td>\n",
       "      <td>0.008063</td>\n",
       "      <td>0.030449</td>\n",
       "      <td>...</td>\n",
       "      <td>-0.169863</td>\n",
       "      <td>-0.235345</td>\n",
       "      <td>-0.098568</td>\n",
       "      <td>1.000000</td>\n",
       "      <td>-0.028349</td>\n",
       "      <td>-0.031817</td>\n",
       "      <td>0.004602</td>\n",
       "      <td>0.004870</td>\n",
       "      <td>0.020407</td>\n",
       "      <td>0.027641</td>\n",
       "    </tr>\n",
       "    <tr>\n",
       "      <th>PreferedOrderCat_Fashion</th>\n",
       "      <td>-0.014871</td>\n",
       "      <td>0.103387</td>\n",
       "      <td>0.237363</td>\n",
       "      <td>0.063189</td>\n",
       "      <td>0.034212</td>\n",
       "      <td>-0.025097</td>\n",
       "      <td>-0.007496</td>\n",
       "      <td>0.036230</td>\n",
       "      <td>0.011944</td>\n",
       "      <td>0.018038</td>\n",
       "      <td>...</td>\n",
       "      <td>0.022458</td>\n",
       "      <td>-0.015811</td>\n",
       "      <td>0.057844</td>\n",
       "      <td>-0.028349</td>\n",
       "      <td>1.000000</td>\n",
       "      <td>-0.116210</td>\n",
       "      <td>-0.313779</td>\n",
       "      <td>-0.169861</td>\n",
       "      <td>-0.223907</td>\n",
       "      <td>-0.091974</td>\n",
       "    </tr>\n",
       "    <tr>\n",
       "      <th>PreferedOrderCat_Grocery</th>\n",
       "      <td>-0.089575</td>\n",
       "      <td>0.347406</td>\n",
       "      <td>0.159731</td>\n",
       "      <td>0.004160</td>\n",
       "      <td>0.035639</td>\n",
       "      <td>-0.048071</td>\n",
       "      <td>-0.044874</td>\n",
       "      <td>-0.035706</td>\n",
       "      <td>0.002287</td>\n",
       "      <td>-0.012780</td>\n",
       "      <td>...</td>\n",
       "      <td>0.047444</td>\n",
       "      <td>0.021513</td>\n",
       "      <td>-0.001566</td>\n",
       "      <td>-0.031817</td>\n",
       "      <td>-0.116210</td>\n",
       "      <td>1.000000</td>\n",
       "      <td>-0.212076</td>\n",
       "      <td>-0.114805</td>\n",
       "      <td>-0.151334</td>\n",
       "      <td>-0.062163</td>\n",
       "    </tr>\n",
       "    <tr>\n",
       "      <th>PreferedOrderCat_Laptop &amp; Accessory</th>\n",
       "      <td>-0.133353</td>\n",
       "      <td>-0.054059</td>\n",
       "      <td>0.143281</td>\n",
       "      <td>0.226587</td>\n",
       "      <td>0.048814</td>\n",
       "      <td>-0.019739</td>\n",
       "      <td>-0.038291</td>\n",
       "      <td>-0.006282</td>\n",
       "      <td>-0.019501</td>\n",
       "      <td>0.029983</td>\n",
       "      <td>...</td>\n",
       "      <td>0.017075</td>\n",
       "      <td>-0.006434</td>\n",
       "      <td>0.128403</td>\n",
       "      <td>0.004602</td>\n",
       "      <td>-0.313779</td>\n",
       "      <td>-0.212076</td>\n",
       "      <td>1.000000</td>\n",
       "      <td>-0.309985</td>\n",
       "      <td>-0.408615</td>\n",
       "      <td>-0.167846</td>\n",
       "    </tr>\n",
       "    <tr>\n",
       "      <th>PreferedOrderCat_Mobile</th>\n",
       "      <td>0.113364</td>\n",
       "      <td>-0.169948</td>\n",
       "      <td>-0.497609</td>\n",
       "      <td>-0.127602</td>\n",
       "      <td>-0.056977</td>\n",
       "      <td>0.017308</td>\n",
       "      <td>-0.175644</td>\n",
       "      <td>-0.215316</td>\n",
       "      <td>0.005493</td>\n",
       "      <td>-0.010518</td>\n",
       "      <td>...</td>\n",
       "      <td>-0.238971</td>\n",
       "      <td>0.024176</td>\n",
       "      <td>-0.091339</td>\n",
       "      <td>0.004870</td>\n",
       "      <td>-0.169861</td>\n",
       "      <td>-0.114805</td>\n",
       "      <td>-0.309985</td>\n",
       "      <td>1.000000</td>\n",
       "      <td>-0.221200</td>\n",
       "      <td>-0.090862</td>\n",
       "    </tr>\n",
       "    <tr>\n",
       "      <th>PreferedOrderCat_Mobile Phone</th>\n",
       "      <td>0.154387</td>\n",
       "      <td>-0.233938</td>\n",
       "      <td>-0.122204</td>\n",
       "      <td>-0.188046</td>\n",
       "      <td>-0.020760</td>\n",
       "      <td>0.042552</td>\n",
       "      <td>0.238199</td>\n",
       "      <td>0.168584</td>\n",
       "      <td>0.005577</td>\n",
       "      <td>-0.037497</td>\n",
       "      <td>...</td>\n",
       "      <td>0.109667</td>\n",
       "      <td>-0.005524</td>\n",
       "      <td>-0.120776</td>\n",
       "      <td>0.020407</td>\n",
       "      <td>-0.223907</td>\n",
       "      <td>-0.151334</td>\n",
       "      <td>-0.408615</td>\n",
       "      <td>-0.221200</td>\n",
       "      <td>1.000000</td>\n",
       "      <td>-0.119772</td>\n",
       "    </tr>\n",
       "    <tr>\n",
       "      <th>PreferedOrderCat_Others</th>\n",
       "      <td>-0.054903</td>\n",
       "      <td>0.267624</td>\n",
       "      <td>0.147620</td>\n",
       "      <td>-0.042998</td>\n",
       "      <td>-0.076574</td>\n",
       "      <td>0.033147</td>\n",
       "      <td>-0.024765</td>\n",
       "      <td>0.021423</td>\n",
       "      <td>0.001442</td>\n",
       "      <td>0.008882</td>\n",
       "      <td>...</td>\n",
       "      <td>0.044871</td>\n",
       "      <td>-0.014527</td>\n",
       "      <td>0.003257</td>\n",
       "      <td>0.027641</td>\n",
       "      <td>-0.091974</td>\n",
       "      <td>-0.062163</td>\n",
       "      <td>-0.167846</td>\n",
       "      <td>-0.090862</td>\n",
       "      <td>-0.119772</td>\n",
       "      <td>1.000000</td>\n",
       "    </tr>\n",
       "  </tbody>\n",
       "</table>\n",
       "<p>30 rows × 30 columns</p>\n",
       "</div>"
      ],
      "text/plain": [
       "                                          Churn    Tenure  \\\n",
       "Churn                                  1.000000 -0.339678   \n",
       "Tenure                                -0.339678  1.000000   \n",
       "PreferredLoginDevice                  -0.110924  0.219343   \n",
       "CityTier                               0.084703 -0.059555   \n",
       "WarehouseToHome                        0.073529 -0.020914   \n",
       "Gender                                 0.029264 -0.045926   \n",
       "HourSpendOnApp                         0.018861 -0.019195   \n",
       "NumberOfDeviceRegistered               0.107939 -0.019024   \n",
       "SatisfactionScore                      0.105481 -0.012767   \n",
       "MaritalStatus                         -0.090703  0.037911   \n",
       "NumberOfAddress                        0.042697  0.240094   \n",
       "Complain                               0.250188 -0.022093   \n",
       "OrderAmountHikeFromlastYear           -0.007075 -0.006889   \n",
       "CouponUsed                            -0.008644  0.080694   \n",
       "OrderCount                            -0.029832  0.138438   \n",
       "DaySinceLastOrder                     -0.162501  0.181369   \n",
       "CashbackAmount                        -0.160194  0.467669   \n",
       "PreferredPaymentMode_CC                0.028796 -0.092384   \n",
       "PreferredPaymentMode_COD               0.083933 -0.075099   \n",
       "PreferredPaymentMode_Cash on Delivery -0.006178  0.088813   \n",
       "PreferredPaymentMode_Credit Card      -0.064131  0.049793   \n",
       "PreferredPaymentMode_Debit Card       -0.032453  0.017229   \n",
       "PreferredPaymentMode_E wallet          0.055751  0.010411   \n",
       "PreferredPaymentMode_UPI               0.004163 -0.037011   \n",
       "PreferedOrderCat_Fashion              -0.014871  0.103387   \n",
       "PreferedOrderCat_Grocery              -0.089575  0.347406   \n",
       "PreferedOrderCat_Laptop & Accessory   -0.133353 -0.054059   \n",
       "PreferedOrderCat_Mobile                0.113364 -0.169948   \n",
       "PreferedOrderCat_Mobile Phone          0.154387 -0.233938   \n",
       "PreferedOrderCat_Others               -0.054903  0.267624   \n",
       "\n",
       "                                       PreferredLoginDevice  CityTier  \\\n",
       "Churn                                             -0.110924  0.084703   \n",
       "Tenure                                             0.219343 -0.059555   \n",
       "PreferredLoginDevice                               1.000000  0.136237   \n",
       "CityTier                                           0.136237  1.000000   \n",
       "WarehouseToHome                                    0.023044  0.008197   \n",
       "Gender                                            -0.040056 -0.025176   \n",
       "HourSpendOnApp                                     0.164078 -0.010221   \n",
       "NumberOfDeviceRegistered                           0.146031  0.027934   \n",
       "SatisfactionScore                                 -0.030101 -0.011554   \n",
       "MaritalStatus                                      0.017474 -0.027483   \n",
       "NumberOfAddress                                    0.144846 -0.028077   \n",
       "Complain                                          -0.002488  0.003375   \n",
       "OrderAmountHikeFromlastYear                        0.004416 -0.028890   \n",
       "CouponUsed                                         0.192689  0.025752   \n",
       "OrderCount                                         0.201114  0.041517   \n",
       "DaySinceLastOrder                                  0.201802  0.010283   \n",
       "CashbackAmount                                     0.518362  0.071824   \n",
       "PreferredPaymentMode_CC                           -0.264901 -0.103654   \n",
       "PreferredPaymentMode_COD                          -0.079132 -0.035440   \n",
       "PreferredPaymentMode_Cash on Delivery              0.079678 -0.013965   \n",
       "PreferredPaymentMode_Credit Card                   0.104817 -0.137236   \n",
       "PreferredPaymentMode_Debit Card                   -0.020148 -0.118713   \n",
       "PreferredPaymentMode_E wallet                      0.120585  0.514227   \n",
       "PreferredPaymentMode_UPI                          -0.039951 -0.030518   \n",
       "PreferedOrderCat_Fashion                           0.237363  0.063189   \n",
       "PreferedOrderCat_Grocery                           0.159731  0.004160   \n",
       "PreferedOrderCat_Laptop & Accessory                0.143281  0.226587   \n",
       "PreferedOrderCat_Mobile                           -0.497609 -0.127602   \n",
       "PreferedOrderCat_Mobile Phone                     -0.122204 -0.188046   \n",
       "PreferedOrderCat_Others                            0.147620 -0.042998   \n",
       "\n",
       "                                       WarehouseToHome    Gender  \\\n",
       "Churn                                         0.073529  0.029264   \n",
       "Tenure                                       -0.020914 -0.045926   \n",
       "PreferredLoginDevice                          0.023044 -0.040056   \n",
       "CityTier                                      0.008197 -0.025176   \n",
       "WarehouseToHome                               1.000000 -0.004521   \n",
       "Gender                                       -0.004521  1.000000   \n",
       "HourSpendOnApp                                0.068421 -0.017683   \n",
       "NumberOfDeviceRegistered                      0.024470 -0.021799   \n",
       "SatisfactionScore                             0.013683 -0.035220   \n",
       "MaritalStatus                                 0.020368  0.030161   \n",
       "NumberOfAddress                              -0.006917 -0.033768   \n",
       "Complain                                      0.030171 -0.040269   \n",
       "OrderAmountHikeFromlastYear                   0.039716 -0.001702   \n",
       "CouponUsed                                    0.015066 -0.026189   \n",
       "OrderCount                                    0.006686 -0.030258   \n",
       "DaySinceLastOrder                             0.025516 -0.020745   \n",
       "CashbackAmount                                0.015089 -0.032367   \n",
       "PreferredPaymentMode_CC                      -0.023105  0.013356   \n",
       "PreferredPaymentMode_COD                     -0.007421  0.037728   \n",
       "PreferredPaymentMode_Cash on Delivery        -0.008713 -0.041939   \n",
       "PreferredPaymentMode_Credit Card              0.028865 -0.023132   \n",
       "PreferredPaymentMode_Debit Card              -0.030999  0.002310   \n",
       "PreferredPaymentMode_E wallet                 0.038226 -0.024500   \n",
       "PreferredPaymentMode_UPI                     -0.004746  0.043301   \n",
       "PreferedOrderCat_Fashion                      0.034212 -0.025097   \n",
       "PreferedOrderCat_Grocery                      0.035639 -0.048071   \n",
       "PreferedOrderCat_Laptop & Accessory           0.048814 -0.019739   \n",
       "PreferedOrderCat_Mobile                      -0.056977  0.017308   \n",
       "PreferedOrderCat_Mobile Phone                -0.020760  0.042552   \n",
       "PreferedOrderCat_Others                      -0.076574  0.033147   \n",
       "\n",
       "                                       HourSpendOnApp  \\\n",
       "Churn                                        0.018861   \n",
       "Tenure                                      -0.019195   \n",
       "PreferredLoginDevice                         0.164078   \n",
       "CityTier                                    -0.010221   \n",
       "WarehouseToHome                              0.068421   \n",
       "Gender                                      -0.017683   \n",
       "HourSpendOnApp                               1.000000   \n",
       "NumberOfDeviceRegistered                     0.305416   \n",
       "SatisfactionScore                            0.030829   \n",
       "MaritalStatus                                0.017310   \n",
       "NumberOfAddress                              0.140625   \n",
       "Complain                                     0.006902   \n",
       "OrderAmountHikeFromlastYear                  0.099862   \n",
       "CouponUsed                                   0.270733   \n",
       "OrderCount                                   0.144500   \n",
       "DaySinceLastOrder                            0.065973   \n",
       "CashbackAmount                               0.116313   \n",
       "PreferredPaymentMode_CC                     -0.108281   \n",
       "PreferredPaymentMode_COD                    -0.009371   \n",
       "PreferredPaymentMode_Cash on Delivery        0.002735   \n",
       "PreferredPaymentMode_Credit Card             0.042586   \n",
       "PreferredPaymentMode_Debit Card              0.023982   \n",
       "PreferredPaymentMode_E wallet                0.003347   \n",
       "PreferredPaymentMode_UPI                    -0.025082   \n",
       "PreferedOrderCat_Fashion                    -0.007496   \n",
       "PreferedOrderCat_Grocery                    -0.044874   \n",
       "PreferedOrderCat_Laptop & Accessory         -0.038291   \n",
       "PreferedOrderCat_Mobile                     -0.175644   \n",
       "PreferedOrderCat_Mobile Phone                0.238199   \n",
       "PreferedOrderCat_Others                     -0.024765   \n",
       "\n",
       "                                       NumberOfDeviceRegistered  \\\n",
       "Churn                                                  0.107939   \n",
       "Tenure                                                -0.019024   \n",
       "PreferredLoginDevice                                   0.146031   \n",
       "CityTier                                               0.027934   \n",
       "WarehouseToHome                                        0.024470   \n",
       "Gender                                                -0.021799   \n",
       "HourSpendOnApp                                         0.305416   \n",
       "NumberOfDeviceRegistered                               1.000000   \n",
       "SatisfactionScore                                     -0.017228   \n",
       "MaritalStatus                                         -0.021796   \n",
       "NumberOfAddress                                        0.086312   \n",
       "Complain                                               0.003407   \n",
       "OrderAmountHikeFromlastYear                            0.065714   \n",
       "CouponUsed                                             0.210064   \n",
       "OrderCount                                             0.123348   \n",
       "DaySinceLastOrder                                      0.007284   \n",
       "CashbackAmount                                         0.139884   \n",
       "PreferredPaymentMode_CC                               -0.122831   \n",
       "PreferredPaymentMode_COD                              -0.002452   \n",
       "PreferredPaymentMode_Cash on Delivery                  0.017660   \n",
       "PreferredPaymentMode_Credit Card                       0.040341   \n",
       "PreferredPaymentMode_Debit Card                       -0.007516   \n",
       "PreferredPaymentMode_E wallet                          0.025578   \n",
       "PreferredPaymentMode_UPI                               0.007815   \n",
       "PreferedOrderCat_Fashion                               0.036230   \n",
       "PreferedOrderCat_Grocery                              -0.035706   \n",
       "PreferedOrderCat_Laptop & Accessory                   -0.006282   \n",
       "PreferedOrderCat_Mobile                               -0.215316   \n",
       "PreferedOrderCat_Mobile Phone                          0.168584   \n",
       "PreferedOrderCat_Others                                0.021423   \n",
       "\n",
       "                                       SatisfactionScore  MaritalStatus  ...  \\\n",
       "Churn                                           0.105481      -0.090703  ...   \n",
       "Tenure                                         -0.012767       0.037911  ...   \n",
       "PreferredLoginDevice                           -0.030101       0.017474  ...   \n",
       "CityTier                                       -0.011554      -0.027483  ...   \n",
       "WarehouseToHome                                 0.013683       0.020368  ...   \n",
       "Gender                                         -0.035220       0.030161  ...   \n",
       "HourSpendOnApp                                  0.030829       0.017310  ...   \n",
       "NumberOfDeviceRegistered                       -0.017228      -0.021796  ...   \n",
       "SatisfactionScore                               1.000000      -0.044406  ...   \n",
       "MaritalStatus                                  -0.044406       1.000000  ...   \n",
       "NumberOfAddress                                 0.054093       0.011037  ...   \n",
       "Complain                                       -0.031115      -0.005973  ...   \n",
       "OrderAmountHikeFromlastYear                    -0.027121       0.010040  ...   \n",
       "CouponUsed                                      0.012604       0.000545  ...   \n",
       "OrderCount                                      0.004307       0.016429  ...   \n",
       "DaySinceLastOrder                               0.028225       0.024499  ...   \n",
       "CashbackAmount                                  0.003386       0.014054  ...   \n",
       "PreferredPaymentMode_CC                         0.002857      -0.005273  ...   \n",
       "PreferredPaymentMode_COD                        0.021234      -0.015369  ...   \n",
       "PreferredPaymentMode_Cash on Delivery           0.013670       0.000630  ...   \n",
       "PreferredPaymentMode_Credit Card                0.020594       0.010413  ...   \n",
       "PreferredPaymentMode_Debit Card                -0.050365      -0.008251  ...   \n",
       "PreferredPaymentMode_E wallet                   0.017752      -0.011796  ...   \n",
       "PreferredPaymentMode_UPI                        0.008063       0.030449  ...   \n",
       "PreferedOrderCat_Fashion                        0.011944       0.018038  ...   \n",
       "PreferedOrderCat_Grocery                        0.002287      -0.012780  ...   \n",
       "PreferedOrderCat_Laptop & Accessory            -0.019501       0.029983  ...   \n",
       "PreferedOrderCat_Mobile                         0.005493      -0.010518  ...   \n",
       "PreferedOrderCat_Mobile Phone                   0.005577      -0.037497  ...   \n",
       "PreferedOrderCat_Others                         0.001442       0.008882  ...   \n",
       "\n",
       "                                       PreferredPaymentMode_Credit Card  \\\n",
       "Churn                                                         -0.064131   \n",
       "Tenure                                                         0.049793   \n",
       "PreferredLoginDevice                                           0.104817   \n",
       "CityTier                                                      -0.137236   \n",
       "WarehouseToHome                                                0.028865   \n",
       "Gender                                                        -0.023132   \n",
       "HourSpendOnApp                                                 0.042586   \n",
       "NumberOfDeviceRegistered                                       0.040341   \n",
       "SatisfactionScore                                              0.020594   \n",
       "MaritalStatus                                                  0.010413   \n",
       "NumberOfAddress                                                0.054840   \n",
       "Complain                                                      -0.003238   \n",
       "OrderAmountHikeFromlastYear                                    0.046249   \n",
       "CouponUsed                                                     0.052478   \n",
       "OrderCount                                                     0.083949   \n",
       "DaySinceLastOrder                                              0.046767   \n",
       "CashbackAmount                                                 0.122316   \n",
       "PreferredPaymentMode_CC                                       -0.136109   \n",
       "PreferredPaymentMode_COD                                      -0.158751   \n",
       "PreferredPaymentMode_Cash on Delivery                         -0.099410   \n",
       "PreferredPaymentMode_Credit Card                               1.000000   \n",
       "PreferredPaymentMode_Debit Card                               -0.503666   \n",
       "PreferredPaymentMode_E wallet                                 -0.210947   \n",
       "PreferredPaymentMode_UPI                                      -0.169863   \n",
       "PreferedOrderCat_Fashion                                       0.022458   \n",
       "PreferedOrderCat_Grocery                                       0.047444   \n",
       "PreferedOrderCat_Laptop & Accessory                            0.017075   \n",
       "PreferedOrderCat_Mobile                                       -0.238971   \n",
       "PreferedOrderCat_Mobile Phone                                  0.109667   \n",
       "PreferedOrderCat_Others                                        0.044871   \n",
       "\n",
       "                                       PreferredPaymentMode_Debit Card  \\\n",
       "Churn                                                        -0.032453   \n",
       "Tenure                                                        0.017229   \n",
       "PreferredLoginDevice                                         -0.020148   \n",
       "CityTier                                                     -0.118713   \n",
       "WarehouseToHome                                              -0.030999   \n",
       "Gender                                                        0.002310   \n",
       "HourSpendOnApp                                                0.023982   \n",
       "NumberOfDeviceRegistered                                     -0.007516   \n",
       "SatisfactionScore                                            -0.050365   \n",
       "MaritalStatus                                                -0.008251   \n",
       "NumberOfAddress                                              -0.003009   \n",
       "Complain                                                     -0.009009   \n",
       "OrderAmountHikeFromlastYear                                   0.010755   \n",
       "CouponUsed                                                   -0.001047   \n",
       "OrderCount                                                   -0.012592   \n",
       "DaySinceLastOrder                                            -0.004462   \n",
       "CashbackAmount                                               -0.004356   \n",
       "PreferredPaymentMode_CC                                      -0.188580   \n",
       "PreferredPaymentMode_COD                                     -0.219949   \n",
       "PreferredPaymentMode_Cash on Delivery                        -0.137733   \n",
       "PreferredPaymentMode_Credit Card                             -0.503666   \n",
       "PreferredPaymentMode_Debit Card                               1.000000   \n",
       "PreferredPaymentMode_E wallet                                -0.292267   \n",
       "PreferredPaymentMode_UPI                                     -0.235345   \n",
       "PreferedOrderCat_Fashion                                     -0.015811   \n",
       "PreferedOrderCat_Grocery                                      0.021513   \n",
       "PreferedOrderCat_Laptop & Accessory                          -0.006434   \n",
       "PreferedOrderCat_Mobile                                       0.024176   \n",
       "PreferedOrderCat_Mobile Phone                                -0.005524   \n",
       "PreferedOrderCat_Others                                      -0.014527   \n",
       "\n",
       "                                       PreferredPaymentMode_E wallet  \\\n",
       "Churn                                                       0.055751   \n",
       "Tenure                                                      0.010411   \n",
       "PreferredLoginDevice                                        0.120585   \n",
       "CityTier                                                    0.514227   \n",
       "WarehouseToHome                                             0.038226   \n",
       "Gender                                                     -0.024500   \n",
       "HourSpendOnApp                                              0.003347   \n",
       "NumberOfDeviceRegistered                                    0.025578   \n",
       "SatisfactionScore                                           0.017752   \n",
       "MaritalStatus                                              -0.011796   \n",
       "NumberOfAddress                                            -0.017108   \n",
       "Complain                                                    0.011450   \n",
       "OrderAmountHikeFromlastYear                                -0.034468   \n",
       "CouponUsed                                                  0.011218   \n",
       "OrderCount                                                  0.010108   \n",
       "DaySinceLastOrder                                           0.028420   \n",
       "CashbackAmount                                              0.070589   \n",
       "PreferredPaymentMode_CC                                    -0.078982   \n",
       "PreferredPaymentMode_COD                                   -0.092120   \n",
       "PreferredPaymentMode_Cash on Delivery                      -0.057686   \n",
       "PreferredPaymentMode_Credit Card                           -0.210947   \n",
       "PreferredPaymentMode_Debit Card                            -0.292267   \n",
       "PreferredPaymentMode_E wallet                               1.000000   \n",
       "PreferredPaymentMode_UPI                                   -0.098568   \n",
       "PreferedOrderCat_Fashion                                    0.057844   \n",
       "PreferedOrderCat_Grocery                                   -0.001566   \n",
       "PreferedOrderCat_Laptop & Accessory                         0.128403   \n",
       "PreferedOrderCat_Mobile                                    -0.091339   \n",
       "PreferedOrderCat_Mobile Phone                              -0.120776   \n",
       "PreferedOrderCat_Others                                     0.003257   \n",
       "\n",
       "                                       PreferredPaymentMode_UPI  \\\n",
       "Churn                                                  0.004163   \n",
       "Tenure                                                -0.037011   \n",
       "PreferredLoginDevice                                  -0.039951   \n",
       "CityTier                                              -0.030518   \n",
       "WarehouseToHome                                       -0.004746   \n",
       "Gender                                                 0.043301   \n",
       "HourSpendOnApp                                        -0.025082   \n",
       "NumberOfDeviceRegistered                               0.007815   \n",
       "SatisfactionScore                                      0.008063   \n",
       "MaritalStatus                                          0.030449   \n",
       "NumberOfAddress                                        0.005564   \n",
       "Complain                                               0.021183   \n",
       "OrderAmountHikeFromlastYear                            0.006769   \n",
       "CouponUsed                                             0.010273   \n",
       "OrderCount                                            -0.031234   \n",
       "DaySinceLastOrder                                     -0.018534   \n",
       "CashbackAmount                                        -0.023087   \n",
       "PreferredPaymentMode_CC                               -0.063599   \n",
       "PreferredPaymentMode_COD                              -0.074179   \n",
       "PreferredPaymentMode_Cash on Delivery                 -0.046451   \n",
       "PreferredPaymentMode_Credit Card                      -0.169863   \n",
       "PreferredPaymentMode_Debit Card                       -0.235345   \n",
       "PreferredPaymentMode_E wallet                         -0.098568   \n",
       "PreferredPaymentMode_UPI                               1.000000   \n",
       "PreferedOrderCat_Fashion                              -0.028349   \n",
       "PreferedOrderCat_Grocery                              -0.031817   \n",
       "PreferedOrderCat_Laptop & Accessory                    0.004602   \n",
       "PreferedOrderCat_Mobile                                0.004870   \n",
       "PreferedOrderCat_Mobile Phone                          0.020407   \n",
       "PreferedOrderCat_Others                                0.027641   \n",
       "\n",
       "                                       PreferedOrderCat_Fashion  \\\n",
       "Churn                                                 -0.014871   \n",
       "Tenure                                                 0.103387   \n",
       "PreferredLoginDevice                                   0.237363   \n",
       "CityTier                                               0.063189   \n",
       "WarehouseToHome                                        0.034212   \n",
       "Gender                                                -0.025097   \n",
       "HourSpendOnApp                                        -0.007496   \n",
       "NumberOfDeviceRegistered                               0.036230   \n",
       "SatisfactionScore                                      0.011944   \n",
       "MaritalStatus                                          0.018038   \n",
       "NumberOfAddress                                        0.045035   \n",
       "Complain                                               0.007419   \n",
       "OrderAmountHikeFromlastYear                            0.011154   \n",
       "CouponUsed                                             0.122888   \n",
       "OrderCount                                             0.130854   \n",
       "DaySinceLastOrder                                      0.086498   \n",
       "CashbackAmount                                         0.330183   \n",
       "PreferredPaymentMode_CC                               -0.093607   \n",
       "PreferredPaymentMode_COD                              -0.080635   \n",
       "PreferredPaymentMode_Cash on Delivery                  0.169320   \n",
       "PreferredPaymentMode_Credit Card                       0.022458   \n",
       "PreferredPaymentMode_Debit Card                       -0.015811   \n",
       "PreferredPaymentMode_E wallet                          0.057844   \n",
       "PreferredPaymentMode_UPI                              -0.028349   \n",
       "PreferedOrderCat_Fashion                               1.000000   \n",
       "PreferedOrderCat_Grocery                              -0.116210   \n",
       "PreferedOrderCat_Laptop & Accessory                   -0.313779   \n",
       "PreferedOrderCat_Mobile                               -0.169861   \n",
       "PreferedOrderCat_Mobile Phone                         -0.223907   \n",
       "PreferedOrderCat_Others                               -0.091974   \n",
       "\n",
       "                                       PreferedOrderCat_Grocery  \\\n",
       "Churn                                                 -0.089575   \n",
       "Tenure                                                 0.347406   \n",
       "PreferredLoginDevice                                   0.159731   \n",
       "CityTier                                               0.004160   \n",
       "WarehouseToHome                                        0.035639   \n",
       "Gender                                                -0.048071   \n",
       "HourSpendOnApp                                        -0.044874   \n",
       "NumberOfDeviceRegistered                              -0.035706   \n",
       "SatisfactionScore                                      0.002287   \n",
       "MaritalStatus                                         -0.012780   \n",
       "NumberOfAddress                                        0.073234   \n",
       "Complain                                               0.013917   \n",
       "OrderAmountHikeFromlastYear                           -0.014579   \n",
       "CouponUsed                                             0.024844   \n",
       "OrderCount                                             0.119276   \n",
       "DaySinceLastOrder                                      0.154457   \n",
       "CashbackAmount                                         0.537364   \n",
       "PreferredPaymentMode_CC                               -0.063267   \n",
       "PreferredPaymentMode_COD                              -0.073791   \n",
       "PreferredPaymentMode_Cash on Delivery                  0.055996   \n",
       "PreferredPaymentMode_Credit Card                       0.047444   \n",
       "PreferredPaymentMode_Debit Card                        0.021513   \n",
       "PreferredPaymentMode_E wallet                         -0.001566   \n",
       "PreferredPaymentMode_UPI                              -0.031817   \n",
       "PreferedOrderCat_Fashion                              -0.116210   \n",
       "PreferedOrderCat_Grocery                               1.000000   \n",
       "PreferedOrderCat_Laptop & Accessory                   -0.212076   \n",
       "PreferedOrderCat_Mobile                               -0.114805   \n",
       "PreferedOrderCat_Mobile Phone                         -0.151334   \n",
       "PreferedOrderCat_Others                               -0.062163   \n",
       "\n",
       "                                       PreferedOrderCat_Laptop & Accessory  \\\n",
       "Churn                                                            -0.133353   \n",
       "Tenure                                                           -0.054059   \n",
       "PreferredLoginDevice                                              0.143281   \n",
       "CityTier                                                          0.226587   \n",
       "WarehouseToHome                                                   0.048814   \n",
       "Gender                                                           -0.019739   \n",
       "HourSpendOnApp                                                   -0.038291   \n",
       "NumberOfDeviceRegistered                                         -0.006282   \n",
       "SatisfactionScore                                                -0.019501   \n",
       "MaritalStatus                                                     0.029983   \n",
       "NumberOfAddress                                                   0.044155   \n",
       "Complain                                                         -0.021304   \n",
       "OrderAmountHikeFromlastYear                                      -0.004927   \n",
       "CouponUsed                                                       -0.009248   \n",
       "OrderCount                                                       -0.011270   \n",
       "DaySinceLastOrder                                                 0.094383   \n",
       "CashbackAmount                                                   -0.136516   \n",
       "PreferredPaymentMode_CC                                          -0.141612   \n",
       "PreferredPaymentMode_COD                                         -0.002855   \n",
       "PreferredPaymentMode_Cash on Delivery                            -0.090272   \n",
       "PreferredPaymentMode_Credit Card                                  0.017075   \n",
       "PreferredPaymentMode_Debit Card                                  -0.006434   \n",
       "PreferredPaymentMode_E wallet                                     0.128403   \n",
       "PreferredPaymentMode_UPI                                          0.004602   \n",
       "PreferedOrderCat_Fashion                                         -0.313779   \n",
       "PreferedOrderCat_Grocery                                         -0.212076   \n",
       "PreferedOrderCat_Laptop & Accessory                               1.000000   \n",
       "PreferedOrderCat_Mobile                                          -0.309985   \n",
       "PreferedOrderCat_Mobile Phone                                    -0.408615   \n",
       "PreferedOrderCat_Others                                          -0.167846   \n",
       "\n",
       "                                       PreferedOrderCat_Mobile  \\\n",
       "Churn                                                 0.113364   \n",
       "Tenure                                               -0.169948   \n",
       "PreferredLoginDevice                                 -0.497609   \n",
       "CityTier                                             -0.127602   \n",
       "WarehouseToHome                                      -0.056977   \n",
       "Gender                                                0.017308   \n",
       "HourSpendOnApp                                       -0.175644   \n",
       "NumberOfDeviceRegistered                             -0.215316   \n",
       "SatisfactionScore                                     0.005493   \n",
       "MaritalStatus                                        -0.010518   \n",
       "NumberOfAddress                                      -0.151471   \n",
       "Complain                                              0.006186   \n",
       "OrderAmountHikeFromlastYear                          -0.043680   \n",
       "CouponUsed                                           -0.245705   \n",
       "OrderCount                                           -0.216093   \n",
       "DaySinceLastOrder                                    -0.228917   \n",
       "CashbackAmount                                       -0.456173   \n",
       "PreferredPaymentMode_CC                               0.503933   \n",
       "PreferredPaymentMode_COD                              0.058715   \n",
       "PreferredPaymentMode_Cash on Delivery                -0.010759   \n",
       "PreferredPaymentMode_Credit Card                     -0.238971   \n",
       "PreferredPaymentMode_Debit Card                       0.024176   \n",
       "PreferredPaymentMode_E wallet                        -0.091339   \n",
       "PreferredPaymentMode_UPI                              0.004870   \n",
       "PreferedOrderCat_Fashion                             -0.169861   \n",
       "PreferedOrderCat_Grocery                             -0.114805   \n",
       "PreferedOrderCat_Laptop & Accessory                  -0.309985   \n",
       "PreferedOrderCat_Mobile                               1.000000   \n",
       "PreferedOrderCat_Mobile Phone                        -0.221200   \n",
       "PreferedOrderCat_Others                              -0.090862   \n",
       "\n",
       "                                       PreferedOrderCat_Mobile Phone  \\\n",
       "Churn                                                       0.154387   \n",
       "Tenure                                                     -0.233938   \n",
       "PreferredLoginDevice                                       -0.122204   \n",
       "CityTier                                                   -0.188046   \n",
       "WarehouseToHome                                            -0.020760   \n",
       "Gender                                                      0.042552   \n",
       "HourSpendOnApp                                              0.238199   \n",
       "NumberOfDeviceRegistered                                    0.168584   \n",
       "SatisfactionScore                                           0.005577   \n",
       "MaritalStatus                                              -0.037497   \n",
       "NumberOfAddress                                            -0.033151   \n",
       "Complain                                                    0.011191   \n",
       "OrderAmountHikeFromlastYear                                 0.067747   \n",
       "CouponUsed                                                  0.062760   \n",
       "OrderCount                                                 -0.053806   \n",
       "DaySinceLastOrder                                          -0.176780   \n",
       "CashbackAmount                                             -0.320454   \n",
       "PreferredPaymentMode_CC                                    -0.115965   \n",
       "PreferredPaymentMode_COD                                    0.097658   \n",
       "PreferredPaymentMode_Cash on Delivery                      -0.078444   \n",
       "PreferredPaymentMode_Credit Card                            0.109667   \n",
       "PreferredPaymentMode_Debit Card                            -0.005524   \n",
       "PreferredPaymentMode_E wallet                              -0.120776   \n",
       "PreferredPaymentMode_UPI                                    0.020407   \n",
       "PreferedOrderCat_Fashion                                   -0.223907   \n",
       "PreferedOrderCat_Grocery                                   -0.151334   \n",
       "PreferedOrderCat_Laptop & Accessory                        -0.408615   \n",
       "PreferedOrderCat_Mobile                                    -0.221200   \n",
       "PreferedOrderCat_Mobile Phone                               1.000000   \n",
       "PreferedOrderCat_Others                                    -0.119772   \n",
       "\n",
       "                                       PreferedOrderCat_Others  \n",
       "Churn                                                -0.054903  \n",
       "Tenure                                                0.267624  \n",
       "PreferredLoginDevice                                  0.147620  \n",
       "CityTier                                             -0.042998  \n",
       "WarehouseToHome                                      -0.076574  \n",
       "Gender                                                0.033147  \n",
       "HourSpendOnApp                                       -0.024765  \n",
       "NumberOfDeviceRegistered                              0.021423  \n",
       "SatisfactionScore                                     0.001442  \n",
       "MaritalStatus                                         0.008882  \n",
       "NumberOfAddress                                       0.051002  \n",
       "Complain                                             -0.013429  \n",
       "OrderAmountHikeFromlastYear                          -0.051031  \n",
       "CouponUsed                                            0.068419  \n",
       "OrderCount                                            0.125004  \n",
       "DaySinceLastOrder                                     0.179992  \n",
       "CashbackAmount                                        0.488264  \n",
       "PreferredPaymentMode_CC                              -0.050072  \n",
       "PreferredPaymentMode_COD                             -0.058401  \n",
       "PreferredPaymentMode_Cash on Delivery                 0.026240  \n",
       "PreferredPaymentMode_Credit Card                      0.044871  \n",
       "PreferredPaymentMode_Debit Card                      -0.014527  \n",
       "PreferredPaymentMode_E wallet                         0.003257  \n",
       "PreferredPaymentMode_UPI                              0.027641  \n",
       "PreferedOrderCat_Fashion                             -0.091974  \n",
       "PreferedOrderCat_Grocery                             -0.062163  \n",
       "PreferedOrderCat_Laptop & Accessory                  -0.167846  \n",
       "PreferedOrderCat_Mobile                              -0.090862  \n",
       "PreferedOrderCat_Mobile Phone                        -0.119772  \n",
       "PreferedOrderCat_Others                               1.000000  \n",
       "\n",
       "[30 rows x 30 columns]"
      ]
     },
     "execution_count": 161,
     "metadata": {},
     "output_type": "execute_result"
    }
   ],
   "source": [
    "df.corr()"
   ]
  },
  {
   "cell_type": "code",
   "execution_count": 162,
   "id": "e32b76c8",
   "metadata": {},
   "outputs": [
    {
     "data": {
      "text/plain": [
       "<AxesSubplot: >"
      ]
     },
     "execution_count": 162,
     "metadata": {},
     "output_type": "execute_result"
    },
    {
     "data": {
      "image/png": "[encoded data removed]",
      "text/plain": [
       "<Figure size 2000x500 with 2 Axes>"
      ]
     },
     "metadata": {},
     "output_type": "display_data"
    }
   ],
   "source": [
    "plt.figure(figsize=(20,5))\n",
    "sns.heatmap(df.corr().head(1),annot=True)"
   ]
  },
  {
   "cell_type": "code",
   "execution_count": null,
   "id": "038b206d",
   "metadata": {},
   "outputs": [],
   "source": []
  },
  {
   "cell_type": "code",
   "execution_count": null,
   "id": "becf278a",
   "metadata": {},
   "outputs": [],
   "source": []
  },
  {
   "cell_type": "code",
   "execution_count": null,
   "id": "c5442672",
   "metadata": {},
   "outputs": [],
   "source": []
  },
  {
   "cell_type": "code",
   "execution_count": null,
   "id": "e44f01fd",
   "metadata": {},
   "outputs": [],
   "source": []
  },
  {
   "cell_type": "code",
   "execution_count": null,
   "id": "aedaa980",
   "metadata": {},
   "outputs": [],
   "source": []
  },
  {
   "cell_type": "code",
   "execution_count": null,
   "id": "20993f98",
   "metadata": {},
   "outputs": [],
   "source": []
  },
  {
   "cell_type": "code",
   "execution_count": null,
   "id": "0832889f",
   "metadata": {},
   "outputs": [],
   "source": []
  },
  {
   "cell_type": "code",
   "execution_count": null,
   "id": "d6f23d0d",
   "metadata": {},
   "outputs": [],
   "source": []
  },
  {
   "cell_type": "markdown",
   "id": "307fe9c3",
   "metadata": {},
   "source": [
    "### 6.Train Test Split"
   ]
  },
  {
   "cell_type": "code",
   "execution_count": 148,
   "id": "475718e2",
   "metadata": {},
   "outputs": [],
   "source": [
    "x = df.drop('Churn',axis=1)\n",
    "y = df['Churn']"
   ]
  },
  {
   "cell_type": "code",
   "execution_count": 149,
   "id": "9e251647",
   "metadata": {},
   "outputs": [],
   "source": [
    "from sklearn.model_selection import  train_test_split"
   ]
  },
  {
   "cell_type": "code",
   "execution_count": 150,
   "id": "bb72c850",
   "metadata": {},
   "outputs": [],
   "source": [
    "x_train,x_test,y_train,y_test = train_test_split(x,y,test_size=0.2,random_state=7,stratify=y)"
   ]
  },
  {
   "cell_type": "code",
   "execution_count": null,
   "id": "0dbf87c6",
   "metadata": {},
   "outputs": [],
   "source": []
  },
  {
   "cell_type": "code",
   "execution_count": null,
   "id": "008eed97",
   "metadata": {},
   "outputs": [],
   "source": []
  },
  {
   "cell_type": "code",
   "execution_count": null,
   "id": "d360b378",
   "metadata": {},
   "outputs": [],
   "source": []
  },
  {
   "cell_type": "markdown",
   "id": "fc193fd3",
   "metadata": {},
   "source": [
    "### 7.Model Training"
   ]
  },
  {
   "cell_type": "code",
   "execution_count": null,
   "id": "9ae48699",
   "metadata": {},
   "outputs": [],
   "source": [
    "1. Decision Tree\n",
    "2. Random Forest\n",
    "3. Adaboost\n",
    "4. SVM"
   ]
  },
  {
   "cell_type": "markdown",
   "id": "ea109f1b",
   "metadata": {},
   "source": [
    "#### Decision Tree"
   ]
  },
  {
   "cell_type": "code",
   "execution_count": 151,
   "id": "af87a670",
   "metadata": {},
   "outputs": [
    {
     "name": "stdout",
     "output_type": "stream",
     "text": [
      "Training Accuracy:  1.0\n",
      "Testing Accuracy:  0.9511545293072824\n"
     ]
    }
   ],
   "source": [
    "dt_clf = DecisionTreeClassifier(random_state=7)\n",
    "dt_clf.fit(x_train,y_train)\n",
    "\n",
    "print(\"Training Accuracy: \",dt_clf.score(x_train,y_train))\n",
    "print(\"Testing Accuracy: \",dt_clf.score(x_test,y_test))"
   ]
  },
  {
   "cell_type": "code",
   "execution_count": 152,
   "id": "625489cf",
   "metadata": {},
   "outputs": [
    {
     "data": {
      "text/plain": [
       "<AxesSubplot: >"
      ]
     },
     "execution_count": 152,
     "metadata": {},
     "output_type": "execute_result"
    },
    {
     "data": {
      "image/png": "[encoded data removed]",
      "text/plain": [
       "<Figure size 640x480 with 1 Axes>"
      ]
     },
     "metadata": {},
     "output_type": "display_data"
    }
   ],
   "source": [
    "s1 = pd.Series(dt_clf.feature_importances_,index=x_train.columns)\n",
    "s1.sort_values().plot(kind='barh')"
   ]
  },
  {
   "cell_type": "code",
   "execution_count": null,
   "id": "24334ba0",
   "metadata": {},
   "outputs": [],
   "source": []
  },
  {
   "cell_type": "code",
   "execution_count": null,
   "id": "d3766aba",
   "metadata": {},
   "outputs": [],
   "source": []
  },
  {
   "cell_type": "code",
   "execution_count": null,
   "id": "07f57d8c",
   "metadata": {},
   "outputs": [],
   "source": []
  },
  {
   "cell_type": "code",
   "execution_count": null,
   "id": "78e232a0",
   "metadata": {},
   "outputs": [],
   "source": []
  },
  {
   "cell_type": "code",
   "execution_count": null,
   "id": "33948fbf",
   "metadata": {},
   "outputs": [],
   "source": [
    "x_train.shape"
   ]
  },
  {
   "cell_type": "code",
   "execution_count": null,
   "id": "e306320b",
   "metadata": {},
   "outputs": [],
   "source": [
    "x_test.shape"
   ]
  },
  {
   "cell_type": "markdown",
   "id": "a436eef5",
   "metadata": {},
   "source": [
    "#### SVM"
   ]
  },
  {
   "cell_type": "code",
   "execution_count": 163,
   "id": "e0c1b4d4",
   "metadata": {
    "scrolled": true
   },
   "outputs": [
    {
     "name": "stdout",
     "output_type": "stream",
     "text": [
      "Training Accuracy:  0.8317051509769094\n",
      "Testing Accuracy:  0.8312611012433393\n"
     ]
    }
   ],
   "source": [
    "svm_clf = SVC(random_state=7)\n",
    "svm_clf.fit(x_train,y_train)\n",
    "\n",
    "scaler = StandardScaler()\n",
    "x_train_scaled = pd.DataFrame(scaler.fit_transform(x_train),columns=x_train.columns)\n",
    "x_test_scaled = pd.DataFrame(scaler.fit_transform(x_test),columns=x_train.columns)\n",
    "\n",
    "print(\"Training Accuracy: \",svm_clf.score(x_train_scaled,y_train))\n",
    "print(\"Testing Accuracy: \",svm_clf.score(x_test_scaled,y_test))"
   ]
  },
  {
   "cell_type": "code",
   "execution_count": 164,
   "id": "feebb5d7",
   "metadata": {},
   "outputs": [
    {
     "name": "stdout",
     "output_type": "stream",
     "text": [
      "Classification report:\n",
      "                precision    recall  f1-score   support\n",
      "\n",
      "           0       0.83      1.00      0.91       936\n",
      "           1       0.00      0.00      0.00       190\n",
      "\n",
      "    accuracy                           0.83      1126\n",
      "   macro avg       0.42      0.50      0.45      1126\n",
      "weighted avg       0.69      0.83      0.75      1126\n",
      "\n"
     ]
    },
    {
     "data": {
      "text/plain": [
       "<sklearn.metrics._plot.confusion_matrix.ConfusionMatrixDisplay at 0x1a79a3ea4c0>"
      ]
     },
     "execution_count": 164,
     "metadata": {},
     "output_type": "execute_result"
    },
    {
     "data": {
      "image/png": "[encoded data removed]",
      "text/plain": [
       "<Figure size 640x480 with 2 Axes>"
      ]
     },
     "metadata": {},
     "output_type": "display_data"
    }
   ],
   "source": [
    "y_pred = svm_clf.predict(x_test)\n",
    "\n",
    "clf_report = classification_report(y_test,y_pred)\n",
    "print(\"Classification report:\\n \",clf_report)\n",
    "\n",
    "cnf_matrix = confusion_matrix(y_test,y_pred)\n",
    "\n",
    "ConfusionMatrixDisplay(cnf_matrix).plot()"
   ]
  },
  {
   "cell_type": "code",
   "execution_count": null,
   "id": "167e1b16",
   "metadata": {},
   "outputs": [],
   "source": [
    "hyperparameter = {\"C\":np.arange(1,30),\n",
    "                 \"kernel\":['linear', 'poly', 'rbf', 'sigmoid']}"
   ]
  },
  {
   "cell_type": "code",
   "execution_count": null,
   "id": "d0a63683",
   "metadata": {},
   "outputs": [],
   "source": [
    "svm_clf = SVC(random_state=7)\n",
    "gscv_svm_clf = GridSearchCV(svm_clf,hyperparameter,cv=5,n_jobs=-1)\n",
    "gscv_svm_clf.fit(x_train_scaled,y_train)\n",
    "gscv_svm_clf.best_estimator_"
   ]
  },
  {
   "cell_type": "code",
   "execution_count": null,
   "id": "0a53e68d",
   "metadata": {},
   "outputs": [],
   "source": [
    "svm_clf = gscv_svm_clf.best_estimator_\n",
    "svm_clf.fit(x_train_scaled,y_train)\n",
    "\n",
    "print(\"Training Accuracy: \",svm_clf.score(x_train_scaled,y_train))\n",
    "print(\"Testing Accuracy: \",svm_clf.score(x_test_scaled,y_test))"
   ]
  },
  {
   "cell_type": "code",
   "execution_count": null,
   "id": "7ac9e5b8",
   "metadata": {},
   "outputs": [],
   "source": []
  },
  {
   "cell_type": "markdown",
   "id": "72676031",
   "metadata": {},
   "source": [
    "#### Random Forest"
   ]
  },
  {
   "cell_type": "code",
   "execution_count": 155,
   "id": "bafb96d6",
   "metadata": {},
   "outputs": [
    {
     "name": "stdout",
     "output_type": "stream",
     "text": [
      "Training Accuracy:  1.0\n",
      "Testing Accuracy:  0.9609236234458259\n"
     ]
    }
   ],
   "source": [
    "rf_clf = RandomForestClassifier(random_state=7)\n",
    "rf_clf.fit(x_train,y_train)\n",
    "\n",
    "print(\"Training Accuracy: \",rf_clf.score(x_train,y_train))\n",
    "print(\"Testing Accuracy: \",rf_clf.score(x_test,y_test))"
   ]
  },
  {
   "cell_type": "code",
   "execution_count": null,
   "id": "31ec7ff1",
   "metadata": {},
   "outputs": [],
   "source": [
    "hyperparamter = {\n",
    "                \"criterion\" : ['gini','entropy'],\n",
    "                \"max_depth\": np.arange(3,10),\n",
    "                \"min_samples_split\": np.arange(3,10),\n",
    "                \"min_samples_leaf\":np.arange(1,5),\n",
    "                }\n",
    "\n"
   ]
  },
  {
   "cell_type": "code",
   "execution_count": null,
   "id": "0bd161e2",
   "metadata": {},
   "outputs": [],
   "source": [
    "rf_clf = RandomForestClassifier(random_state=7,n_jobs=-1)\n",
    "gscv_rf_clf = GridSearchCV(rf_clf,hyperparamter,cv=5,n_jobs=-1)\n",
    "gscv_rf_clf.fit(x_train,y_train)\n",
    "gscv_rf_clf.best_estimator_\n",
    "\n"
   ]
  },
  {
   "cell_type": "code",
   "execution_count": null,
   "id": "91da9dfc",
   "metadata": {},
   "outputs": [],
   "source": [
    "rf_clf = gscv_rf_clf.best_estimator_\n",
    "rf_clf.fit(x_train,y_train)\n",
    "\n",
    "print(\"Training Accuracy: \",rf_clf.score(x_train,y_train))\n",
    "print(\"Testing Accuracy: \",rf_clf.score(x_test,y_test))"
   ]
  },
  {
   "cell_type": "code",
   "execution_count": null,
   "id": "8e7c71df",
   "metadata": {},
   "outputs": [],
   "source": []
  },
  {
   "cell_type": "markdown",
   "id": "3ad25253",
   "metadata": {},
   "source": [
    "#### Adaboost"
   ]
  },
  {
   "cell_type": "code",
   "execution_count": 157,
   "id": "63bc35b7",
   "metadata": {},
   "outputs": [
    {
     "name": "stdout",
     "output_type": "stream",
     "text": [
      "Training Accuracy:  0.9047513321492007\n",
      "Testing Accuracy:  0.9058614564831261\n"
     ]
    }
   ],
   "source": [
    "ada_clf = AdaBoostClassifier()\n",
    "\n",
    "ada_clf.fit(x_train,y_train)\n",
    "\n",
    "print(\"Training Accuracy: \",ada_clf.score(x_train,y_train))\n",
    "print(\"Testing Accuracy: \",ada_clf.score(x_test,y_test))"
   ]
  },
  {
   "cell_type": "code",
   "execution_count": null,
   "id": "287b54d8",
   "metadata": {},
   "outputs": [],
   "source": []
  },
  {
   "cell_type": "code",
   "execution_count": null,
   "id": "e7382312",
   "metadata": {},
   "outputs": [],
   "source": []
  },
  {
   "cell_type": "code",
   "execution_count": null,
   "id": "90d02f2a",
   "metadata": {},
   "outputs": [],
   "source": []
  },
  {
   "cell_type": "code",
   "execution_count": null,
   "id": "e8b5097c",
   "metadata": {},
   "outputs": [],
   "source": []
  },
  {
   "cell_type": "markdown",
   "id": "b281dc53",
   "metadata": {},
   "source": [
    "### 8.Model Evaluation"
   ]
  },
  {
   "cell_type": "code",
   "execution_count": null,
   "id": "a505dd72",
   "metadata": {},
   "outputs": [],
   "source": []
  },
  {
   "cell_type": "code",
   "execution_count": null,
   "id": "6dd3d44b",
   "metadata": {},
   "outputs": [],
   "source": []
  },
  {
   "cell_type": "code",
   "execution_count": null,
   "id": "46c365a7",
   "metadata": {},
   "outputs": [],
   "source": []
  },
  {
   "cell_type": "code",
   "execution_count": null,
   "id": "07aed9c7",
   "metadata": {},
   "outputs": [],
   "source": []
  },
  {
   "cell_type": "code",
   "execution_count": null,
   "id": "a8d3c2d5",
   "metadata": {},
   "outputs": [],
   "source": []
  },
  {
   "cell_type": "code",
   "execution_count": null,
   "id": "cf12029c",
   "metadata": {},
   "outputs": [],
   "source": []
  },
  {
   "cell_type": "code",
   "execution_count": null,
   "id": "c207afa2",
   "metadata": {},
   "outputs": [],
   "source": []
  },
  {
   "cell_type": "markdown",
   "id": "4d51c5d7",
   "metadata": {},
   "source": [
    "### 9.Best Model Selection"
   ]
  },
  {
   "cell_type": "code",
   "execution_count": null,
   "id": "16f2f169",
   "metadata": {},
   "outputs": [],
   "source": []
  },
  {
   "cell_type": "code",
   "execution_count": null,
   "id": "5562aab4",
   "metadata": {},
   "outputs": [],
   "source": []
  },
  {
   "cell_type": "code",
   "execution_count": null,
   "id": "8618bd82",
   "metadata": {},
   "outputs": [],
   "source": []
  },
  {
   "cell_type": "code",
   "execution_count": null,
   "id": "0a4f2b0e",
   "metadata": {},
   "outputs": [],
   "source": []
  },
  {
   "cell_type": "code",
   "execution_count": null,
   "id": "74e2c71a",
   "metadata": {},
   "outputs": [],
   "source": []
  },
  {
   "cell_type": "code",
   "execution_count": null,
   "id": "777ee728",
   "metadata": {},
   "outputs": [],
   "source": []
  },
  {
   "cell_type": "markdown",
   "id": "8452b244",
   "metadata": {},
   "source": [
    "### 10. Model Deployment"
   ]
  },
  {
   "cell_type": "markdown",
   "id": "df034a43",
   "metadata": {},
   "source": [
    "### 10.1 Save Model"
   ]
  },
  {
   "cell_type": "code",
   "execution_count": null,
   "id": "a8bac19a",
   "metadata": {},
   "outputs": [],
   "source": []
  },
  {
   "cell_type": "markdown",
   "id": "4384e51b",
   "metadata": {},
   "source": [
    "### 10.2 Save Model Data "
   ]
  },
  {
   "cell_type": "code",
   "execution_count": null,
   "id": "9994dd93",
   "metadata": {},
   "outputs": [],
   "source": []
  },
  {
   "cell_type": "code",
   "execution_count": null,
   "id": "1279785d",
   "metadata": {},
   "outputs": [],
   "source": [
    "import sweetviz as sw"
   ]
  },
  {
   "cell_type": "code",
   "execution_count": null,
   "id": "0508e2bc",
   "metadata": {},
   "outputs": [],
   "source": [
    "report  = sw.analyze(df)\n",
    "report.show_html(\"E_commerce.html\")"
   ]
  },
  {
   "cell_type": "code",
   "execution_count": null,
   "id": "80499650",
   "metadata": {},
   "outputs": [],
   "source": []
  }
 ],
 "metadata": {
  "kernelspec": {
   "display_name": "Python 3 (ipykernel)",
   "language": "python",
   "name": "python3"
  },
  "language_info": {
   "codemirror_mode": {
    "name": "ipython",
    "version": 3
   },
   "file_extension": ".py",
   "mimetype": "text/x-python",
   "name": "python",
   "nbconvert_exporter": "python",
   "pygments_lexer": "ipython3",
   "version": "3.9.16"
  }
 },
 "nbformat": 4,
 "nbformat_minor": 5
}
